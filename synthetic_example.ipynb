{
 "cells": [
  {
   "cell_type": "markdown",
   "id": "5bb2c7cd-5a40-484c-9637-c4f2f6651a19",
   "metadata": {},
   "source": [
    "# Raking in 2D\n",
    "\n",
    "This notebook explains how to use the raking method on a small 2D example."
   ]
  },
  {
   "cell_type": "code",
   "execution_count": 1,
   "id": "0598f2c0-d7d2-4d90-a9ac-cca47125636e",
   "metadata": {},
   "outputs": [],
   "source": [
    "# Python modules\n",
    "import altair as alt\n",
    "import numpy as np\n",
    "import pandas as pd\n",
    "from scipy.linalg import lu_factor, lu_solve\n",
    "from scipy.sparse.linalg import cg\n",
    "from statistics import covariance"
   ]
  },
  {
   "cell_type": "code",
   "execution_count": 2,
   "id": "6f50dae6-3c54-48fa-82cc-6d249d24c86f",
   "metadata": {},
   "outputs": [],
   "source": [
    "# Parameters\n",
    "N = 10000 # Number of samples for Monte Carlo method"
   ]
  },
  {
   "cell_type": "markdown",
   "id": "e4c49ef3-9502-4fde-9d65-a07fb06587c5",
   "metadata": {},
   "source": [
    "## Generating the data\n",
    "\n",
    "We first begin by generating a balanced $3 \\times 5$ matrix. We compute the corresponding margins and then we add noise to the data. This way we have margins that sum correctly (thus the raking problem indeed has a solution), but we avoid having observations that already match the margins before the raking. "
   ]
  },
  {
   "cell_type": "code",
   "execution_count": 3,
   "id": "bcb3d946-404f-4a55-ae2a-73fadb9ad25d",
   "metadata": {},
   "outputs": [],
   "source": [
    "# Define variables and margins names\n",
    "x1 = [1, 2, 3, 1, 2, 3, 1, 2, 3, 1, 2, 3, 1, 2, 3]\n",
    "x2 = [1, 1, 1, 2, 2, 2, 3, 3, 3, 4, 4, 4, 5, 5, 5]\n",
    "margins = ['s1_1', 's1_2', 's1_3', 's1_4', 's1_5', 's2_1', 's2_2']\n",
    "\n",
    "# Generate balanced table\n",
    "rng = np.random.default_rng(0)\n",
    "beta_ij = rng.uniform(low=2.0, high=3.0, size=(3, 5))\n",
    "\n",
    "# Compute the margins\n",
    "s1 = np.sum(beta_ij, axis=0)\n",
    "s2 = np.sum(beta_ij, axis=1)\n",
    "\n",
    "# Add noise to the data\n",
    "mean = beta_ij.flatten(order='F') + rng.normal(0.0, 0.1, size=15)"
   ]
  },
  {
   "cell_type": "markdown",
   "id": "167a5da2-5a7a-4bb9-9324-b34dace83fe1",
   "metadata": {},
   "source": [
    "We then generate samples for the observations in order to be able to compare the two methods of uncertainty propagation (Monte Carlo and combination of delta method and implicit function theorem)."
   ]
  },
  {
   "cell_type": "code",
   "execution_count": 4,
   "id": "5bd3f668-8856-4aa0-8800-79aebf05b0cd",
   "metadata": {},
   "outputs": [],
   "source": [
    "# Define the covariance matrix of the observations\n",
    "cov = 0.01 * np.ones((15, 15))\n",
    "np.fill_diagonal(cov, np.arange(0.01, 0.16, 0.01))\n",
    "\n",
    "# Generate samples\n",
    "y = rng.multivariate_normal(mean, cov, N)"
   ]
  },
  {
   "cell_type": "markdown",
   "id": "6768874a-6791-48c3-8ce2-9646934b86bb",
   "metadata": {},
   "source": [
    "## Applying the raking procedure to the mean of the observations\n",
    "\n",
    "We start by computing the constraint matrix and the margin vector."
   ]
  },
  {
   "cell_type": "code",
   "execution_count": 5,
   "id": "a45250c8-bad2-4d58-bee3-0d27d8085e54",
   "metadata": {},
   "outputs": [],
   "source": [
    "def constraints_2D(s1, s2, I, J):\n",
    "    A = np.zeros((J + I - 1, I * J))\n",
    "    for j in range(0, J):\n",
    "        for i in range(0, I - 1):\n",
    "            A[J + i, j * I + i] = 1\n",
    "            A[j, j * I + i] = 1\n",
    "        A[j, j * I + I - 1] = 1\n",
    "    s = np.concatenate([s1, s2[0:(I - 1)]])\n",
    "    return (A, s)"
   ]
  },
  {
   "cell_type": "code",
   "execution_count": 6,
   "id": "2353d5ef-1f83-4be5-bce5-8d521d85b5d9",
   "metadata": {},
   "outputs": [],
   "source": [
    "(A, s) = constraints_2D(s1, s2, 3, 5)"
   ]
  },
  {
   "cell_type": "markdown",
   "id": "d485e260-a865-4fc4-a3aa-993c69231aa0",
   "metadata": {},
   "source": [
    "We then compute the mean of the observations and rake the mean using the $\\chi^2$ distance."
   ]
  },
  {
   "cell_type": "code",
   "execution_count": 7,
   "id": "3b8807fc-ab1e-4a14-b06a-24448340e4f7",
   "metadata": {},
   "outputs": [],
   "source": [
    "y_0 = np.mean(y, 0)"
   ]
  },
  {
   "cell_type": "code",
   "execution_count": 8,
   "id": "98022d31-ec68-4e0f-a3e1-c603912da793",
   "metadata": {},
   "outputs": [],
   "source": [
    "def raking_chi2_distance(y, q, A, s):\n",
    "    M = np.shape(A)[0]\n",
    "    N = np.shape(A)[1]\n",
    "    y_hat = np.matmul(A, y)\n",
    "    Phi = np.matmul(A, np.transpose(A * y * q))\n",
    "    lambda_k = cg(Phi, y_hat - s)[0]\n",
    "    beta = y * (1 - q * np.matmul(np.transpose(A), lambda_k))\n",
    "    return (beta, lambda_k)"
   ]
  },
  {
   "cell_type": "code",
   "execution_count": 9,
   "id": "bcdcb6bf-ddef-472f-9d42-41c72c85d2f2",
   "metadata": {},
   "outputs": [],
   "source": [
    "(beta_0, lambda_k) = raking_chi2_distance(y_0, np.ones(15), A, s)"
   ]
  },
  {
   "cell_type": "markdown",
   "id": "34733a53-35ea-43d0-ad77-9a3ae45b386f",
   "metadata": {},
   "source": [
    "We can verify that the solution of the raking problem verify the constraints:\n",
    "\n",
    "$A \\beta_0 = s$"
   ]
  },
  {
   "cell_type": "code",
   "execution_count": 10,
   "id": "9930847f-c8e4-4337-adb5-693644749e59",
   "metadata": {},
   "outputs": [
    {
     "data": {
      "text/plain": [
       "True"
      ]
     },
     "execution_count": 10,
     "metadata": {},
     "output_type": "execute_result"
    }
   ],
   "source": [
    "np.allclose(np.matmul(A, beta_0), s)"
   ]
  },
  {
   "cell_type": "markdown",
   "id": "fbbfa4dd-8fda-4895-87dd-6fea471b2f8f",
   "metadata": {},
   "source": [
    "We store the results into a dataframe for plotting."
   ]
  },
  {
   "cell_type": "code",
   "execution_count": 11,
   "id": "a5ad4fc9-c6cd-4852-a7c7-032e7d6e045e",
   "metadata": {},
   "outputs": [],
   "source": [
    "df_raked = pd.DataFrame({'X1': x1, \\\n",
    "                         'X2': x2, \\\n",
    "                         'observations': y_0, \\\n",
    "                         'raked_values': beta_0})"
   ]
  },
  {
   "cell_type": "markdown",
   "id": "60001bd2-0b08-4030-a071-600e1df280ee",
   "metadata": {},
   "source": [
    "## Propagate the uncertainties using Delta method and IFT\n",
    "\n",
    "We start by computing the gradient of the raked values with respect to the observations $y$: $\\frac{\\partial \\beta}{\\partial y}$ and the gradient of the raked values with respect to the margins $s$: $\\frac{\\partial \\beta}{\\partial s}$ using the implicit function theorem."
   ]
  },
  {
   "cell_type": "code",
   "execution_count": 12,
   "id": "b6a99251-35d6-4eca-aeb0-a571c62e126b",
   "metadata": {},
   "outputs": [],
   "source": [
    "def compute_gradient(beta_0, lambda_0, y, q, A):\n",
    "    M = np.shape(A)[0]\n",
    "    N = np.shape(A)[1]\n",
    "    # Hessian of the distance function\n",
    "    H1_beta = np.diag(1.0 / (q * y))\n",
    "    H1_y = np.diag(- beta_0 / (q * np.square(y)))\n",
    "    # Gradient with respect to beta and lambda\n",
    "    H1_lambda = np.transpose(np.copy(A))\n",
    "    H2_beta = np.copy(A)\n",
    "    H2_lambda = np.zeros((M, M))    \n",
    "    DH_beta_lambda = np.concatenate(( \\\n",
    "        np.concatenate((H1_beta, H1_lambda), axis=1), \\\n",
    "        np.concatenate((H2_beta, H2_lambda), axis=1)), axis=0)\n",
    "    # Gradient with respect to y and s\n",
    "    H1_s = np.zeros((N, M))\n",
    "    H2_y = np.zeros((M, N))\n",
    "    H2_s = - np.identity(M)    \n",
    "    DH_y_s = np.concatenate(( \\\n",
    "        np.concatenate((H1_y, H1_s), axis=1), \\\n",
    "        np.concatenate((H2_y, H2_s), axis=1)), axis=0)\n",
    "    # Solve the system\n",
    "    Dh = np.zeros_like(DH_y_s)\n",
    "    lu, piv = lu_factor(DH_beta_lambda)\n",
    "    for i in range(0, N + M):\n",
    "        Dh[:, i] = - lu_solve((lu, piv), DH_y_s[:, i])\n",
    "    # Get the gradient\n",
    "    dh_y = Dh[0:N, 0:N]\n",
    "    dh_s = Dh[0:N, N:(N + M)]\n",
    "    return (dh_y, dh_s)"
   ]
  },
  {
   "cell_type": "code",
   "execution_count": 13,
   "id": "2b31d9a6-755e-4071-8412-d6b4ee9bb502",
   "metadata": {},
   "outputs": [],
   "source": [
    "(dh_y, dh_s) = compute_gradient(beta_0, lambda_k, y_0, np.ones(15), A)"
   ]
  },
  {
   "cell_type": "markdown",
   "id": "f84d8984-37f7-4fed-87ca-6a96fb46c2f2",
   "metadata": {},
   "source": [
    "We store the results into a dataframe for plotting."
   ]
  },
  {
   "cell_type": "code",
   "execution_count": 14,
   "id": "9af1b4a1-0cec-4518-8d09-9ae39cfd0049",
   "metadata": {},
   "outputs": [],
   "source": [
    "df_y = []\n",
    "df_s = []\n",
    "for i in range(0, 15):\n",
    "    df_y.append(pd.DataFrame({'raked_1': np.repeat(x1[i], 15), \\\n",
    "                              'raked_2': np.repeat(x2[i], 15), \\\n",
    "                              'X1': x1, \\\n",
    "                              'X2': x2, \\\n",
    "                              'grad_y': dh_y[i, :]}))\n",
    "    df_s.append(pd.DataFrame({'raked_1': np.repeat(x1[i], 7), \\\n",
    "                              'raked_2': np.repeat(x2[i], 7), \\\n",
    "                              'margins': margins, \\\n",
    "                              'grad_s': dh_s[i, :]}))\n",
    "df_y = pd.concat(df_y)\n",
    "df_s = pd.concat(df_s)"
   ]
  },
  {
   "cell_type": "markdown",
   "id": "92f2f1fc-973f-4307-a533-7405b6f37f42",
   "metadata": {},
   "source": [
    "Then we compute the covariance matrix of the raked values using the Delta method."
   ]
  },
  {
   "cell_type": "code",
   "execution_count": 15,
   "id": "a55a044b-398c-4528-affe-7c0072684b77",
   "metadata": {},
   "outputs": [],
   "source": [
    "covariance_mean = np.matmul(dh_y, np.matmul(cov, np.transpose(dh_y)))"
   ]
  },
  {
   "cell_type": "markdown",
   "id": "388655ae-7803-4079-824a-560132ba7285",
   "metadata": {},
   "source": [
    "## Monte Carlo simulation"
   ]
  },
  {
   "cell_type": "markdown",
   "id": "46197d1f-272e-43f3-999d-eca650b01369",
   "metadata": {},
   "source": [
    "We first apply the raking procedure to each sample."
   ]
  },
  {
   "cell_type": "code",
   "execution_count": 17,
   "id": "c908afb2-a950-4188-9697-9b959a2807b7",
   "metadata": {},
   "outputs": [],
   "source": [
    "beta = np.zeros((N, 15))\n",
    "for n in range(0, N):\n",
    "    y_n = y[n, :]\n",
    "    (beta_n, lambda_k) = raking_chi2_distance(y_n, np.ones(15), A, s)\n",
    "    beta[n, :] = beta_n"
   ]
  },
  {
   "cell_type": "markdown",
   "id": "2025b846-bc95-4eeb-8def-6b83655754f9",
   "metadata": {},
   "source": [
    "We compute the mean of the raked values."
   ]
  },
  {
   "cell_type": "code",
   "execution_count": 19,
   "id": "20c2ea44-bc7b-43d8-8091-4d6648b0f83b",
   "metadata": {},
   "outputs": [],
   "source": [
    "mean_draws = np.mean(beta, 0)"
   ]
  },
  {
   "cell_type": "markdown",
   "id": "805865ce-aa19-4f9d-a9c7-a6a8d9a8e3ea",
   "metadata": {},
   "source": [
    "We compute the variance of the raked values."
   ]
  },
  {
   "cell_type": "code",
   "execution_count": 20,
   "id": "8bbc4da2-300f-49c9-9455-ed8c4e211e22",
   "metadata": {},
   "outputs": [],
   "source": [
    "covariance_draws = np.matmul(np.transpose(beta - mean_draws), beta - mean_draws) / (N - 1)"
   ]
  },
  {
   "cell_type": "markdown",
   "id": "c4145845-4be9-4134-ba91-5aa7d731feee",
   "metadata": {},
   "source": [
    "## Plots"
   ]
  },
  {
   "cell_type": "code",
   "execution_count": 21,
   "id": "49ff5b81-86e0-48fb-92f3-084178cd1c52",
   "metadata": {},
   "outputs": [],
   "source": [
    "initial = pd.DataFrame({'X1': x1, \\\n",
    "                         'X2': x2, \\\n",
    "                         'variance': np.arange(0.01, 0.16, 0.01)})\n",
    "variance = pd.DataFrame({'X1': x1, \\\n",
    "                         'X2': x2, \\\n",
    "                         'variance': np.diag(covariance_mean)})\n",
    "df_obs = df_raked.drop(columns=['raked_values']).rename(columns={'observations': 'Value'})\n",
    "df_obs['Type'] = 'Initial'\n",
    "df_obs['width'] = 1\n",
    "df_obs = df_obs.merge(initial, how='inner', \\\n",
    "    left_on=['X1', 'X2'], \\\n",
    "    right_on=['X1', 'X2'])\n",
    "df_raked = df_raked.drop(columns=['observations']).rename(columns={'raked_values': 'Value'})\n",
    "df_raked['Type'] = 'Raked'\n",
    "df_raked['width'] = 2\n",
    "df_raked = df_raked.merge(variance, how='inner', \\\n",
    "    left_on=['X1', 'X2'], \\\n",
    "    right_on=['X1', 'X2'])\n",
    "df_raked = pd.concat([df_obs, df_raked])\n",
    "df_raked['Upper'] = df_raked['Value'] + np.sqrt(df_raked['variance'])\n",
    "df_raked['Lower'] = df_raked['Value'] - np.sqrt(df_raked['variance'])"
   ]
  },
  {
   "cell_type": "code",
   "execution_count": 22,
   "id": "121b74cd-7709-44fd-aed6-08314cbc6518",
   "metadata": {},
   "outputs": [
    {
     "data": {
      "text/html": [
       "\n",
       "<style>\n",
       "  #altair-viz-c2a994783149442c97d7c57d1b33548e.vega-embed {\n",
       "    width: 100%;\n",
       "    display: flex;\n",
       "  }\n",
       "\n",
       "  #altair-viz-c2a994783149442c97d7c57d1b33548e.vega-embed details,\n",
       "  #altair-viz-c2a994783149442c97d7c57d1b33548e.vega-embed details summary {\n",
       "    position: relative;\n",
       "  }\n",
       "</style>\n",
       "<div id=\"altair-viz-c2a994783149442c97d7c57d1b33548e\"></div>\n",
       "<script type=\"text/javascript\">\n",
       "  var VEGA_DEBUG = (typeof VEGA_DEBUG == \"undefined\") ? {} : VEGA_DEBUG;\n",
       "  (function(spec, embedOpt){\n",
       "    let outputDiv = document.currentScript.previousElementSibling;\n",
       "    if (outputDiv.id !== \"altair-viz-c2a994783149442c97d7c57d1b33548e\") {\n",
       "      outputDiv = document.getElementById(\"altair-viz-c2a994783149442c97d7c57d1b33548e\");\n",
       "    }\n",
       "    const paths = {\n",
       "      \"vega\": \"https://cdn.jsdelivr.net/npm/vega@5?noext\",\n",
       "      \"vega-lib\": \"https://cdn.jsdelivr.net/npm/vega-lib?noext\",\n",
       "      \"vega-lite\": \"https://cdn.jsdelivr.net/npm/vega-lite@5.17.0?noext\",\n",
       "      \"vega-embed\": \"https://cdn.jsdelivr.net/npm/vega-embed@6?noext\",\n",
       "    };\n",
       "\n",
       "    function maybeLoadScript(lib, version) {\n",
       "      var key = `${lib.replace(\"-\", \"\")}_version`;\n",
       "      return (VEGA_DEBUG[key] == version) ?\n",
       "        Promise.resolve(paths[lib]) :\n",
       "        new Promise(function(resolve, reject) {\n",
       "          var s = document.createElement('script');\n",
       "          document.getElementsByTagName(\"head\")[0].appendChild(s);\n",
       "          s.async = true;\n",
       "          s.onload = () => {\n",
       "            VEGA_DEBUG[key] = version;\n",
       "            return resolve(paths[lib]);\n",
       "          };\n",
       "          s.onerror = () => reject(`Error loading script: ${paths[lib]}`);\n",
       "          s.src = paths[lib];\n",
       "        });\n",
       "    }\n",
       "\n",
       "    function showError(err) {\n",
       "      outputDiv.innerHTML = `<div class=\"error\" style=\"color:red;\">${err}</div>`;\n",
       "      throw err;\n",
       "    }\n",
       "\n",
       "    function displayChart(vegaEmbed) {\n",
       "      vegaEmbed(outputDiv, spec, embedOpt)\n",
       "        .catch(err => showError(`Javascript Error: ${err.message}<br>This usually means there's a typo in your chart specification. See the javascript console for the full traceback.`));\n",
       "    }\n",
       "\n",
       "    if(typeof define === \"function\" && define.amd) {\n",
       "      requirejs.config({paths});\n",
       "      require([\"vega-embed\"], displayChart, err => showError(`Error loading script: ${err.message}`));\n",
       "    } else {\n",
       "      maybeLoadScript(\"vega\", \"5\")\n",
       "        .then(() => maybeLoadScript(\"vega-lite\", \"5.17.0\"))\n",
       "        .then(() => maybeLoadScript(\"vega-embed\", \"6\"))\n",
       "        .catch(showError)\n",
       "        .then(() => displayChart(vegaEmbed));\n",
       "    }\n",
       "  })({\"config\": {\"view\": {\"continuousWidth\": 300, \"continuousHeight\": 300}, \"axis\": {\"labelFontSize\": 24, \"titleFontSize\": 24}, \"legend\": {\"labelFontSize\": 24, \"titleFontSize\": 24}}, \"data\": {\"name\": \"data-74f2d163402a2eda134b9c9b0105932b\"}, \"facet\": {\"column\": {\"field\": \"X2\", \"header\": {\"labelFontSize\": 24, \"title\": \"X2\", \"titleFontSize\": 24}, \"type\": \"nominal\"}}, \"spec\": {\"layer\": [{\"mark\": {\"type\": \"point\", \"filled\": true}, \"encoding\": {\"color\": {\"field\": \"Type\", \"type\": \"nominal\"}, \"shape\": {\"field\": \"Type\", \"type\": \"nominal\"}, \"x\": {\"field\": \"Value\", \"type\": \"quantitative\"}, \"y\": {\"field\": \"X1\", \"type\": \"nominal\"}}}, {\"mark\": {\"type\": \"errorbar\", \"clip\": true, \"opacity\": 0.5}, \"encoding\": {\"color\": {\"field\": \"Type\", \"legend\": null, \"type\": \"nominal\"}, \"strokeWidth\": {\"field\": \"width\", \"legend\": null, \"type\": \"quantitative\"}, \"x\": {\"axis\": {\"title\": \"Raked value\"}, \"field\": \"Upper\", \"scale\": {\"zero\": false}, \"type\": \"quantitative\"}, \"x2\": {\"field\": \"Lower\"}, \"y\": {\"axis\": {\"title\": \"X1\"}, \"field\": \"X1\", \"type\": \"nominal\"}}}], \"resolve\": {\"scale\": {\"color\": \"independent\", \"shape\": \"independent\"}}}, \"$schema\": \"https://vega.github.io/schema/vega-lite/v5.17.0.json\", \"datasets\": {\"data-74f2d163402a2eda134b9c9b0105932b\": [{\"X1\": 1, \"X2\": 1, \"Value\": 2.564731374776421, \"Type\": \"Initial\", \"width\": 1, \"variance\": 0.01, \"Upper\": 2.664731374776421, \"Lower\": 2.464731374776421}, {\"X1\": 2, \"X2\": 1, \"Value\": 2.8591386927719675, \"Type\": \"Initial\", \"width\": 1, \"variance\": 0.02, \"Upper\": 3.000560049009277, \"Lower\": 2.717717336534658}, {\"X1\": 3, \"X2\": 1, \"Value\": 2.783270370626131, \"Type\": \"Initial\", \"width\": 1, \"variance\": 0.03, \"Upper\": 2.9564754513830187, \"Lower\": 2.6100652898692434}, {\"X1\": 1, \"X2\": 2, \"Value\": 2.311675462248435, \"Type\": \"Initial\", \"width\": 1, \"variance\": 0.04, \"Upper\": 2.511675462248435, \"Lower\": 2.1116754622484346}, {\"X1\": 2, \"X2\": 2, \"Value\": 2.709737942641081, \"Type\": \"Initial\", \"width\": 1, \"variance\": 0.05, \"Upper\": 2.93334474039106, \"Lower\": 2.4861311448911017}, {\"X1\": 3, \"X2\": 2, \"Value\": 1.9902555442770853, \"Type\": \"Initial\", \"width\": 1, \"variance\": 0.06, \"Upper\": 2.235204518555403, \"Lower\": 1.7453065699987675}, {\"X1\": 1, \"X2\": 3, \"Value\": 2.175037844490054, \"Type\": \"Initial\", \"width\": 1, \"variance\": 0.07, \"Upper\": 2.4396129755965132, \"Lower\": 1.910462713383595}, {\"X1\": 2, \"X2\": 3, \"Value\": 2.6664636295324216, \"Type\": \"Initial\", \"width\": 1, \"variance\": 0.08, \"Upper\": 2.9493063420070404, \"Lower\": 2.3836209170578027}, {\"X1\": 3, \"X2\": 3, \"Value\": 2.8997691240166605, \"Type\": \"Initial\", \"width\": 1, \"variance\": 0.09, \"Upper\": 3.1997691240166604, \"Lower\": 2.5997691240166607}, {\"X1\": 1, \"X2\": 4, \"Value\": 2.1083438470746247, \"Type\": \"Initial\", \"width\": 1, \"variance\": 0.1, \"Upper\": 2.4245716130914627, \"Lower\": 1.7921160810577867}, {\"X1\": 2, \"X2\": 4, \"Value\": 2.5559896275508645, \"Type\": \"Initial\", \"width\": 1, \"variance\": 0.11, \"Upper\": 2.8876521065864043, \"Lower\": 2.2243271485153246}, {\"X1\": 3, \"X2\": 4, \"Value\": 1.9607166099167428, \"Type\": \"Initial\", \"width\": 1, \"variance\": 0.12, \"Upper\": 2.3071267714305184, \"Lower\": 1.6143064484029672}, {\"X1\": 1, \"X2\": 5, \"Value\": 2.721525488741176, \"Type\": \"Initial\", \"width\": 1, \"variance\": 0.13, \"Upper\": 3.082080616287575, \"Lower\": 2.360970361194777}, {\"X1\": 2, \"X2\": 5, \"Value\": 2.887529962044302, \"Type\": \"Initial\", \"width\": 1, \"variance\": 0.14, \"Upper\": 3.261695700721696, \"Lower\": 2.513364223366908}, {\"X1\": 3, \"X2\": 5, \"Value\": 2.755230518873574, \"Type\": \"Initial\", \"width\": 1, \"variance\": 0.15, \"Upper\": 3.1425288534943157, \"Lower\": 2.3679321842528323}, {\"X1\": 1, \"X2\": 1, \"Value\": 2.5915778853948956, \"Type\": \"Raked\", \"width\": 2, \"variance\": 0.011737441969402735, \"Upper\": 2.699917360976988, \"Lower\": 2.4832384098128033}, {\"X1\": 2, \"X2\": 1, \"Value\": 2.9261379937840237, \"Type\": \"Raked\", \"width\": 2, \"variance\": 0.014729413820445557, \"Upper\": 3.047502790246777, \"Lower\": 2.8047731973212704}, {\"X1\": 3, \"X2\": 1, \"Value\": 2.8478561052634435, \"Type\": \"Raked\", \"width\": 2, \"variance\": 0.018185674942107443, \"Upper\": 2.9827103782476816, \"Lower\": 2.7130018322792053}, {\"X1\": 1, \"X2\": 2, \"Value\": 2.248047793387558, \"Type\": \"Raked\", \"width\": 2, \"variance\": 0.021542799658051837, \"Upper\": 2.394822449435705, \"Lower\": 2.101273137339411}, {\"X1\": 2, \"X2\": 2, \"Value\": 2.6702877685599473, \"Type\": \"Raked\", \"width\": 2, \"variance\": 0.024781716555031703, \"Upper\": 2.8277098653412813, \"Lower\": 2.5128656717786133}, {\"X1\": 3, \"X2\": 2, \"Value\": 1.9608254896849486, \"Type\": \"Raked\", \"width\": 2, \"variance\": 0.02749867563144822, \"Upper\": 2.126652736033214, \"Lower\": 1.7949982433366836}, {\"X1\": 1, \"X2\": 3, \"Value\": 2.1230858554266656, \"Type\": \"Raked\", \"width\": 2, \"variance\": 0.03333126344499983, \"Upper\": 2.3056543725510585, \"Lower\": 1.9405173383022725}, {\"X1\": 2, \"X2\": 3, \"Value\": 2.637346533698174, \"Type\": \"Raked\", \"width\": 2, \"variance\": 0.036799100469244964, \"Upper\": 2.829177450052251, \"Lower\": 2.445515617344097}, {\"X1\": 3, \"X2\": 3, \"Value\": 2.8674420686325424, \"Type\": \"Raked\", \"width\": 2, \"variance\": 0.039448976641020345, \"Upper\": 3.0660597331063255, \"Lower\": 2.668824404158759}, {\"X1\": 1, \"X2\": 4, \"Value\": 2.079884851215693, \"Type\": \"Raked\", \"width\": 2, \"variance\": 0.046762380469869066, \"Upper\": 2.2961309620937134, \"Lower\": 1.8636387403376726}, {\"X1\": 2, \"X2\": 4, \"Value\": 2.554628673954443, \"Type\": \"Raked\", \"width\": 2, \"variance\": 0.05063526273380883, \"Upper\": 2.779651478873875, \"Lower\": 2.329605869035011}, {\"X1\": 3, \"X2\": 4, \"Value\": 1.9592247746214984, \"Type\": \"Raked\", \"width\": 2, \"variance\": 0.05437282078828488, \"Upper\": 2.1924045781815082, \"Lower\": 1.7260449710614882}, {\"X1\": 1, \"X2\": 5, \"Value\": 2.734923463733234, \"Type\": \"Raked\", \"width\": 2, \"variance\": 0.05740468905255138, \"Upper\": 2.9745162204112088, \"Lower\": 2.495330707055259}, {\"X1\": 2, \"X2\": 5, \"Value\": 2.9391843477432915, \"Type\": \"Raked\", \"width\": 2, \"variance\": 0.061782655499810255, \"Upper\": 3.1877455182824774, \"Lower\": 2.6906231772041056}, {\"X1\": 3, \"X2\": 5, \"Value\": 2.8038889188301748, \"Type\": \"Raked\", \"width\": 2, \"variance\": 0.06410300730369657, \"Upper\": 3.0570746358516856, \"Lower\": 2.550703201808664}]}}, {\"mode\": \"vega-lite\"});\n",
       "</script>"
      ],
      "text/plain": [
       "alt.FacetChart(...)"
      ]
     },
     "execution_count": 22,
     "metadata": {},
     "output_type": "execute_result"
    }
   ],
   "source": [
    "bar = alt.Chart(df_raked).mark_errorbar(clip=True, opacity=0.5).encode(\n",
    "    alt.X('Upper:Q', scale=alt.Scale(zero=False), axis=alt.Axis(title='Raked value')),\n",
    "    alt.X2('Lower:Q'),\n",
    "    alt.Y('X1:N', axis=alt.Axis(title='X1')),\n",
    "    color=alt.Color('Type:N', legend=None),\n",
    "    strokeWidth=alt.StrokeWidth('width:Q', legend=None)\n",
    ")\n",
    "point = alt.Chart(df_raked).mark_point(\n",
    "    filled=True\n",
    ").encode(\n",
    "    alt.X('Value:Q'),\n",
    "    alt.Y('X1:N'),\n",
    "    color=alt.Color('Type:N'),\n",
    "    shape=alt.Shape('Type:N')\n",
    ")\n",
    "chart = alt.layer(point, bar).resolve_scale(\n",
    "    shape='independent',\n",
    "    color='independent'\n",
    ").facet(\n",
    "    column=alt.Column('X2:N', header=alt.Header(title='X2', titleFontSize=24, labelFontSize=24)),\n",
    ").configure_axis(\n",
    "    labelFontSize=24,\n",
    "    titleFontSize=24\n",
    ").configure_legend(\n",
    "    labelFontSize=24,\n",
    "    titleFontSize=24\n",
    ")\n",
    "chart"
   ]
  },
  {
   "cell_type": "code",
   "execution_count": 23,
   "id": "f48d13da-24a3-41c7-ae7a-9ff5e4634944",
   "metadata": {},
   "outputs": [
    {
     "data": {
      "text/html": [
       "\n",
       "<style>\n",
       "  #altair-viz-cf3aa7986df44da098bdfa7436b51ba4.vega-embed {\n",
       "    width: 100%;\n",
       "    display: flex;\n",
       "  }\n",
       "\n",
       "  #altair-viz-cf3aa7986df44da098bdfa7436b51ba4.vega-embed details,\n",
       "  #altair-viz-cf3aa7986df44da098bdfa7436b51ba4.vega-embed details summary {\n",
       "    position: relative;\n",
       "  }\n",
       "</style>\n",
       "<div id=\"altair-viz-cf3aa7986df44da098bdfa7436b51ba4\"></div>\n",
       "<script type=\"text/javascript\">\n",
       "  var VEGA_DEBUG = (typeof VEGA_DEBUG == \"undefined\") ? {} : VEGA_DEBUG;\n",
       "  (function(spec, embedOpt){\n",
       "    let outputDiv = document.currentScript.previousElementSibling;\n",
       "    if (outputDiv.id !== \"altair-viz-cf3aa7986df44da098bdfa7436b51ba4\") {\n",
       "      outputDiv = document.getElementById(\"altair-viz-cf3aa7986df44da098bdfa7436b51ba4\");\n",
       "    }\n",
       "    const paths = {\n",
       "      \"vega\": \"https://cdn.jsdelivr.net/npm/vega@5?noext\",\n",
       "      \"vega-lib\": \"https://cdn.jsdelivr.net/npm/vega-lib?noext\",\n",
       "      \"vega-lite\": \"https://cdn.jsdelivr.net/npm/vega-lite@5.17.0?noext\",\n",
       "      \"vega-embed\": \"https://cdn.jsdelivr.net/npm/vega-embed@6?noext\",\n",
       "    };\n",
       "\n",
       "    function maybeLoadScript(lib, version) {\n",
       "      var key = `${lib.replace(\"-\", \"\")}_version`;\n",
       "      return (VEGA_DEBUG[key] == version) ?\n",
       "        Promise.resolve(paths[lib]) :\n",
       "        new Promise(function(resolve, reject) {\n",
       "          var s = document.createElement('script');\n",
       "          document.getElementsByTagName(\"head\")[0].appendChild(s);\n",
       "          s.async = true;\n",
       "          s.onload = () => {\n",
       "            VEGA_DEBUG[key] = version;\n",
       "            return resolve(paths[lib]);\n",
       "          };\n",
       "          s.onerror = () => reject(`Error loading script: ${paths[lib]}`);\n",
       "          s.src = paths[lib];\n",
       "        });\n",
       "    }\n",
       "\n",
       "    function showError(err) {\n",
       "      outputDiv.innerHTML = `<div class=\"error\" style=\"color:red;\">${err}</div>`;\n",
       "      throw err;\n",
       "    }\n",
       "\n",
       "    function displayChart(vegaEmbed) {\n",
       "      vegaEmbed(outputDiv, spec, embedOpt)\n",
       "        .catch(err => showError(`Javascript Error: ${err.message}<br>This usually means there's a typo in your chart specification. See the javascript console for the full traceback.`));\n",
       "    }\n",
       "\n",
       "    if(typeof define === \"function\" && define.amd) {\n",
       "      requirejs.config({paths});\n",
       "      require([\"vega-embed\"], displayChart, err => showError(`Error loading script: ${err.message}`));\n",
       "    } else {\n",
       "      maybeLoadScript(\"vega\", \"5\")\n",
       "        .then(() => maybeLoadScript(\"vega-lite\", \"5.17.0\"))\n",
       "        .then(() => maybeLoadScript(\"vega-embed\", \"6\"))\n",
       "        .catch(showError)\n",
       "        .then(() => displayChart(vegaEmbed));\n",
       "    }\n",
       "  })({\"config\": {\"view\": {\"continuousWidth\": 300, \"continuousHeight\": 300}, \"axis\": {\"labelFontSize\": 24, \"titleFontSize\": 24}, \"legend\": {\"labelFontSize\": 24, \"titleFontSize\": 24}}, \"data\": {\"name\": \"data-74f2d163402a2eda134b9c9b0105932b\"}, \"facet\": {\"column\": {\"field\": \"X1\", \"header\": {\"labelFontSize\": 24, \"title\": \"X1\", \"titleFontSize\": 24}, \"type\": \"nominal\"}}, \"spec\": {\"layer\": [{\"mark\": {\"type\": \"point\", \"filled\": true}, \"encoding\": {\"color\": {\"field\": \"Type\", \"type\": \"nominal\"}, \"shape\": {\"field\": \"Type\", \"type\": \"nominal\"}, \"x\": {\"field\": \"Value\", \"type\": \"quantitative\"}, \"y\": {\"field\": \"X2\", \"type\": \"nominal\"}}}, {\"mark\": {\"type\": \"errorbar\", \"clip\": true, \"opacity\": 0.5}, \"encoding\": {\"color\": {\"field\": \"Type\", \"legend\": null, \"type\": \"nominal\"}, \"strokeWidth\": {\"field\": \"width\", \"legend\": null, \"type\": \"quantitative\"}, \"x\": {\"axis\": {\"title\": \"Raked value\"}, \"field\": \"Upper\", \"scale\": {\"zero\": false}, \"type\": \"quantitative\"}, \"x2\": {\"field\": \"Lower\"}, \"y\": {\"axis\": {\"title\": \"X2\"}, \"field\": \"X2\", \"type\": \"nominal\"}}}], \"resolve\": {\"scale\": {\"color\": \"independent\", \"shape\": \"independent\"}}}, \"$schema\": \"https://vega.github.io/schema/vega-lite/v5.17.0.json\", \"datasets\": {\"data-74f2d163402a2eda134b9c9b0105932b\": [{\"X1\": 1, \"X2\": 1, \"Value\": 2.564731374776421, \"Type\": \"Initial\", \"width\": 1, \"variance\": 0.01, \"Upper\": 2.664731374776421, \"Lower\": 2.464731374776421}, {\"X1\": 2, \"X2\": 1, \"Value\": 2.8591386927719675, \"Type\": \"Initial\", \"width\": 1, \"variance\": 0.02, \"Upper\": 3.000560049009277, \"Lower\": 2.717717336534658}, {\"X1\": 3, \"X2\": 1, \"Value\": 2.783270370626131, \"Type\": \"Initial\", \"width\": 1, \"variance\": 0.03, \"Upper\": 2.9564754513830187, \"Lower\": 2.6100652898692434}, {\"X1\": 1, \"X2\": 2, \"Value\": 2.311675462248435, \"Type\": \"Initial\", \"width\": 1, \"variance\": 0.04, \"Upper\": 2.511675462248435, \"Lower\": 2.1116754622484346}, {\"X1\": 2, \"X2\": 2, \"Value\": 2.709737942641081, \"Type\": \"Initial\", \"width\": 1, \"variance\": 0.05, \"Upper\": 2.93334474039106, \"Lower\": 2.4861311448911017}, {\"X1\": 3, \"X2\": 2, \"Value\": 1.9902555442770853, \"Type\": \"Initial\", \"width\": 1, \"variance\": 0.06, \"Upper\": 2.235204518555403, \"Lower\": 1.7453065699987675}, {\"X1\": 1, \"X2\": 3, \"Value\": 2.175037844490054, \"Type\": \"Initial\", \"width\": 1, \"variance\": 0.07, \"Upper\": 2.4396129755965132, \"Lower\": 1.910462713383595}, {\"X1\": 2, \"X2\": 3, \"Value\": 2.6664636295324216, \"Type\": \"Initial\", \"width\": 1, \"variance\": 0.08, \"Upper\": 2.9493063420070404, \"Lower\": 2.3836209170578027}, {\"X1\": 3, \"X2\": 3, \"Value\": 2.8997691240166605, \"Type\": \"Initial\", \"width\": 1, \"variance\": 0.09, \"Upper\": 3.1997691240166604, \"Lower\": 2.5997691240166607}, {\"X1\": 1, \"X2\": 4, \"Value\": 2.1083438470746247, \"Type\": \"Initial\", \"width\": 1, \"variance\": 0.1, \"Upper\": 2.4245716130914627, \"Lower\": 1.7921160810577867}, {\"X1\": 2, \"X2\": 4, \"Value\": 2.5559896275508645, \"Type\": \"Initial\", \"width\": 1, \"variance\": 0.11, \"Upper\": 2.8876521065864043, \"Lower\": 2.2243271485153246}, {\"X1\": 3, \"X2\": 4, \"Value\": 1.9607166099167428, \"Type\": \"Initial\", \"width\": 1, \"variance\": 0.12, \"Upper\": 2.3071267714305184, \"Lower\": 1.6143064484029672}, {\"X1\": 1, \"X2\": 5, \"Value\": 2.721525488741176, \"Type\": \"Initial\", \"width\": 1, \"variance\": 0.13, \"Upper\": 3.082080616287575, \"Lower\": 2.360970361194777}, {\"X1\": 2, \"X2\": 5, \"Value\": 2.887529962044302, \"Type\": \"Initial\", \"width\": 1, \"variance\": 0.14, \"Upper\": 3.261695700721696, \"Lower\": 2.513364223366908}, {\"X1\": 3, \"X2\": 5, \"Value\": 2.755230518873574, \"Type\": \"Initial\", \"width\": 1, \"variance\": 0.15, \"Upper\": 3.1425288534943157, \"Lower\": 2.3679321842528323}, {\"X1\": 1, \"X2\": 1, \"Value\": 2.5915778853948956, \"Type\": \"Raked\", \"width\": 2, \"variance\": 0.011737441969402735, \"Upper\": 2.699917360976988, \"Lower\": 2.4832384098128033}, {\"X1\": 2, \"X2\": 1, \"Value\": 2.9261379937840237, \"Type\": \"Raked\", \"width\": 2, \"variance\": 0.014729413820445557, \"Upper\": 3.047502790246777, \"Lower\": 2.8047731973212704}, {\"X1\": 3, \"X2\": 1, \"Value\": 2.8478561052634435, \"Type\": \"Raked\", \"width\": 2, \"variance\": 0.018185674942107443, \"Upper\": 2.9827103782476816, \"Lower\": 2.7130018322792053}, {\"X1\": 1, \"X2\": 2, \"Value\": 2.248047793387558, \"Type\": \"Raked\", \"width\": 2, \"variance\": 0.021542799658051837, \"Upper\": 2.394822449435705, \"Lower\": 2.101273137339411}, {\"X1\": 2, \"X2\": 2, \"Value\": 2.6702877685599473, \"Type\": \"Raked\", \"width\": 2, \"variance\": 0.024781716555031703, \"Upper\": 2.8277098653412813, \"Lower\": 2.5128656717786133}, {\"X1\": 3, \"X2\": 2, \"Value\": 1.9608254896849486, \"Type\": \"Raked\", \"width\": 2, \"variance\": 0.02749867563144822, \"Upper\": 2.126652736033214, \"Lower\": 1.7949982433366836}, {\"X1\": 1, \"X2\": 3, \"Value\": 2.1230858554266656, \"Type\": \"Raked\", \"width\": 2, \"variance\": 0.03333126344499983, \"Upper\": 2.3056543725510585, \"Lower\": 1.9405173383022725}, {\"X1\": 2, \"X2\": 3, \"Value\": 2.637346533698174, \"Type\": \"Raked\", \"width\": 2, \"variance\": 0.036799100469244964, \"Upper\": 2.829177450052251, \"Lower\": 2.445515617344097}, {\"X1\": 3, \"X2\": 3, \"Value\": 2.8674420686325424, \"Type\": \"Raked\", \"width\": 2, \"variance\": 0.039448976641020345, \"Upper\": 3.0660597331063255, \"Lower\": 2.668824404158759}, {\"X1\": 1, \"X2\": 4, \"Value\": 2.079884851215693, \"Type\": \"Raked\", \"width\": 2, \"variance\": 0.046762380469869066, \"Upper\": 2.2961309620937134, \"Lower\": 1.8636387403376726}, {\"X1\": 2, \"X2\": 4, \"Value\": 2.554628673954443, \"Type\": \"Raked\", \"width\": 2, \"variance\": 0.05063526273380883, \"Upper\": 2.779651478873875, \"Lower\": 2.329605869035011}, {\"X1\": 3, \"X2\": 4, \"Value\": 1.9592247746214984, \"Type\": \"Raked\", \"width\": 2, \"variance\": 0.05437282078828488, \"Upper\": 2.1924045781815082, \"Lower\": 1.7260449710614882}, {\"X1\": 1, \"X2\": 5, \"Value\": 2.734923463733234, \"Type\": \"Raked\", \"width\": 2, \"variance\": 0.05740468905255138, \"Upper\": 2.9745162204112088, \"Lower\": 2.495330707055259}, {\"X1\": 2, \"X2\": 5, \"Value\": 2.9391843477432915, \"Type\": \"Raked\", \"width\": 2, \"variance\": 0.061782655499810255, \"Upper\": 3.1877455182824774, \"Lower\": 2.6906231772041056}, {\"X1\": 3, \"X2\": 5, \"Value\": 2.8038889188301748, \"Type\": \"Raked\", \"width\": 2, \"variance\": 0.06410300730369657, \"Upper\": 3.0570746358516856, \"Lower\": 2.550703201808664}]}}, {\"mode\": \"vega-lite\"});\n",
       "</script>"
      ],
      "text/plain": [
       "alt.FacetChart(...)"
      ]
     },
     "execution_count": 23,
     "metadata": {},
     "output_type": "execute_result"
    }
   ],
   "source": [
    "bar = alt.Chart(df_raked).mark_errorbar(clip=True, opacity=0.5).encode(\n",
    "    alt.X('Upper:Q', scale=alt.Scale(zero=False), axis=alt.Axis(title='Raked value')),\n",
    "    alt.X2('Lower:Q'),\n",
    "    alt.Y('X2:N', axis=alt.Axis(title='X2')),\n",
    "    color=alt.Color('Type:N', legend=None),\n",
    "    strokeWidth=alt.StrokeWidth('width:Q', legend=None)\n",
    ")\n",
    "point = alt.Chart(df_raked).mark_point(\n",
    "    filled=True\n",
    ").encode(\n",
    "    alt.X('Value:Q'),\n",
    "    alt.Y('X2:N'),\n",
    "    color=alt.Color('Type:N'),\n",
    "    shape=alt.Shape('Type:N')\n",
    ")\n",
    "chart = alt.layer(point, bar).resolve_scale(\n",
    "    shape='independent',\n",
    "    color='independent'\n",
    ").facet(\n",
    "    column=alt.Column('X1:N', header=alt.Header(title='X1', titleFontSize=24, labelFontSize=24)),\n",
    ").configure_axis(\n",
    "    labelFontSize=24,\n",
    "    titleFontSize=24\n",
    ").configure_legend(\n",
    "    labelFontSize=24,\n",
    "    titleFontSize=24\n",
    ")\n",
    "chart"
   ]
  },
  {
   "cell_type": "code",
   "execution_count": 24,
   "id": "43c9632f-ad59-4793-9837-063822d1288c",
   "metadata": {},
   "outputs": [
    {
     "data": {
      "text/html": [
       "\n",
       "<style>\n",
       "  #altair-viz-b693cee4049c4b28aae7c9e01f530df5.vega-embed {\n",
       "    width: 100%;\n",
       "    display: flex;\n",
       "  }\n",
       "\n",
       "  #altair-viz-b693cee4049c4b28aae7c9e01f530df5.vega-embed details,\n",
       "  #altair-viz-b693cee4049c4b28aae7c9e01f530df5.vega-embed details summary {\n",
       "    position: relative;\n",
       "  }\n",
       "</style>\n",
       "<div id=\"altair-viz-b693cee4049c4b28aae7c9e01f530df5\"></div>\n",
       "<script type=\"text/javascript\">\n",
       "  var VEGA_DEBUG = (typeof VEGA_DEBUG == \"undefined\") ? {} : VEGA_DEBUG;\n",
       "  (function(spec, embedOpt){\n",
       "    let outputDiv = document.currentScript.previousElementSibling;\n",
       "    if (outputDiv.id !== \"altair-viz-b693cee4049c4b28aae7c9e01f530df5\") {\n",
       "      outputDiv = document.getElementById(\"altair-viz-b693cee4049c4b28aae7c9e01f530df5\");\n",
       "    }\n",
       "    const paths = {\n",
       "      \"vega\": \"https://cdn.jsdelivr.net/npm/vega@5?noext\",\n",
       "      \"vega-lib\": \"https://cdn.jsdelivr.net/npm/vega-lib?noext\",\n",
       "      \"vega-lite\": \"https://cdn.jsdelivr.net/npm/vega-lite@5.17.0?noext\",\n",
       "      \"vega-embed\": \"https://cdn.jsdelivr.net/npm/vega-embed@6?noext\",\n",
       "    };\n",
       "\n",
       "    function maybeLoadScript(lib, version) {\n",
       "      var key = `${lib.replace(\"-\", \"\")}_version`;\n",
       "      return (VEGA_DEBUG[key] == version) ?\n",
       "        Promise.resolve(paths[lib]) :\n",
       "        new Promise(function(resolve, reject) {\n",
       "          var s = document.createElement('script');\n",
       "          document.getElementsByTagName(\"head\")[0].appendChild(s);\n",
       "          s.async = true;\n",
       "          s.onload = () => {\n",
       "            VEGA_DEBUG[key] = version;\n",
       "            return resolve(paths[lib]);\n",
       "          };\n",
       "          s.onerror = () => reject(`Error loading script: ${paths[lib]}`);\n",
       "          s.src = paths[lib];\n",
       "        });\n",
       "    }\n",
       "\n",
       "    function showError(err) {\n",
       "      outputDiv.innerHTML = `<div class=\"error\" style=\"color:red;\">${err}</div>`;\n",
       "      throw err;\n",
       "    }\n",
       "\n",
       "    function displayChart(vegaEmbed) {\n",
       "      vegaEmbed(outputDiv, spec, embedOpt)\n",
       "        .catch(err => showError(`Javascript Error: ${err.message}<br>This usually means there's a typo in your chart specification. See the javascript console for the full traceback.`));\n",
       "    }\n",
       "\n",
       "    if(typeof define === \"function\" && define.amd) {\n",
       "      requirejs.config({paths});\n",
       "      require([\"vega-embed\"], displayChart, err => showError(`Error loading script: ${err.message}`));\n",
       "    } else {\n",
       "      maybeLoadScript(\"vega\", \"5\")\n",
       "        .then(() => maybeLoadScript(\"vega-lite\", \"5.17.0\"))\n",
       "        .then(() => maybeLoadScript(\"vega-embed\", \"6\"))\n",
       "        .catch(showError)\n",
       "        .then(() => displayChart(vegaEmbed));\n",
       "    }\n",
       "  })({\"config\": {\"view\": {\"continuousWidth\": 300, \"continuousHeight\": 300}, \"axis\": {\"labelFontSize\": 12, \"titleFontSize\": 12}, \"legend\": {\"labelFontSize\": 10, \"titleFontSize\": 10}, \"title\": {\"fontSize\": 12}}, \"layer\": [{\"mark\": {\"type\": \"rect\"}, \"encoding\": {\"color\": {\"field\": \"grad_y\", \"legend\": {\"title\": [\"Effect of\", \"one obs.\"]}, \"scale\": {\"domain\": [-0.5865678661971588, 0.5865678661971588], \"scheme\": \"redblue\"}, \"type\": \"quantitative\"}, \"x\": {\"axis\": {\"title\": \"X1\"}, \"field\": \"raked_1\", \"type\": \"nominal\"}, \"y\": {\"axis\": {\"title\": \"X2\"}, \"field\": \"raked_2\", \"type\": \"nominal\"}}}, {\"mark\": {\"type\": \"text\", \"baseline\": \"middle\"}, \"encoding\": {\"text\": {\"field\": \"grad_y\", \"format\": \".2f\", \"type\": \"quantitative\"}, \"x\": {\"axis\": {\"title\": \"X1\"}, \"field\": \"raked_1\", \"type\": \"nominal\"}, \"y\": {\"axis\": {\"title\": \"X2\"}, \"field\": \"raked_2\", \"type\": \"nominal\"}}}], \"data\": {\"name\": \"data-055eb5fa5a3cb2340c24960d31584210\"}, \"height\": 180, \"title\": \"X1 = 3 - X2 = 4\", \"width\": 120, \"$schema\": \"https://vega.github.io/schema/vega-lite/v5.17.0.json\", \"datasets\": {\"data-055eb5fa5a3cb2340c24960d31584210\": [{\"raked_1\": 1, \"raked_2\": 1, \"X1\": 3, \"X2\": 4, \"grad_y\": 0.07173605003633168}, {\"raked_1\": 2, \"raked_2\": 1, \"X1\": 3, \"X2\": 4, \"grad_y\": 0.08403053893737314}, {\"raked_1\": 3, \"raked_2\": 1, \"X1\": 3, \"X2\": 4, \"grad_y\": -0.15576658897370482}, {\"raked_1\": 1, \"raked_2\": 2, \"X1\": 3, \"X2\": 4, \"grad_y\": 0.05380714937089526}, {\"raked_1\": 2, \"raked_2\": 2, \"X1\": 3, \"X2\": 4, \"grad_y\": 0.06692026794788479}, {\"raked_1\": 3, \"raked_2\": 2, \"X1\": 3, \"X2\": 4, \"grad_y\": -0.12072741731878005}, {\"raked_1\": 1, \"raked_2\": 3, \"X1\": 3, \"X2\": 4, \"grad_y\": 0.06732163831880575}, {\"raked_1\": 2, \"raked_2\": 3, \"X1\": 3, \"X2\": 4, \"grad_y\": 0.08631848590586236}, {\"raked_1\": 3, \"raked_2\": 3, \"X1\": 3, \"X2\": 4, \"grad_y\": -0.1536401242246681}, {\"raked_1\": 1, \"raked_2\": 4, \"X1\": 3, \"X2\": 4, \"grad_y\": -0.2667774030115348}, {\"raked_1\": 2, \"raked_2\": 4, \"X1\": 3, \"X2\": 4, \"grad_y\": -0.31979046318562404}, {\"raked_1\": 3, \"raked_2\": 4, \"X1\": 3, \"X2\": 4, \"grad_y\": 0.5865678661971588}, {\"raked_1\": 1, \"raked_2\": 5, \"X1\": 3, \"X2\": 4, \"grad_y\": 0.0739125652855021}, {\"raked_1\": 2, \"raked_2\": 5, \"X1\": 3, \"X2\": 4, \"grad_y\": 0.08252117039450375}, {\"raked_1\": 3, \"raked_2\": 5, \"X1\": 3, \"X2\": 4, \"grad_y\": -0.15643373568000585}]}}, {\"mode\": \"vega-lite\"});\n",
       "</script>"
      ],
      "text/plain": [
       "alt.LayerChart(...)"
      ]
     },
     "execution_count": 24,
     "metadata": {},
     "output_type": "execute_result"
    }
   ],
   "source": [
    "index = np.argmax(np.abs(df_y.grad_y))\n",
    "index_var1 = df_y.iloc[index].X1\n",
    "index_var2 = df_y.iloc[index].X2\n",
    "df_y_loc = df_y.loc[(df_y.X1==index_var1)&(df_y.X2==index_var2)]\n",
    "max_scale = max(abs(df_y_loc['grad_y'].min()), abs(df_y_loc['grad_y'].max()))\n",
    "\n",
    "base = alt.Chart(df_y_loc).encode(\n",
    "    x=alt.X('raked_1:N', axis=alt.Axis(title='X1')),\n",
    "    y=alt.Y('raked_2:N', axis=alt.Axis(title='X2')),\n",
    ")\n",
    "\n",
    "heatmap = base.mark_rect().encode(\n",
    "    color=alt.Color('grad_y:Q',\n",
    "        scale=alt.Scale(scheme='redblue', domain=[-max_scale, max_scale]),\n",
    "        legend=alt.Legend(title=['Effect of', 'one obs.']))\n",
    ")\n",
    "\n",
    "text = base.mark_text(baseline='middle').encode(\n",
    "    alt.Text('grad_y:Q', format='.2f')\n",
    ")\n",
    "\n",
    "chart = alt.layer(heatmap, text\n",
    ").properties(\n",
    "    title='X1 = ' + str(int(index_var1)) + ' - X2 = ' + str(int(index_var2)),\n",
    "    width=120,\n",
    "    height=180\n",
    ").configure_title(\n",
    "    fontSize=12\n",
    ").configure_axis(\n",
    "    labelFontSize=12,\n",
    "    titleFontSize=12\n",
    ").configure_legend(\n",
    "    labelFontSize=10,\n",
    "    titleFontSize=10\n",
    ")\n",
    "chart"
   ]
  },
  {
   "cell_type": "code",
   "execution_count": 25,
   "id": "215ef5ee-1716-4ceb-b329-af0bbe58ba07",
   "metadata": {},
   "outputs": [
    {
     "data": {
      "text/html": [
       "\n",
       "<style>\n",
       "  #altair-viz-5563da6f07fd4fa4aa604d5e89dce2a3.vega-embed {\n",
       "    width: 100%;\n",
       "    display: flex;\n",
       "  }\n",
       "\n",
       "  #altair-viz-5563da6f07fd4fa4aa604d5e89dce2a3.vega-embed details,\n",
       "  #altair-viz-5563da6f07fd4fa4aa604d5e89dce2a3.vega-embed details summary {\n",
       "    position: relative;\n",
       "  }\n",
       "</style>\n",
       "<div id=\"altair-viz-5563da6f07fd4fa4aa604d5e89dce2a3\"></div>\n",
       "<script type=\"text/javascript\">\n",
       "  var VEGA_DEBUG = (typeof VEGA_DEBUG == \"undefined\") ? {} : VEGA_DEBUG;\n",
       "  (function(spec, embedOpt){\n",
       "    let outputDiv = document.currentScript.previousElementSibling;\n",
       "    if (outputDiv.id !== \"altair-viz-5563da6f07fd4fa4aa604d5e89dce2a3\") {\n",
       "      outputDiv = document.getElementById(\"altair-viz-5563da6f07fd4fa4aa604d5e89dce2a3\");\n",
       "    }\n",
       "    const paths = {\n",
       "      \"vega\": \"https://cdn.jsdelivr.net/npm/vega@5?noext\",\n",
       "      \"vega-lib\": \"https://cdn.jsdelivr.net/npm/vega-lib?noext\",\n",
       "      \"vega-lite\": \"https://cdn.jsdelivr.net/npm/vega-lite@5.17.0?noext\",\n",
       "      \"vega-embed\": \"https://cdn.jsdelivr.net/npm/vega-embed@6?noext\",\n",
       "    };\n",
       "\n",
       "    function maybeLoadScript(lib, version) {\n",
       "      var key = `${lib.replace(\"-\", \"\")}_version`;\n",
       "      return (VEGA_DEBUG[key] == version) ?\n",
       "        Promise.resolve(paths[lib]) :\n",
       "        new Promise(function(resolve, reject) {\n",
       "          var s = document.createElement('script');\n",
       "          document.getElementsByTagName(\"head\")[0].appendChild(s);\n",
       "          s.async = true;\n",
       "          s.onload = () => {\n",
       "            VEGA_DEBUG[key] = version;\n",
       "            return resolve(paths[lib]);\n",
       "          };\n",
       "          s.onerror = () => reject(`Error loading script: ${paths[lib]}`);\n",
       "          s.src = paths[lib];\n",
       "        });\n",
       "    }\n",
       "\n",
       "    function showError(err) {\n",
       "      outputDiv.innerHTML = `<div class=\"error\" style=\"color:red;\">${err}</div>`;\n",
       "      throw err;\n",
       "    }\n",
       "\n",
       "    function displayChart(vegaEmbed) {\n",
       "      vegaEmbed(outputDiv, spec, embedOpt)\n",
       "        .catch(err => showError(`Javascript Error: ${err.message}<br>This usually means there's a typo in your chart specification. See the javascript console for the full traceback.`));\n",
       "    }\n",
       "\n",
       "    if(typeof define === \"function\" && define.amd) {\n",
       "      requirejs.config({paths});\n",
       "      require([\"vega-embed\"], displayChart, err => showError(`Error loading script: ${err.message}`));\n",
       "    } else {\n",
       "      maybeLoadScript(\"vega\", \"5\")\n",
       "        .then(() => maybeLoadScript(\"vega-lite\", \"5.17.0\"))\n",
       "        .then(() => maybeLoadScript(\"vega-embed\", \"6\"))\n",
       "        .catch(showError)\n",
       "        .then(() => displayChart(vegaEmbed));\n",
       "    }\n",
       "  })({\"config\": {\"view\": {\"continuousWidth\": 300, \"continuousHeight\": 300}, \"axis\": {\"labelFontSize\": 12, \"titleFontSize\": 12}, \"legend\": {\"labelFontSize\": 10, \"titleFontSize\": 10}, \"title\": {\"fontSize\": 12}}, \"layer\": [{\"mark\": {\"type\": \"rect\"}, \"encoding\": {\"color\": {\"field\": \"grad_y\", \"legend\": {\"title\": [\"Effect of\", \"all obs.\"]}, \"scale\": {\"domain\": [-0.5865678661971588, 0.5865678661971588], \"scheme\": \"redblue\"}, \"type\": \"quantitative\"}, \"x\": {\"axis\": {\"title\": \"X1\"}, \"field\": \"X1\", \"type\": \"nominal\"}, \"y\": {\"axis\": {\"title\": \"X2\"}, \"field\": \"X2\", \"type\": \"nominal\"}}}, {\"mark\": {\"type\": \"text\", \"baseline\": \"middle\"}, \"encoding\": {\"text\": {\"field\": \"grad_y\", \"format\": \".2f\", \"type\": \"quantitative\"}, \"x\": {\"axis\": {\"title\": \"X1\"}, \"field\": \"X1\", \"type\": \"nominal\"}, \"y\": {\"axis\": {\"title\": \"X2\"}, \"field\": \"X2\", \"type\": \"nominal\"}}}], \"data\": {\"name\": \"data-0a198041eb22ca383020efa5a05d937c\"}, \"height\": 180, \"title\": \"X1 = 3 - X2 = 4\", \"width\": 120, \"$schema\": \"https://vega.github.io/schema/vega-lite/v5.17.0.json\", \"datasets\": {\"data-0a198041eb22ca383020efa5a05d937c\": [{\"raked_1\": 3, \"raked_2\": 4, \"X1\": 1, \"X2\": 1, \"grad_y\": 0.05545789073149322}, {\"raked_1\": 3, \"raked_2\": 4, \"X1\": 2, \"X2\": 1, \"grad_y\": 0.05902104549878102}, {\"raked_1\": 3, \"raked_2\": 4, \"X1\": 3, \"X2\": 1, \"grad_y\": -0.1123639378203363}, {\"raked_1\": 3, \"raked_2\": 4, \"X1\": 1, \"X2\": 2, \"grad_y\": 0.044415769449753874}, {\"raked_1\": 3, \"raked_2\": 4, \"X1\": 2, \"X2\": 2, \"grad_y\": 0.047753646983992794}, {\"raked_1\": 3, \"raked_2\": 4, \"X1\": 3, \"X2\": 2, \"grad_y\": -0.11726612140749616}, {\"raked_1\": 3, \"raked_2\": 4, \"X1\": 1, \"X2\": 3, \"grad_y\": 0.05928352098885617}, {\"raked_1\": 3, \"raked_2\": 4, \"X1\": 2, \"X2\": 3, \"grad_y\": 0.06282681949777957}, {\"raked_1\": 3, \"raked_2\": 4, \"X1\": 3, \"X2\": 3, \"grad_y\": -0.10280585553588054}, {\"raked_1\": 3, \"raked_2\": 4, \"X1\": 1, \"X2\": 4, \"grad_y\": -0.24493499688600492}, {\"raked_1\": 3, \"raked_2\": 4, \"X1\": 2, \"X2\": 4, \"grad_y\": -0.24536946070284682}, {\"raked_1\": 3, \"raked_2\": 4, \"X1\": 3, \"X2\": 4, \"grad_y\": 0.5865678661971588}, {\"raked_1\": 3, \"raked_2\": 4, \"X1\": 1, \"X2\": 5, \"grad_y\": 0.053553028098116205}, {\"raked_1\": 3, \"raked_2\": 4, \"X1\": 2, \"X2\": 5, \"grad_y\": 0.057080083328585135}, {\"raked_1\": 3, \"raked_2\": 4, \"X1\": 3, \"X2\": 5, \"grad_y\": -0.11337589593762142}]}}, {\"mode\": \"vega-lite\"});\n",
       "</script>"
      ],
      "text/plain": [
       "alt.LayerChart(...)"
      ]
     },
     "execution_count": 25,
     "metadata": {},
     "output_type": "execute_result"
    }
   ],
   "source": [
    "index = np.argmax(np.abs(df_y.grad_y))\n",
    "index_raked_1 = df_y.iloc[index].raked_1\n",
    "index_raked_2 = df_y.iloc[index].raked_2\n",
    "df_y_loc = df_y.loc[(df_y.raked_1==index_raked_1)&(df_y.raked_2==index_raked_2)]\n",
    "max_scale = max(abs(df_y_loc['grad_y'].min()), abs(df_y_loc['grad_y'].max()))\n",
    "\n",
    "base = alt.Chart(df_y_loc).encode(\n",
    "    x=alt.X('X1:N', axis=alt.Axis(title='X1')),\n",
    "    y=alt.Y('X2:N', axis=alt.Axis(title='X2')),\n",
    ")\n",
    "\n",
    "heatmap = base.mark_rect().encode(\n",
    "    color=alt.Color('grad_y:Q',\n",
    "        scale=alt.Scale(scheme='redblue', domain=[-max_scale, max_scale]),\n",
    "        legend=alt.Legend(title=['Effect of', 'all obs.']))\n",
    ")\n",
    "\n",
    "text = base.mark_text(baseline='middle').encode(\n",
    "    alt.Text('grad_y:Q', format='.2f')\n",
    ")\n",
    "\n",
    "chart = alt.layer(heatmap, text\n",
    ").properties(\n",
    "    title='X1 = ' + str(int(index_raked_1)) + ' - X2 = ' + str(int(index_raked_2)),\n",
    "    width=120,\n",
    "    height=180\n",
    ").configure_title(\n",
    "    fontSize=12\n",
    ").configure_axis(\n",
    "    labelFontSize=12,\n",
    "    titleFontSize=12\n",
    ").configure_legend(\n",
    "    labelFontSize=10,\n",
    "    titleFontSize=10\n",
    ")\n",
    "chart"
   ]
  },
  {
   "cell_type": "code",
   "execution_count": 26,
   "id": "1d4b52ca-8f0c-49d6-b25a-9473b9427c4f",
   "metadata": {},
   "outputs": [
    {
     "data": {
      "text/html": [
       "\n",
       "<style>\n",
       "  #altair-viz-3a4d98c1fa2f4db789d3b6140f9bc8ca.vega-embed {\n",
       "    width: 100%;\n",
       "    display: flex;\n",
       "  }\n",
       "\n",
       "  #altair-viz-3a4d98c1fa2f4db789d3b6140f9bc8ca.vega-embed details,\n",
       "  #altair-viz-3a4d98c1fa2f4db789d3b6140f9bc8ca.vega-embed details summary {\n",
       "    position: relative;\n",
       "  }\n",
       "</style>\n",
       "<div id=\"altair-viz-3a4d98c1fa2f4db789d3b6140f9bc8ca\"></div>\n",
       "<script type=\"text/javascript\">\n",
       "  var VEGA_DEBUG = (typeof VEGA_DEBUG == \"undefined\") ? {} : VEGA_DEBUG;\n",
       "  (function(spec, embedOpt){\n",
       "    let outputDiv = document.currentScript.previousElementSibling;\n",
       "    if (outputDiv.id !== \"altair-viz-3a4d98c1fa2f4db789d3b6140f9bc8ca\") {\n",
       "      outputDiv = document.getElementById(\"altair-viz-3a4d98c1fa2f4db789d3b6140f9bc8ca\");\n",
       "    }\n",
       "    const paths = {\n",
       "      \"vega\": \"https://cdn.jsdelivr.net/npm/vega@5?noext\",\n",
       "      \"vega-lib\": \"https://cdn.jsdelivr.net/npm/vega-lib?noext\",\n",
       "      \"vega-lite\": \"https://cdn.jsdelivr.net/npm/vega-lite@5.17.0?noext\",\n",
       "      \"vega-embed\": \"https://cdn.jsdelivr.net/npm/vega-embed@6?noext\",\n",
       "    };\n",
       "\n",
       "    function maybeLoadScript(lib, version) {\n",
       "      var key = `${lib.replace(\"-\", \"\")}_version`;\n",
       "      return (VEGA_DEBUG[key] == version) ?\n",
       "        Promise.resolve(paths[lib]) :\n",
       "        new Promise(function(resolve, reject) {\n",
       "          var s = document.createElement('script');\n",
       "          document.getElementsByTagName(\"head\")[0].appendChild(s);\n",
       "          s.async = true;\n",
       "          s.onload = () => {\n",
       "            VEGA_DEBUG[key] = version;\n",
       "            return resolve(paths[lib]);\n",
       "          };\n",
       "          s.onerror = () => reject(`Error loading script: ${paths[lib]}`);\n",
       "          s.src = paths[lib];\n",
       "        });\n",
       "    }\n",
       "\n",
       "    function showError(err) {\n",
       "      outputDiv.innerHTML = `<div class=\"error\" style=\"color:red;\">${err}</div>`;\n",
       "      throw err;\n",
       "    }\n",
       "\n",
       "    function displayChart(vegaEmbed) {\n",
       "      vegaEmbed(outputDiv, spec, embedOpt)\n",
       "        .catch(err => showError(`Javascript Error: ${err.message}<br>This usually means there's a typo in your chart specification. See the javascript console for the full traceback.`));\n",
       "    }\n",
       "\n",
       "    if(typeof define === \"function\" && define.amd) {\n",
       "      requirejs.config({paths});\n",
       "      require([\"vega-embed\"], displayChart, err => showError(`Error loading script: ${err.message}`));\n",
       "    } else {\n",
       "      maybeLoadScript(\"vega\", \"5\")\n",
       "        .then(() => maybeLoadScript(\"vega-lite\", \"5.17.0\"))\n",
       "        .then(() => maybeLoadScript(\"vega-embed\", \"6\"))\n",
       "        .catch(showError)\n",
       "        .then(() => displayChart(vegaEmbed));\n",
       "    }\n",
       "  })({\"config\": {\"view\": {\"continuousWidth\": 300, \"continuousHeight\": 300}, \"axis\": {\"labelFontSize\": 24, \"titleFontSize\": 24}}, \"data\": {\"name\": \"data-2653c6b7bf01a3a09dd3545ea55f3170\"}, \"mark\": {\"type\": \"point\", \"size\": 60}, \"encoding\": {\"color\": {\"field\": \"X1\", \"legend\": {\"title\": \"X1\"}, \"type\": \"nominal\"}, \"shape\": {\"field\": \"X2\", \"legend\": {\"title\": \"X2\"}, \"type\": \"nominal\"}, \"x\": {\"axis\": {\"title\": \"Using all draws\"}, \"field\": \"all_draws\", \"scale\": {\"domain\": [1.9555372353229694, 2.9391843477432915], \"zero\": false}, \"type\": \"quantitative\"}, \"y\": {\"axis\": {\"title\": \"Using the mean\"}, \"field\": \"mean\", \"scale\": {\"domain\": [1.9555372353229694, 2.9391843477432915], \"zero\": false}, \"type\": \"quantitative\"}}, \"$schema\": \"https://vega.github.io/schema/vega-lite/v5.17.0.json\", \"datasets\": {\"data-2653c6b7bf01a3a09dd3545ea55f3170\": [{\"X1\": 1, \"X2\": 1, \"mean\": 2.5915778853948956, \"all_draws\": 2.5919936523713907}, {\"X1\": 2, \"X2\": 1, \"mean\": 2.9261379937840237, \"all_draws\": 2.9242884560560514}, {\"X1\": 3, \"X2\": 1, \"mean\": 2.8478561052634435, \"all_draws\": 2.8492888012260105}, {\"X1\": 1, \"X2\": 2, \"mean\": 2.248047793387558, \"all_draws\": 2.2495347971070987}, {\"X1\": 2, \"X2\": 2, \"mean\": 2.6702877685599473, \"all_draws\": 2.670909953048714}, {\"X1\": 3, \"X2\": 2, \"mean\": 1.9608254896849486, \"all_draws\": 1.9587163013097233}, {\"X1\": 1, \"X2\": 3, \"mean\": 2.1230858554266656, \"all_draws\": 2.120836913953116}, {\"X1\": 2, \"X2\": 3, \"mean\": 2.637346533698174, \"all_draws\": 2.635996698442147}, {\"X1\": 3, \"X2\": 3, \"mean\": 2.8674420686325424, \"all_draws\": 2.871040644204636}, {\"X1\": 1, \"X2\": 4, \"mean\": 2.079884851215693, \"all_draws\": 2.0799996429535184}, {\"X1\": 2, \"X2\": 4, \"mean\": 2.554628673954443, \"all_draws\": 2.5582012952652544}, {\"X1\": 3, \"X2\": 4, \"mean\": 1.9592247746214984, \"all_draws\": 1.9555372353229694}, {\"X1\": 1, \"X2\": 5, \"mean\": 2.734923463733234, \"all_draws\": 2.7351547927741646}, {\"X1\": 2, \"X2\": 5, \"mean\": 2.9391843477432915, \"all_draws\": 2.93818892520477}, {\"X1\": 3, \"X2\": 5, \"mean\": 2.8038889188301748, \"all_draws\": 2.804654361819366}]}}, {\"mode\": \"vega-lite\"});\n",
       "</script>"
      ],
      "text/plain": [
       "alt.Chart(...)"
      ]
     },
     "execution_count": 26,
     "metadata": {},
     "output_type": "execute_result"
    }
   ],
   "source": [
    "delta_method = pd.DataFrame({'X1': x1, \\\n",
    "                             'X2': x2, \\\n",
    "                             'mean': df_raked.loc[df_raked.Type=='Raked'].Value})\n",
    "all_draws = pd.DataFrame({'X1': x1, \\\n",
    "                          'X2': x2, \\\n",
    "                          'all_draws': mean_draws})\n",
    "df_both = delta_method.merge(all_draws, how='inner', \\\n",
    "    on=['X1', 'X2'])\n",
    "min_x = min(df_both['mean'].min(), df_both['all_draws'].min())\n",
    "max_x = max(df_both['mean'].max(), df_both['all_draws'].max())\n",
    "chart = alt.Chart(df_both).mark_point(size=60).encode(\n",
    "    x=alt.X('all_draws:Q', scale=alt.Scale(domain=[min_x, max_x], zero=False), axis=alt.Axis(title='Using all draws')),\n",
    "    y=alt.Y('mean:Q', scale=alt.Scale(domain=[min_x, max_x], zero=False), axis=alt.Axis(title='Using the mean')),\n",
    "    color=alt.Color('X1:N', legend=alt.Legend(title='X1')),\n",
    "    shape=alt.Shape('X2:N', legend=alt.Legend(title='X2'))\n",
    ").configure_axis(\n",
    "    labelFontSize=24,\n",
    "    titleFontSize=24\n",
    ")\n",
    "chart"
   ]
  },
  {
   "cell_type": "code",
   "execution_count": 27,
   "id": "89e1c1c7-c4c0-4dd2-9344-288e7e01f8d7",
   "metadata": {},
   "outputs": [
    {
     "data": {
      "text/html": [
       "\n",
       "<style>\n",
       "  #altair-viz-d15aab2b6ced47f4a8acd4f1fb70dd59.vega-embed {\n",
       "    width: 100%;\n",
       "    display: flex;\n",
       "  }\n",
       "\n",
       "  #altair-viz-d15aab2b6ced47f4a8acd4f1fb70dd59.vega-embed details,\n",
       "  #altair-viz-d15aab2b6ced47f4a8acd4f1fb70dd59.vega-embed details summary {\n",
       "    position: relative;\n",
       "  }\n",
       "</style>\n",
       "<div id=\"altair-viz-d15aab2b6ced47f4a8acd4f1fb70dd59\"></div>\n",
       "<script type=\"text/javascript\">\n",
       "  var VEGA_DEBUG = (typeof VEGA_DEBUG == \"undefined\") ? {} : VEGA_DEBUG;\n",
       "  (function(spec, embedOpt){\n",
       "    let outputDiv = document.currentScript.previousElementSibling;\n",
       "    if (outputDiv.id !== \"altair-viz-d15aab2b6ced47f4a8acd4f1fb70dd59\") {\n",
       "      outputDiv = document.getElementById(\"altair-viz-d15aab2b6ced47f4a8acd4f1fb70dd59\");\n",
       "    }\n",
       "    const paths = {\n",
       "      \"vega\": \"https://cdn.jsdelivr.net/npm/vega@5?noext\",\n",
       "      \"vega-lib\": \"https://cdn.jsdelivr.net/npm/vega-lib?noext\",\n",
       "      \"vega-lite\": \"https://cdn.jsdelivr.net/npm/vega-lite@5.17.0?noext\",\n",
       "      \"vega-embed\": \"https://cdn.jsdelivr.net/npm/vega-embed@6?noext\",\n",
       "    };\n",
       "\n",
       "    function maybeLoadScript(lib, version) {\n",
       "      var key = `${lib.replace(\"-\", \"\")}_version`;\n",
       "      return (VEGA_DEBUG[key] == version) ?\n",
       "        Promise.resolve(paths[lib]) :\n",
       "        new Promise(function(resolve, reject) {\n",
       "          var s = document.createElement('script');\n",
       "          document.getElementsByTagName(\"head\")[0].appendChild(s);\n",
       "          s.async = true;\n",
       "          s.onload = () => {\n",
       "            VEGA_DEBUG[key] = version;\n",
       "            return resolve(paths[lib]);\n",
       "          };\n",
       "          s.onerror = () => reject(`Error loading script: ${paths[lib]}`);\n",
       "          s.src = paths[lib];\n",
       "        });\n",
       "    }\n",
       "\n",
       "    function showError(err) {\n",
       "      outputDiv.innerHTML = `<div class=\"error\" style=\"color:red;\">${err}</div>`;\n",
       "      throw err;\n",
       "    }\n",
       "\n",
       "    function displayChart(vegaEmbed) {\n",
       "      vegaEmbed(outputDiv, spec, embedOpt)\n",
       "        .catch(err => showError(`Javascript Error: ${err.message}<br>This usually means there's a typo in your chart specification. See the javascript console for the full traceback.`));\n",
       "    }\n",
       "\n",
       "    if(typeof define === \"function\" && define.amd) {\n",
       "      requirejs.config({paths});\n",
       "      require([\"vega-embed\"], displayChart, err => showError(`Error loading script: ${err.message}`));\n",
       "    } else {\n",
       "      maybeLoadScript(\"vega\", \"5\")\n",
       "        .then(() => maybeLoadScript(\"vega-lite\", \"5.17.0\"))\n",
       "        .then(() => maybeLoadScript(\"vega-embed\", \"6\"))\n",
       "        .catch(showError)\n",
       "        .then(() => displayChart(vegaEmbed));\n",
       "    }\n",
       "  })({\"config\": {\"view\": {\"continuousWidth\": 300, \"continuousHeight\": 300}, \"axis\": {\"labelFontSize\": 24, \"titleFontSize\": 24}}, \"data\": {\"name\": \"data-41ce97f2d0f62f6b1a5d56efd0be5e01\"}, \"mark\": {\"type\": \"point\", \"size\": 60}, \"encoding\": {\"color\": {\"field\": \"X1\", \"legend\": {\"title\": \"X1\"}, \"type\": \"nominal\"}, \"shape\": {\"field\": \"X2\", \"legend\": {\"title\": \"X2\"}, \"type\": \"nominal\"}, \"x\": {\"axis\": {\"title\": \"Using all draws\"}, \"field\": \"all_draws\", \"scale\": {\"domain\": [0.011737441969402735, 0.06758783694318439], \"zero\": false}, \"type\": \"quantitative\"}, \"y\": {\"axis\": {\"title\": \"Using delta method\"}, \"field\": \"delta_method\", \"scale\": {\"domain\": [0.011737441969402735, 0.06758783694318439], \"zero\": false}, \"type\": \"quantitative\"}}, \"$schema\": \"https://vega.github.io/schema/vega-lite/v5.17.0.json\", \"datasets\": {\"data-41ce97f2d0f62f6b1a5d56efd0be5e01\": [{\"X1\": 1, \"X2\": 1, \"delta_method\": 0.011737441969402735, \"all_draws\": 0.0124035576494417}, {\"X1\": 2, \"X2\": 1, \"delta_method\": 0.014729413820445557, \"all_draws\": 0.014936410837626788}, {\"X1\": 3, \"X2\": 1, \"delta_method\": 0.018185674942107443, \"all_draws\": 0.01918551522268999}, {\"X1\": 1, \"X2\": 2, \"delta_method\": 0.021542799658051837, \"all_draws\": 0.022393686117476108}, {\"X1\": 2, \"X2\": 2, \"delta_method\": 0.024781716555031703, \"all_draws\": 0.02559611090328864}, {\"X1\": 3, \"X2\": 2, \"delta_method\": 0.02749867563144822, \"all_draws\": 0.02827942512209849}, {\"X1\": 1, \"X2\": 3, \"delta_method\": 0.03333126344499983, \"all_draws\": 0.034593018102959554}, {\"X1\": 2, \"X2\": 3, \"delta_method\": 0.036799100469244964, \"all_draws\": 0.03874379210117836}, {\"X1\": 3, \"X2\": 3, \"delta_method\": 0.039448976641020345, \"all_draws\": 0.04045326747259477}, {\"X1\": 1, \"X2\": 4, \"delta_method\": 0.046762380469869066, \"all_draws\": 0.04994364276536266}, {\"X1\": 2, \"X2\": 4, \"delta_method\": 0.05063526273380883, \"all_draws\": 0.05332033438789545}, {\"X1\": 3, \"X2\": 4, \"delta_method\": 0.05437282078828488, \"all_draws\": 0.05642045397986683}, {\"X1\": 1, \"X2\": 5, \"delta_method\": 0.05740468905255138, \"all_draws\": 0.05970360709287751}, {\"X1\": 2, \"X2\": 5, \"delta_method\": 0.061782655499810255, \"all_draws\": 0.06428236936183296}, {\"X1\": 3, \"X2\": 5, \"delta_method\": 0.06410300730369657, \"all_draws\": 0.06758783694318439}]}}, {\"mode\": \"vega-lite\"});\n",
       "</script>"
      ],
      "text/plain": [
       "alt.Chart(...)"
      ]
     },
     "execution_count": 27,
     "metadata": {},
     "output_type": "execute_result"
    }
   ],
   "source": [
    "delta_method = pd.DataFrame({'X1': x1, \\\n",
    "                             'X2': x2, \\\n",
    "                             'delta_method': np.diag(covariance_mean)})\n",
    "all_draws = pd.DataFrame({'X1': x1, \\\n",
    "                          'X2': x2, \\\n",
    "                          'all_draws': np.diag(covariance_draws)})\n",
    "df_both = delta_method.merge(all_draws, how='inner', \\\n",
    "    left_on=['X1', 'X2'], \\\n",
    "    right_on=['X1', 'X2'])\n",
    "min_x = min(df_both['delta_method'].min(), df_both['all_draws'].min())\n",
    "max_x = max(df_both['delta_method'].max(), df_both['all_draws'].max())\n",
    "chart = alt.Chart(df_both).mark_point(size=60).encode(\n",
    "    x=alt.X('all_draws:Q', scale=alt.Scale(domain=[min_x, max_x], zero=False), axis=alt.Axis(title='Using all draws')),\n",
    "    y=alt.Y('delta_method:Q', scale=alt.Scale(domain=[min_x, max_x], zero=False), axis=alt.Axis(title='Using delta method')),\n",
    "    color=alt.Color('X1:N', legend=alt.Legend(title='X1')),\n",
    "    shape=alt.Shape('X2:N', legend=alt.Legend(title='X2'))\n",
    ").configure_axis(\n",
    "    labelFontSize=24,\n",
    "    titleFontSize=24\n",
    ")\n",
    "chart"
   ]
  },
  {
   "cell_type": "code",
   "execution_count": null,
   "id": "8fc8b66f-ce96-451d-ba85-89a74f910398",
   "metadata": {},
   "outputs": [],
   "source": []
  }
 ],
 "metadata": {
  "kernelspec": {
   "display_name": "Python 3 (ipykernel)",
   "language": "python",
   "name": "python3"
  },
  "language_info": {
   "codemirror_mode": {
    "name": "ipython",
    "version": 3
   },
   "file_extension": ".py",
   "mimetype": "text/x-python",
   "name": "python",
   "nbconvert_exporter": "python",
   "pygments_lexer": "ipython3",
   "version": "3.12.4"
  }
 },
 "nbformat": 4,
 "nbformat_minor": 5
}
