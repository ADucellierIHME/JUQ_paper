{
 "cells": [
  {
   "cell_type": "markdown",
   "id": "5bb2c7cd-5a40-484c-9637-c4f2f6651a19",
   "metadata": {},
   "source": [
    "# Raking in 2D\n",
    "\n",
    "This notebook explains how to use the raking method on a small 2D example."
   ]
  },
  {
   "cell_type": "code",
   "execution_count": 1,
   "id": "0598f2c0-d7d2-4d90-a9ac-cca47125636e",
   "metadata": {},
   "outputs": [],
   "source": [
    "# Python modules\n",
    "import altair as alt\n",
    "import numpy as np\n",
    "import pandas as pd\n",
    "from scipy.linalg import lu_factor, lu_solve\n",
    "from scipy.sparse.linalg import cg\n",
    "from statistics import covariance"
   ]
  },
  {
   "cell_type": "markdown",
   "id": "fb3bb8f7-8a43-4df1-93a3-bf329011f425",
   "metadata": {},
   "source": [
    "Modify this to see how much samples you need to get a good estimate of the covariance with the Monte Carlo method."
   ]
  },
  {
   "cell_type": "code",
   "execution_count": 2,
   "id": "6f50dae6-3c54-48fa-82cc-6d249d24c86f",
   "metadata": {},
   "outputs": [],
   "source": [
    "# Parameters\n",
    "N = 1000000 # Number of samples for Monte Carlo method"
   ]
  },
  {
   "cell_type": "markdown",
   "id": "e4c49ef3-9502-4fde-9d65-a07fb06587c5",
   "metadata": {},
   "source": [
    "## Generating the data\n",
    "\n",
    "We first begin by generating a balanced $3 \\times 5$ matrix. We compute the corresponding margins and then we add noise to the data. This way we have margins that sum correctly (thus the raking problem indeed has a solution), but we avoid having observations that already match the margins before the raking. "
   ]
  },
  {
   "cell_type": "code",
   "execution_count": 3,
   "id": "bcb3d946-404f-4a55-ae2a-73fadb9ad25d",
   "metadata": {},
   "outputs": [],
   "source": [
    "# Define variables and margins names\n",
    "x1 = [1, 2, 3, 1, 2, 3, 1, 2, 3, 1, 2, 3, 1, 2, 3]\n",
    "x2 = [1, 1, 1, 2, 2, 2, 3, 3, 3, 4, 4, 4, 5, 5, 5]\n",
    "margins = ['s1_1', 's1_2', 's1_3', 's1_4', 's1_5', 's2_1', 's2_2']\n",
    "\n",
    "# Generate balanced table\n",
    "rng = np.random.default_rng(0)\n",
    "beta_ij = rng.uniform(low=2.0, high=3.0, size=(3, 5))\n",
    "\n",
    "# Compute the margins\n",
    "s1 = np.sum(beta_ij, axis=0)\n",
    "s2 = np.sum(beta_ij, axis=1)\n",
    "\n",
    "# Add noise to the data\n",
    "mean = beta_ij.flatten(order='F') + rng.normal(0.0, 0.1, size=15)"
   ]
  },
  {
   "cell_type": "markdown",
   "id": "167a5da2-5a7a-4bb9-9324-b34dace83fe1",
   "metadata": {},
   "source": [
    "We then generate samples for the observations in order to be able to compare the two methods of uncertainty propagation (Monte Carlo and combination of Delta method and Implicit Function Theorem)."
   ]
  },
  {
   "cell_type": "code",
   "execution_count": 4,
   "id": "5bd3f668-8856-4aa0-8800-79aebf05b0cd",
   "metadata": {},
   "outputs": [],
   "source": [
    "# Define the covariance matrix of the observations\n",
    "cov = 0.01 * np.ones((15, 15))\n",
    "np.fill_diagonal(cov, np.arange(0.01, 0.16, 0.01))\n",
    "\n",
    "# Generate samples\n",
    "y = rng.multivariate_normal(mean, cov, N)"
   ]
  },
  {
   "cell_type": "markdown",
   "id": "6768874a-6791-48c3-8ce2-9646934b86bb",
   "metadata": {},
   "source": [
    "## Applying the raking procedure to the mean of the observations\n",
    "\n",
    "We start by computing the constraint matrix and the margin vector."
   ]
  },
  {
   "cell_type": "code",
   "execution_count": 5,
   "id": "a45250c8-bad2-4d58-bee3-0d27d8085e54",
   "metadata": {},
   "outputs": [],
   "source": [
    "def constraints_2D(s1, s2, I, J):\n",
    "    A = np.zeros((J + I - 1, I * J))\n",
    "    for j in range(0, J):\n",
    "        for i in range(0, I - 1):\n",
    "            A[J + i, j * I + i] = 1\n",
    "            A[j, j * I + i] = 1\n",
    "        A[j, j * I + I - 1] = 1\n",
    "    s = np.concatenate([s1, s2[0:(I - 1)]])\n",
    "    return (A, s)"
   ]
  },
  {
   "cell_type": "code",
   "execution_count": 6,
   "id": "2353d5ef-1f83-4be5-bce5-8d521d85b5d9",
   "metadata": {},
   "outputs": [],
   "source": [
    "(A, s) = constraints_2D(s1, s2, 3, 5)"
   ]
  },
  {
   "cell_type": "markdown",
   "id": "d485e260-a865-4fc4-a3aa-993c69231aa0",
   "metadata": {},
   "source": [
    "We then compute the mean of the observations and rake the mean using the $\\chi^2$ distance."
   ]
  },
  {
   "cell_type": "code",
   "execution_count": 7,
   "id": "3b8807fc-ab1e-4a14-b06a-24448340e4f7",
   "metadata": {},
   "outputs": [],
   "source": [
    "y_0 = np.mean(y, 0)"
   ]
  },
  {
   "cell_type": "code",
   "execution_count": 8,
   "id": "98022d31-ec68-4e0f-a3e1-c603912da793",
   "metadata": {},
   "outputs": [],
   "source": [
    "def raking_chi2_distance(y, q, A, s):\n",
    "    y_hat = np.matmul(A, y)\n",
    "    Phi = np.matmul(A, np.transpose(A * y * q))\n",
    "    lambda_k = cg(Phi, y_hat - s)[0]\n",
    "    beta = y * (1 - q * np.matmul(np.transpose(A), lambda_k))\n",
    "    return (beta, lambda_k)"
   ]
  },
  {
   "cell_type": "code",
   "execution_count": 9,
   "id": "bcdcb6bf-ddef-472f-9d42-41c72c85d2f2",
   "metadata": {},
   "outputs": [],
   "source": [
    "(beta_0, lambda_k) = raking_chi2_distance(y_0, np.ones(15), A, s)"
   ]
  },
  {
   "cell_type": "markdown",
   "id": "34733a53-35ea-43d0-ad77-9a3ae45b386f",
   "metadata": {},
   "source": [
    "We can verify that the solution of the raking problem verify the constraints:\n",
    "\n",
    "$A \\beta_0 = s$"
   ]
  },
  {
   "cell_type": "code",
   "execution_count": 10,
   "id": "9930847f-c8e4-4337-adb5-693644749e59",
   "metadata": {},
   "outputs": [
    {
     "data": {
      "text/plain": [
       "True"
      ]
     },
     "execution_count": 10,
     "metadata": {},
     "output_type": "execute_result"
    }
   ],
   "source": [
    "np.allclose(np.matmul(A, beta_0), s)"
   ]
  },
  {
   "cell_type": "markdown",
   "id": "fbbfa4dd-8fda-4895-87dd-6fea471b2f8f",
   "metadata": {},
   "source": [
    "We store the results into a dataframe for plotting."
   ]
  },
  {
   "cell_type": "code",
   "execution_count": 11,
   "id": "a5ad4fc9-c6cd-4852-a7c7-032e7d6e045e",
   "metadata": {},
   "outputs": [],
   "source": [
    "df_raked = pd.DataFrame({'X1': x1, \\\n",
    "                         'X2': x2, \\\n",
    "                         'observations': y_0, \\\n",
    "                         'raked_values': beta_0})"
   ]
  },
  {
   "cell_type": "markdown",
   "id": "60001bd2-0b08-4030-a071-600e1df280ee",
   "metadata": {},
   "source": [
    "## Propagate the uncertainties using Delta method and IFT\n",
    "\n",
    "We start by computing the gradient of the raked values with respect to the observations $y$: $\\frac{\\partial \\beta}{\\partial y}$ and the gradient of the raked values with respect to the margins $s$: $\\frac{\\partial \\beta}{\\partial s}$ using the Implicit Function Theorem."
   ]
  },
  {
   "cell_type": "code",
   "execution_count": 12,
   "id": "b6a99251-35d6-4eca-aeb0-a571c62e126b",
   "metadata": {},
   "outputs": [],
   "source": [
    "def compute_gradient(beta_0, lambda_0, y, q, A):\n",
    "    M = np.shape(A)[0]\n",
    "    N = np.shape(A)[1]\n",
    "    # Hessian of the distance function\n",
    "    H1_beta = np.diag(1.0 / (q * y))\n",
    "    H1_y = np.diag(- beta_0 / (q * np.square(y)))\n",
    "    # Gradient with respect to beta and lambda\n",
    "    H1_lambda = np.transpose(np.copy(A))\n",
    "    H2_beta = np.copy(A)\n",
    "    H2_lambda = np.zeros((M, M))    \n",
    "    DH_beta_lambda = np.concatenate(( \\\n",
    "        np.concatenate((H1_beta, H1_lambda), axis=1), \\\n",
    "        np.concatenate((H2_beta, H2_lambda), axis=1)), axis=0)\n",
    "    # Gradient with respect to y and s\n",
    "    H1_s = np.zeros((N, M))\n",
    "    H2_y = np.zeros((M, N))\n",
    "    H2_s = - np.identity(M)    \n",
    "    DH_y_s = np.concatenate(( \\\n",
    "        np.concatenate((H1_y, H1_s), axis=1), \\\n",
    "        np.concatenate((H2_y, H2_s), axis=1)), axis=0)\n",
    "    # Solve the system\n",
    "    Dh = np.zeros_like(DH_y_s)\n",
    "    lu, piv = lu_factor(DH_beta_lambda)\n",
    "    for i in range(0, N + M):\n",
    "        Dh[:, i] = - lu_solve((lu, piv), DH_y_s[:, i])\n",
    "    # Get the gradient\n",
    "    dh_y = Dh[0:N, 0:N]\n",
    "    dh_s = Dh[0:N, N:(N + M)]\n",
    "    return (dh_y, dh_s)"
   ]
  },
  {
   "cell_type": "code",
   "execution_count": 13,
   "id": "2b31d9a6-755e-4071-8412-d6b4ee9bb502",
   "metadata": {},
   "outputs": [],
   "source": [
    "(dh_y, dh_s) = compute_gradient(beta_0, lambda_k, y_0, np.ones(15), A)"
   ]
  },
  {
   "cell_type": "markdown",
   "id": "f84d8984-37f7-4fed-87ca-6a96fb46c2f2",
   "metadata": {},
   "source": [
    "We store the results into a dataframe for plotting."
   ]
  },
  {
   "cell_type": "code",
   "execution_count": 14,
   "id": "9af1b4a1-0cec-4518-8d09-9ae39cfd0049",
   "metadata": {},
   "outputs": [],
   "source": [
    "df_y = []\n",
    "df_s = []\n",
    "for i in range(0, 15):\n",
    "    df_y.append(pd.DataFrame({'raked_1': np.repeat(x1[i], 15), \\\n",
    "                              'raked_2': np.repeat(x2[i], 15), \\\n",
    "                              'X1': x1, \\\n",
    "                              'X2': x2, \\\n",
    "                              'grad_y': dh_y[i, :]}))\n",
    "    df_s.append(pd.DataFrame({'raked_1': np.repeat(x1[i], 7), \\\n",
    "                              'raked_2': np.repeat(x2[i], 7), \\\n",
    "                              'margins': margins, \\\n",
    "                              'grad_s': dh_s[i, :]}))\n",
    "df_y = pd.concat(df_y)\n",
    "df_s = pd.concat(df_s)"
   ]
  },
  {
   "cell_type": "markdown",
   "id": "92f2f1fc-973f-4307-a533-7405b6f37f42",
   "metadata": {},
   "source": [
    "Then we compute the covariance matrix of the raked values using the Delta method."
   ]
  },
  {
   "cell_type": "code",
   "execution_count": 15,
   "id": "a55a044b-398c-4528-affe-7c0072684b77",
   "metadata": {},
   "outputs": [],
   "source": [
    "covariance_mean = np.matmul(dh_y, np.matmul(cov, np.transpose(dh_y)))"
   ]
  },
  {
   "cell_type": "markdown",
   "id": "388655ae-7803-4079-824a-560132ba7285",
   "metadata": {},
   "source": [
    "## Monte Carlo simulation"
   ]
  },
  {
   "cell_type": "markdown",
   "id": "46197d1f-272e-43f3-999d-eca650b01369",
   "metadata": {},
   "source": [
    "We first apply the raking procedure to each sample."
   ]
  },
  {
   "cell_type": "code",
   "execution_count": 16,
   "id": "c908afb2-a950-4188-9697-9b959a2807b7",
   "metadata": {},
   "outputs": [],
   "source": [
    "beta = np.zeros((N, 15))\n",
    "for n in range(0, N):\n",
    "    y_n = y[n, :]\n",
    "    (beta_n, lambda_k) = raking_chi2_distance(y_n, np.ones(15), A, s)\n",
    "    beta[n, :] = beta_n"
   ]
  },
  {
   "cell_type": "markdown",
   "id": "2025b846-bc95-4eeb-8def-6b83655754f9",
   "metadata": {},
   "source": [
    "We compute the mean of the raked values."
   ]
  },
  {
   "cell_type": "code",
   "execution_count": 17,
   "id": "20c2ea44-bc7b-43d8-8091-4d6648b0f83b",
   "metadata": {},
   "outputs": [],
   "source": [
    "mean_draws = np.mean(beta, 0)"
   ]
  },
  {
   "cell_type": "markdown",
   "id": "805865ce-aa19-4f9d-a9c7-a6a8d9a8e3ea",
   "metadata": {},
   "source": [
    "We compute the variance of the raked values."
   ]
  },
  {
   "cell_type": "code",
   "execution_count": 18,
   "id": "8bbc4da2-300f-49c9-9455-ed8c4e211e22",
   "metadata": {},
   "outputs": [],
   "source": [
    "covariance_draws = np.matmul(np.transpose(beta - mean_draws), beta - mean_draws) / (N - 1)"
   ]
  },
  {
   "cell_type": "markdown",
   "id": "c4145845-4be9-4134-ba91-5aa7d731feee",
   "metadata": {},
   "source": [
    "## Plots"
   ]
  },
  {
   "cell_type": "markdown",
   "id": "99edded8-4383-405c-a06b-349ca69f7f6c",
   "metadata": {},
   "source": [
    "We gather initial values and corresponding raked values, with their associated variances."
   ]
  },
  {
   "cell_type": "code",
   "execution_count": 19,
   "id": "49ff5b81-86e0-48fb-92f3-084178cd1c52",
   "metadata": {},
   "outputs": [],
   "source": [
    "initial = pd.DataFrame({'X1': x1, \\\n",
    "                         'X2': x2, \\\n",
    "                         'variance': np.arange(0.01, 0.16, 0.01)})\n",
    "variance = pd.DataFrame({'X1': x1, \\\n",
    "                         'X2': x2, \\\n",
    "                         'variance': np.diag(covariance_mean)})\n",
    "df_obs = df_raked.drop(columns=['raked_values']).rename(columns={'observations': 'Value'})\n",
    "df_obs['Type'] = 'Initial'\n",
    "df_obs['width'] = 1\n",
    "df_obs = df_obs.merge(initial, how='inner', \\\n",
    "    left_on=['X1', 'X2'], \\\n",
    "    right_on=['X1', 'X2'])\n",
    "df_raked = df_raked.drop(columns=['observations']).rename(columns={'raked_values': 'Value'})\n",
    "df_raked['Type'] = 'Raked'\n",
    "df_raked['width'] = 2\n",
    "df_raked = df_raked.merge(variance, how='inner', \\\n",
    "    left_on=['X1', 'X2'], \\\n",
    "    right_on=['X1', 'X2'])\n",
    "df_raked = pd.concat([df_obs, df_raked])\n",
    "df_raked['Upper'] = df_raked['Value'] + np.sqrt(df_raked['variance'])\n",
    "df_raked['Lower'] = df_raked['Value'] - np.sqrt(df_raked['variance'])"
   ]
  },
  {
   "cell_type": "markdown",
   "id": "288f8b3a-0c42-4928-84b8-736291a77289",
   "metadata": {},
   "source": [
    "We plot initial values and raked values with their uncertainties (plus or minus the standard deviation)."
   ]
  },
  {
   "cell_type": "code",
   "execution_count": 20,
   "id": "121b74cd-7709-44fd-aed6-08314cbc6518",
   "metadata": {},
   "outputs": [
    {
     "data": {
      "text/html": [
       "\n",
       "<style>\n",
       "  #altair-viz-ca07092018564014a398cfb0fe63b442.vega-embed {\n",
       "    width: 100%;\n",
       "    display: flex;\n",
       "  }\n",
       "\n",
       "  #altair-viz-ca07092018564014a398cfb0fe63b442.vega-embed details,\n",
       "  #altair-viz-ca07092018564014a398cfb0fe63b442.vega-embed details summary {\n",
       "    position: relative;\n",
       "  }\n",
       "</style>\n",
       "<div id=\"altair-viz-ca07092018564014a398cfb0fe63b442\"></div>\n",
       "<script type=\"text/javascript\">\n",
       "  var VEGA_DEBUG = (typeof VEGA_DEBUG == \"undefined\") ? {} : VEGA_DEBUG;\n",
       "  (function(spec, embedOpt){\n",
       "    let outputDiv = document.currentScript.previousElementSibling;\n",
       "    if (outputDiv.id !== \"altair-viz-ca07092018564014a398cfb0fe63b442\") {\n",
       "      outputDiv = document.getElementById(\"altair-viz-ca07092018564014a398cfb0fe63b442\");\n",
       "    }\n",
       "    const paths = {\n",
       "      \"vega\": \"https://cdn.jsdelivr.net/npm/vega@5?noext\",\n",
       "      \"vega-lib\": \"https://cdn.jsdelivr.net/npm/vega-lib?noext\",\n",
       "      \"vega-lite\": \"https://cdn.jsdelivr.net/npm/vega-lite@5.20.1?noext\",\n",
       "      \"vega-embed\": \"https://cdn.jsdelivr.net/npm/vega-embed@6?noext\",\n",
       "    };\n",
       "\n",
       "    function maybeLoadScript(lib, version) {\n",
       "      var key = `${lib.replace(\"-\", \"\")}_version`;\n",
       "      return (VEGA_DEBUG[key] == version) ?\n",
       "        Promise.resolve(paths[lib]) :\n",
       "        new Promise(function(resolve, reject) {\n",
       "          var s = document.createElement('script');\n",
       "          document.getElementsByTagName(\"head\")[0].appendChild(s);\n",
       "          s.async = true;\n",
       "          s.onload = () => {\n",
       "            VEGA_DEBUG[key] = version;\n",
       "            return resolve(paths[lib]);\n",
       "          };\n",
       "          s.onerror = () => reject(`Error loading script: ${paths[lib]}`);\n",
       "          s.src = paths[lib];\n",
       "        });\n",
       "    }\n",
       "\n",
       "    function showError(err) {\n",
       "      outputDiv.innerHTML = `<div class=\"error\" style=\"color:red;\">${err}</div>`;\n",
       "      throw err;\n",
       "    }\n",
       "\n",
       "    function displayChart(vegaEmbed) {\n",
       "      vegaEmbed(outputDiv, spec, embedOpt)\n",
       "        .catch(err => showError(`Javascript Error: ${err.message}<br>This usually means there's a typo in your chart specification. See the javascript console for the full traceback.`));\n",
       "    }\n",
       "\n",
       "    if(typeof define === \"function\" && define.amd) {\n",
       "      requirejs.config({paths});\n",
       "      require([\"vega-embed\"], displayChart, err => showError(`Error loading script: ${err.message}`));\n",
       "    } else {\n",
       "      maybeLoadScript(\"vega\", \"5\")\n",
       "        .then(() => maybeLoadScript(\"vega-lite\", \"5.20.1\"))\n",
       "        .then(() => maybeLoadScript(\"vega-embed\", \"6\"))\n",
       "        .catch(showError)\n",
       "        .then(() => displayChart(vegaEmbed));\n",
       "    }\n",
       "  })({\"config\": {\"view\": {\"continuousWidth\": 300, \"continuousHeight\": 300}, \"axis\": {\"labelFontSize\": 24, \"titleFontSize\": 24}, \"legend\": {\"labelFontSize\": 24, \"titleFontSize\": 24}}, \"data\": {\"name\": \"data-aa283ec422b1b225ed12260d5d9272c5\"}, \"facet\": {\"column\": {\"field\": \"X2\", \"header\": {\"labelFontSize\": 24, \"title\": \"X2\", \"titleFontSize\": 24}, \"type\": \"nominal\"}}, \"spec\": {\"layer\": [{\"mark\": {\"type\": \"point\", \"filled\": true}, \"encoding\": {\"color\": {\"field\": \"Type\", \"type\": \"nominal\"}, \"shape\": {\"field\": \"Type\", \"type\": \"nominal\"}, \"x\": {\"field\": \"Value\", \"type\": \"quantitative\"}, \"y\": {\"field\": \"X1\", \"type\": \"nominal\"}}}, {\"mark\": {\"type\": \"errorbar\", \"clip\": true, \"opacity\": 0.5}, \"encoding\": {\"color\": {\"field\": \"Type\", \"legend\": null, \"type\": \"nominal\"}, \"strokeWidth\": {\"field\": \"width\", \"legend\": null, \"type\": \"quantitative\"}, \"x\": {\"axis\": {\"title\": \"Raked value\"}, \"field\": \"Upper\", \"scale\": {\"zero\": false}, \"type\": \"quantitative\"}, \"x2\": {\"field\": \"Lower\"}, \"y\": {\"axis\": {\"title\": \"X1\"}, \"field\": \"X1\", \"type\": \"nominal\"}}}], \"resolve\": {\"scale\": {\"color\": \"independent\", \"shape\": \"independent\"}}}, \"$schema\": \"https://vega.github.io/schema/vega-lite/v5.20.1.json\", \"datasets\": {\"data-aa283ec422b1b225ed12260d5d9272c5\": [{\"X1\": 1, \"X2\": 1, \"Value\": 2.5637669995331347, \"Type\": \"Initial\", \"width\": 1, \"variance\": 0.01, \"Upper\": 2.663766999533135, \"Lower\": 2.4637669995331346}, {\"X1\": 2, \"X2\": 1, \"Value\": 2.858284686734884, \"Type\": \"Initial\", \"width\": 1, \"variance\": 0.02, \"Upper\": 2.9997060429721936, \"Lower\": 2.7168633304975742}, {\"X1\": 3, \"X2\": 1, \"Value\": 2.78424695153894, \"Type\": \"Initial\", \"width\": 1, \"variance\": 0.03, \"Upper\": 2.9574520322958278, \"Lower\": 2.6110418707820524}, {\"X1\": 1, \"X2\": 2, \"Value\": 2.3108778730513215, \"Type\": \"Initial\", \"width\": 1, \"variance\": 0.04, \"Upper\": 2.5108778730513217, \"Lower\": 2.1108778730513214}, {\"X1\": 2, \"X2\": 2, \"Value\": 2.710877761052016, \"Type\": \"Initial\", \"width\": 1, \"variance\": 0.05, \"Upper\": 2.934484558801995, \"Lower\": 2.487270963302037}, {\"X1\": 3, \"X2\": 2, \"Value\": 1.9900782126686847, \"Type\": \"Initial\", \"width\": 1, \"variance\": 0.06, \"Upper\": 2.2350271869470024, \"Lower\": 1.745129238390367}, {\"X1\": 1, \"X2\": 3, \"Value\": 2.1773993776884364, \"Type\": \"Initial\", \"width\": 1, \"variance\": 0.07, \"Upper\": 2.4419745087948956, \"Lower\": 1.9128242465819774}, {\"X1\": 2, \"X2\": 3, \"Value\": 2.663769768416087, \"Type\": \"Initial\", \"width\": 1, \"variance\": 0.08, \"Upper\": 2.946612480890706, \"Lower\": 2.380927055941468}, {\"X1\": 3, \"X2\": 3, \"Value\": 2.8930758570434882, \"Type\": \"Initial\", \"width\": 1, \"variance\": 0.09, \"Upper\": 3.193075857043488, \"Lower\": 2.5930758570434884}, {\"X1\": 1, \"X2\": 4, \"Value\": 2.1069494992957396, \"Type\": \"Initial\", \"width\": 1, \"variance\": 0.1, \"Upper\": 2.4231772653125776, \"Lower\": 1.7907217332789016}, {\"X1\": 2, \"X2\": 4, \"Value\": 2.5529221203192503, \"Type\": \"Initial\", \"width\": 1, \"variance\": 0.11, \"Upper\": 2.88458459935479, \"Lower\": 2.2212596412837105}, {\"X1\": 3, \"X2\": 4, \"Value\": 1.9598179648167775, \"Type\": \"Initial\", \"width\": 1, \"variance\": 0.12, \"Upper\": 2.306228126330553, \"Lower\": 1.613407803303002}, {\"X1\": 1, \"X2\": 5, \"Value\": 2.7214077728216015, \"Type\": \"Initial\", \"width\": 1, \"variance\": 0.13, \"Upper\": 3.0819629003680005, \"Lower\": 2.3608526452752026}, {\"X1\": 2, \"X2\": 5, \"Value\": 2.8890894183580564, \"Type\": \"Initial\", \"width\": 1, \"variance\": 0.14, \"Upper\": 3.2632551570354504, \"Lower\": 2.5149236796806624}, {\"X1\": 3, \"X2\": 5, \"Value\": 2.7514443978789753, \"Type\": \"Initial\", \"width\": 1, \"variance\": 0.15, \"Upper\": 3.138742732499717, \"Lower\": 2.3641460632582336}, {\"X1\": 1, \"X2\": 1, \"Value\": 2.5900470171897316, \"Type\": \"Raked\", \"width\": 2, \"variance\": 0.011744742269898701, \"Upper\": 2.6984201793190095, \"Lower\": 2.481673855060454}, {\"X1\": 2, \"X2\": 1, \"Value\": 2.9251974145065436, \"Type\": \"Raked\", \"width\": 2, \"variance\": 0.014744804507409278, \"Upper\": 3.0466256011330812, \"Lower\": 2.803769227880006}, {\"X1\": 3, \"X2\": 1, \"Value\": 2.850327588863214, \"Type\": \"Raked\", \"width\": 2, \"variance\": 0.018223507245662515, \"Upper\": 2.9853220600302306, \"Lower\": 2.715333117696197}, {\"X1\": 1, \"X2\": 2, \"Value\": 2.246552950795683, \"Type\": \"Raked\", \"width\": 2, \"variance\": 0.021543880625023857, \"Upper\": 2.3933312892009937, \"Lower\": 2.099774612390372}, {\"X1\": 2, \"X2\": 2, \"Value\": 2.6710924920165047, \"Type\": \"Raked\", \"width\": 2, \"variance\": 0.02479482777761825, \"Upper\": 2.8285562268179447, \"Lower\": 2.5136287572150646}, {\"X1\": 3, \"X2\": 2, \"Value\": 1.9615156135563867, \"Type\": \"Raked\", \"width\": 2, \"variance\": 0.027525744112673188, \"Upper\": 2.127424456336611, \"Lower\": 1.7956067707761625}, {\"X1\": 1, \"X2\": 3, \"Value\": 2.126602743706647, \"Type\": \"Raked\", \"width\": 2, \"variance\": 0.0333704588213432, \"Upper\": 2.3092785735839003, \"Lower\": 1.9439269138293938}, {\"X1\": 2, \"X2\": 3, \"Value\": 2.636680594228714, \"Type\": \"Raked\", \"width\": 2, \"variance\": 0.036852780998788255, \"Upper\": 2.8286513758565133, \"Lower\": 2.4447098126009146}, {\"X1\": 3, \"X2\": 3, \"Value\": 2.8645911208617836, \"Type\": \"Raked\", \"width\": 2, \"variance\": 0.03952157927896145, \"Upper\": 3.063391471160674, \"Lower\": 2.6657907705628934}, {\"X1\": 1, \"X2\": 4, \"Value\": 2.0795861269781737, \"Type\": \"Raked\", \"width\": 2, \"variance\": 0.04682708291621979, \"Upper\": 2.2959817898649786, \"Lower\": 1.8631904640913686}, {\"X1\": 2, \"X2\": 4, \"Value\": 2.55336212098072, \"Type\": \"Raked\", \"width\": 2, \"variance\": 0.05071373499897354, \"Upper\": 2.7785592235352903, \"Lower\": 2.3281650184261498}, {\"X1\": 3, \"X2\": 4, \"Value\": 1.9607900512023737, \"Type\": \"Raked\", \"width\": 2, \"variance\": 0.05448493670694269, \"Upper\": 2.1942101375423086, \"Lower\": 1.7273699648624388}, {\"X1\": 1, \"X2\": 5, \"Value\": 2.734731013182296, \"Type\": \"Raked\", \"width\": 2, \"variance\": 0.05742578015079071, \"Upper\": 2.9743677802920008, \"Lower\": 2.4950942460725916}, {\"X1\": 2, \"X2\": 5, \"Value\": 2.941252699224811, \"Type\": \"Raked\", \"width\": 2, \"variance\": 0.06181042161964787, \"Upper\": 3.189869717185464, \"Lower\": 2.6926356812641576}, {\"X1\": 3, \"X2\": 5, \"Value\": 2.802012984651599, \"Type\": \"Raked\", \"width\": 2, \"variance\": 0.06418503449913243, \"Upper\": 3.0553606400564446, \"Lower\": 2.548665329246753}]}}, {\"mode\": \"vega-lite\"});\n",
       "</script>"
      ],
      "text/plain": [
       "alt.FacetChart(...)"
      ]
     },
     "execution_count": 20,
     "metadata": {},
     "output_type": "execute_result"
    }
   ],
   "source": [
    "bar = alt.Chart(df_raked).mark_errorbar(clip=True, opacity=0.5).encode(\n",
    "    alt.X('Upper:Q', scale=alt.Scale(zero=False), axis=alt.Axis(title='Raked value')),\n",
    "    alt.X2('Lower:Q'),\n",
    "    alt.Y('X1:N', axis=alt.Axis(title='X1')),\n",
    "    color=alt.Color('Type:N', legend=None),\n",
    "    strokeWidth=alt.StrokeWidth('width:Q', legend=None)\n",
    ")\n",
    "point = alt.Chart(df_raked).mark_point(\n",
    "    filled=True\n",
    ").encode(\n",
    "    alt.X('Value:Q'),\n",
    "    alt.Y('X1:N'),\n",
    "    color=alt.Color('Type:N'),\n",
    "    shape=alt.Shape('Type:N')\n",
    ")\n",
    "chart = alt.layer(point, bar).resolve_scale(\n",
    "    shape='independent',\n",
    "    color='independent'\n",
    ").facet(\n",
    "    column=alt.Column('X2:N', header=alt.Header(title='X2', titleFontSize=24, labelFontSize=24)),\n",
    ").configure_axis(\n",
    "    labelFontSize=24,\n",
    "    titleFontSize=24\n",
    ").configure_legend(\n",
    "    labelFontSize=24,\n",
    "    titleFontSize=24\n",
    ")\n",
    "chart"
   ]
  },
  {
   "cell_type": "code",
   "execution_count": 21,
   "id": "f48d13da-24a3-41c7-ae7a-9ff5e4634944",
   "metadata": {},
   "outputs": [
    {
     "data": {
      "text/html": [
       "\n",
       "<style>\n",
       "  #altair-viz-a38ff19328824ca7985e44700040f76a.vega-embed {\n",
       "    width: 100%;\n",
       "    display: flex;\n",
       "  }\n",
       "\n",
       "  #altair-viz-a38ff19328824ca7985e44700040f76a.vega-embed details,\n",
       "  #altair-viz-a38ff19328824ca7985e44700040f76a.vega-embed details summary {\n",
       "    position: relative;\n",
       "  }\n",
       "</style>\n",
       "<div id=\"altair-viz-a38ff19328824ca7985e44700040f76a\"></div>\n",
       "<script type=\"text/javascript\">\n",
       "  var VEGA_DEBUG = (typeof VEGA_DEBUG == \"undefined\") ? {} : VEGA_DEBUG;\n",
       "  (function(spec, embedOpt){\n",
       "    let outputDiv = document.currentScript.previousElementSibling;\n",
       "    if (outputDiv.id !== \"altair-viz-a38ff19328824ca7985e44700040f76a\") {\n",
       "      outputDiv = document.getElementById(\"altair-viz-a38ff19328824ca7985e44700040f76a\");\n",
       "    }\n",
       "    const paths = {\n",
       "      \"vega\": \"https://cdn.jsdelivr.net/npm/vega@5?noext\",\n",
       "      \"vega-lib\": \"https://cdn.jsdelivr.net/npm/vega-lib?noext\",\n",
       "      \"vega-lite\": \"https://cdn.jsdelivr.net/npm/vega-lite@5.20.1?noext\",\n",
       "      \"vega-embed\": \"https://cdn.jsdelivr.net/npm/vega-embed@6?noext\",\n",
       "    };\n",
       "\n",
       "    function maybeLoadScript(lib, version) {\n",
       "      var key = `${lib.replace(\"-\", \"\")}_version`;\n",
       "      return (VEGA_DEBUG[key] == version) ?\n",
       "        Promise.resolve(paths[lib]) :\n",
       "        new Promise(function(resolve, reject) {\n",
       "          var s = document.createElement('script');\n",
       "          document.getElementsByTagName(\"head\")[0].appendChild(s);\n",
       "          s.async = true;\n",
       "          s.onload = () => {\n",
       "            VEGA_DEBUG[key] = version;\n",
       "            return resolve(paths[lib]);\n",
       "          };\n",
       "          s.onerror = () => reject(`Error loading script: ${paths[lib]}`);\n",
       "          s.src = paths[lib];\n",
       "        });\n",
       "    }\n",
       "\n",
       "    function showError(err) {\n",
       "      outputDiv.innerHTML = `<div class=\"error\" style=\"color:red;\">${err}</div>`;\n",
       "      throw err;\n",
       "    }\n",
       "\n",
       "    function displayChart(vegaEmbed) {\n",
       "      vegaEmbed(outputDiv, spec, embedOpt)\n",
       "        .catch(err => showError(`Javascript Error: ${err.message}<br>This usually means there's a typo in your chart specification. See the javascript console for the full traceback.`));\n",
       "    }\n",
       "\n",
       "    if(typeof define === \"function\" && define.amd) {\n",
       "      requirejs.config({paths});\n",
       "      require([\"vega-embed\"], displayChart, err => showError(`Error loading script: ${err.message}`));\n",
       "    } else {\n",
       "      maybeLoadScript(\"vega\", \"5\")\n",
       "        .then(() => maybeLoadScript(\"vega-lite\", \"5.20.1\"))\n",
       "        .then(() => maybeLoadScript(\"vega-embed\", \"6\"))\n",
       "        .catch(showError)\n",
       "        .then(() => displayChart(vegaEmbed));\n",
       "    }\n",
       "  })({\"config\": {\"view\": {\"continuousWidth\": 300, \"continuousHeight\": 300}, \"axis\": {\"labelFontSize\": 24, \"titleFontSize\": 24}, \"legend\": {\"labelFontSize\": 24, \"titleFontSize\": 24}}, \"data\": {\"name\": \"data-aa283ec422b1b225ed12260d5d9272c5\"}, \"facet\": {\"column\": {\"field\": \"X1\", \"header\": {\"labelFontSize\": 24, \"title\": \"X1\", \"titleFontSize\": 24}, \"type\": \"nominal\"}}, \"spec\": {\"layer\": [{\"mark\": {\"type\": \"point\", \"filled\": true}, \"encoding\": {\"color\": {\"field\": \"Type\", \"type\": \"nominal\"}, \"shape\": {\"field\": \"Type\", \"type\": \"nominal\"}, \"x\": {\"field\": \"Value\", \"type\": \"quantitative\"}, \"y\": {\"field\": \"X2\", \"type\": \"nominal\"}}}, {\"mark\": {\"type\": \"errorbar\", \"clip\": true, \"opacity\": 0.5}, \"encoding\": {\"color\": {\"field\": \"Type\", \"legend\": null, \"type\": \"nominal\"}, \"strokeWidth\": {\"field\": \"width\", \"legend\": null, \"type\": \"quantitative\"}, \"x\": {\"axis\": {\"title\": \"Raked value\"}, \"field\": \"Upper\", \"scale\": {\"zero\": false}, \"type\": \"quantitative\"}, \"x2\": {\"field\": \"Lower\"}, \"y\": {\"axis\": {\"title\": \"X2\"}, \"field\": \"X2\", \"type\": \"nominal\"}}}], \"resolve\": {\"scale\": {\"color\": \"independent\", \"shape\": \"independent\"}}}, \"$schema\": \"https://vega.github.io/schema/vega-lite/v5.20.1.json\", \"datasets\": {\"data-aa283ec422b1b225ed12260d5d9272c5\": [{\"X1\": 1, \"X2\": 1, \"Value\": 2.5637669995331347, \"Type\": \"Initial\", \"width\": 1, \"variance\": 0.01, \"Upper\": 2.663766999533135, \"Lower\": 2.4637669995331346}, {\"X1\": 2, \"X2\": 1, \"Value\": 2.858284686734884, \"Type\": \"Initial\", \"width\": 1, \"variance\": 0.02, \"Upper\": 2.9997060429721936, \"Lower\": 2.7168633304975742}, {\"X1\": 3, \"X2\": 1, \"Value\": 2.78424695153894, \"Type\": \"Initial\", \"width\": 1, \"variance\": 0.03, \"Upper\": 2.9574520322958278, \"Lower\": 2.6110418707820524}, {\"X1\": 1, \"X2\": 2, \"Value\": 2.3108778730513215, \"Type\": \"Initial\", \"width\": 1, \"variance\": 0.04, \"Upper\": 2.5108778730513217, \"Lower\": 2.1108778730513214}, {\"X1\": 2, \"X2\": 2, \"Value\": 2.710877761052016, \"Type\": \"Initial\", \"width\": 1, \"variance\": 0.05, \"Upper\": 2.934484558801995, \"Lower\": 2.487270963302037}, {\"X1\": 3, \"X2\": 2, \"Value\": 1.9900782126686847, \"Type\": \"Initial\", \"width\": 1, \"variance\": 0.06, \"Upper\": 2.2350271869470024, \"Lower\": 1.745129238390367}, {\"X1\": 1, \"X2\": 3, \"Value\": 2.1773993776884364, \"Type\": \"Initial\", \"width\": 1, \"variance\": 0.07, \"Upper\": 2.4419745087948956, \"Lower\": 1.9128242465819774}, {\"X1\": 2, \"X2\": 3, \"Value\": 2.663769768416087, \"Type\": \"Initial\", \"width\": 1, \"variance\": 0.08, \"Upper\": 2.946612480890706, \"Lower\": 2.380927055941468}, {\"X1\": 3, \"X2\": 3, \"Value\": 2.8930758570434882, \"Type\": \"Initial\", \"width\": 1, \"variance\": 0.09, \"Upper\": 3.193075857043488, \"Lower\": 2.5930758570434884}, {\"X1\": 1, \"X2\": 4, \"Value\": 2.1069494992957396, \"Type\": \"Initial\", \"width\": 1, \"variance\": 0.1, \"Upper\": 2.4231772653125776, \"Lower\": 1.7907217332789016}, {\"X1\": 2, \"X2\": 4, \"Value\": 2.5529221203192503, \"Type\": \"Initial\", \"width\": 1, \"variance\": 0.11, \"Upper\": 2.88458459935479, \"Lower\": 2.2212596412837105}, {\"X1\": 3, \"X2\": 4, \"Value\": 1.9598179648167775, \"Type\": \"Initial\", \"width\": 1, \"variance\": 0.12, \"Upper\": 2.306228126330553, \"Lower\": 1.613407803303002}, {\"X1\": 1, \"X2\": 5, \"Value\": 2.7214077728216015, \"Type\": \"Initial\", \"width\": 1, \"variance\": 0.13, \"Upper\": 3.0819629003680005, \"Lower\": 2.3608526452752026}, {\"X1\": 2, \"X2\": 5, \"Value\": 2.8890894183580564, \"Type\": \"Initial\", \"width\": 1, \"variance\": 0.14, \"Upper\": 3.2632551570354504, \"Lower\": 2.5149236796806624}, {\"X1\": 3, \"X2\": 5, \"Value\": 2.7514443978789753, \"Type\": \"Initial\", \"width\": 1, \"variance\": 0.15, \"Upper\": 3.138742732499717, \"Lower\": 2.3641460632582336}, {\"X1\": 1, \"X2\": 1, \"Value\": 2.5900470171897316, \"Type\": \"Raked\", \"width\": 2, \"variance\": 0.011744742269898701, \"Upper\": 2.6984201793190095, \"Lower\": 2.481673855060454}, {\"X1\": 2, \"X2\": 1, \"Value\": 2.9251974145065436, \"Type\": \"Raked\", \"width\": 2, \"variance\": 0.014744804507409278, \"Upper\": 3.0466256011330812, \"Lower\": 2.803769227880006}, {\"X1\": 3, \"X2\": 1, \"Value\": 2.850327588863214, \"Type\": \"Raked\", \"width\": 2, \"variance\": 0.018223507245662515, \"Upper\": 2.9853220600302306, \"Lower\": 2.715333117696197}, {\"X1\": 1, \"X2\": 2, \"Value\": 2.246552950795683, \"Type\": \"Raked\", \"width\": 2, \"variance\": 0.021543880625023857, \"Upper\": 2.3933312892009937, \"Lower\": 2.099774612390372}, {\"X1\": 2, \"X2\": 2, \"Value\": 2.6710924920165047, \"Type\": \"Raked\", \"width\": 2, \"variance\": 0.02479482777761825, \"Upper\": 2.8285562268179447, \"Lower\": 2.5136287572150646}, {\"X1\": 3, \"X2\": 2, \"Value\": 1.9615156135563867, \"Type\": \"Raked\", \"width\": 2, \"variance\": 0.027525744112673188, \"Upper\": 2.127424456336611, \"Lower\": 1.7956067707761625}, {\"X1\": 1, \"X2\": 3, \"Value\": 2.126602743706647, \"Type\": \"Raked\", \"width\": 2, \"variance\": 0.0333704588213432, \"Upper\": 2.3092785735839003, \"Lower\": 1.9439269138293938}, {\"X1\": 2, \"X2\": 3, \"Value\": 2.636680594228714, \"Type\": \"Raked\", \"width\": 2, \"variance\": 0.036852780998788255, \"Upper\": 2.8286513758565133, \"Lower\": 2.4447098126009146}, {\"X1\": 3, \"X2\": 3, \"Value\": 2.8645911208617836, \"Type\": \"Raked\", \"width\": 2, \"variance\": 0.03952157927896145, \"Upper\": 3.063391471160674, \"Lower\": 2.6657907705628934}, {\"X1\": 1, \"X2\": 4, \"Value\": 2.0795861269781737, \"Type\": \"Raked\", \"width\": 2, \"variance\": 0.04682708291621979, \"Upper\": 2.2959817898649786, \"Lower\": 1.8631904640913686}, {\"X1\": 2, \"X2\": 4, \"Value\": 2.55336212098072, \"Type\": \"Raked\", \"width\": 2, \"variance\": 0.05071373499897354, \"Upper\": 2.7785592235352903, \"Lower\": 2.3281650184261498}, {\"X1\": 3, \"X2\": 4, \"Value\": 1.9607900512023737, \"Type\": \"Raked\", \"width\": 2, \"variance\": 0.05448493670694269, \"Upper\": 2.1942101375423086, \"Lower\": 1.7273699648624388}, {\"X1\": 1, \"X2\": 5, \"Value\": 2.734731013182296, \"Type\": \"Raked\", \"width\": 2, \"variance\": 0.05742578015079071, \"Upper\": 2.9743677802920008, \"Lower\": 2.4950942460725916}, {\"X1\": 2, \"X2\": 5, \"Value\": 2.941252699224811, \"Type\": \"Raked\", \"width\": 2, \"variance\": 0.06181042161964787, \"Upper\": 3.189869717185464, \"Lower\": 2.6926356812641576}, {\"X1\": 3, \"X2\": 5, \"Value\": 2.802012984651599, \"Type\": \"Raked\", \"width\": 2, \"variance\": 0.06418503449913243, \"Upper\": 3.0553606400564446, \"Lower\": 2.548665329246753}]}}, {\"mode\": \"vega-lite\"});\n",
       "</script>"
      ],
      "text/plain": [
       "alt.FacetChart(...)"
      ]
     },
     "execution_count": 21,
     "metadata": {},
     "output_type": "execute_result"
    }
   ],
   "source": [
    "bar = alt.Chart(df_raked).mark_errorbar(clip=True, opacity=0.5).encode(\n",
    "    alt.X('Upper:Q', scale=alt.Scale(zero=False), axis=alt.Axis(title='Raked value')),\n",
    "    alt.X2('Lower:Q'),\n",
    "    alt.Y('X2:N', axis=alt.Axis(title='X2')),\n",
    "    color=alt.Color('Type:N', legend=None),\n",
    "    strokeWidth=alt.StrokeWidth('width:Q', legend=None)\n",
    ")\n",
    "point = alt.Chart(df_raked).mark_point(\n",
    "    filled=True\n",
    ").encode(\n",
    "    alt.X('Value:Q'),\n",
    "    alt.Y('X2:N'),\n",
    "    color=alt.Color('Type:N'),\n",
    "    shape=alt.Shape('Type:N')\n",
    ")\n",
    "chart = alt.layer(point, bar).resolve_scale(\n",
    "    shape='independent',\n",
    "    color='independent'\n",
    ").facet(\n",
    "    column=alt.Column('X1:N', header=alt.Header(title='X1', titleFontSize=24, labelFontSize=24)),\n",
    ").configure_axis(\n",
    "    labelFontSize=24,\n",
    "    titleFontSize=24\n",
    ").configure_legend(\n",
    "    labelFontSize=24,\n",
    "    titleFontSize=24\n",
    ")\n",
    "chart"
   ]
  },
  {
   "cell_type": "markdown",
   "id": "14c31498-e48d-46f8-9b07-3f13a72fa666",
   "metadata": {},
   "source": [
    "Now we take one observation ($X_1 = 3$ and $X_2 = 4$) and we look at how it will influence the raked values."
   ]
  },
  {
   "cell_type": "code",
   "execution_count": 22,
   "id": "43c9632f-ad59-4793-9837-063822d1288c",
   "metadata": {},
   "outputs": [
    {
     "data": {
      "text/html": [
       "\n",
       "<style>\n",
       "  #altair-viz-4c0b32863b58440faf7bbca7ae653ec1.vega-embed {\n",
       "    width: 100%;\n",
       "    display: flex;\n",
       "  }\n",
       "\n",
       "  #altair-viz-4c0b32863b58440faf7bbca7ae653ec1.vega-embed details,\n",
       "  #altair-viz-4c0b32863b58440faf7bbca7ae653ec1.vega-embed details summary {\n",
       "    position: relative;\n",
       "  }\n",
       "</style>\n",
       "<div id=\"altair-viz-4c0b32863b58440faf7bbca7ae653ec1\"></div>\n",
       "<script type=\"text/javascript\">\n",
       "  var VEGA_DEBUG = (typeof VEGA_DEBUG == \"undefined\") ? {} : VEGA_DEBUG;\n",
       "  (function(spec, embedOpt){\n",
       "    let outputDiv = document.currentScript.previousElementSibling;\n",
       "    if (outputDiv.id !== \"altair-viz-4c0b32863b58440faf7bbca7ae653ec1\") {\n",
       "      outputDiv = document.getElementById(\"altair-viz-4c0b32863b58440faf7bbca7ae653ec1\");\n",
       "    }\n",
       "    const paths = {\n",
       "      \"vega\": \"https://cdn.jsdelivr.net/npm/vega@5?noext\",\n",
       "      \"vega-lib\": \"https://cdn.jsdelivr.net/npm/vega-lib?noext\",\n",
       "      \"vega-lite\": \"https://cdn.jsdelivr.net/npm/vega-lite@5.20.1?noext\",\n",
       "      \"vega-embed\": \"https://cdn.jsdelivr.net/npm/vega-embed@6?noext\",\n",
       "    };\n",
       "\n",
       "    function maybeLoadScript(lib, version) {\n",
       "      var key = `${lib.replace(\"-\", \"\")}_version`;\n",
       "      return (VEGA_DEBUG[key] == version) ?\n",
       "        Promise.resolve(paths[lib]) :\n",
       "        new Promise(function(resolve, reject) {\n",
       "          var s = document.createElement('script');\n",
       "          document.getElementsByTagName(\"head\")[0].appendChild(s);\n",
       "          s.async = true;\n",
       "          s.onload = () => {\n",
       "            VEGA_DEBUG[key] = version;\n",
       "            return resolve(paths[lib]);\n",
       "          };\n",
       "          s.onerror = () => reject(`Error loading script: ${paths[lib]}`);\n",
       "          s.src = paths[lib];\n",
       "        });\n",
       "    }\n",
       "\n",
       "    function showError(err) {\n",
       "      outputDiv.innerHTML = `<div class=\"error\" style=\"color:red;\">${err}</div>`;\n",
       "      throw err;\n",
       "    }\n",
       "\n",
       "    function displayChart(vegaEmbed) {\n",
       "      vegaEmbed(outputDiv, spec, embedOpt)\n",
       "        .catch(err => showError(`Javascript Error: ${err.message}<br>This usually means there's a typo in your chart specification. See the javascript console for the full traceback.`));\n",
       "    }\n",
       "\n",
       "    if(typeof define === \"function\" && define.amd) {\n",
       "      requirejs.config({paths});\n",
       "      require([\"vega-embed\"], displayChart, err => showError(`Error loading script: ${err.message}`));\n",
       "    } else {\n",
       "      maybeLoadScript(\"vega\", \"5\")\n",
       "        .then(() => maybeLoadScript(\"vega-lite\", \"5.20.1\"))\n",
       "        .then(() => maybeLoadScript(\"vega-embed\", \"6\"))\n",
       "        .catch(showError)\n",
       "        .then(() => displayChart(vegaEmbed));\n",
       "    }\n",
       "  })({\"config\": {\"view\": {\"continuousWidth\": 300, \"continuousHeight\": 300}, \"axis\": {\"labelFontSize\": 12, \"titleFontSize\": 12}, \"legend\": {\"labelFontSize\": 10, \"titleFontSize\": 10}, \"title\": {\"fontSize\": 12}}, \"layer\": [{\"mark\": {\"type\": \"rect\"}, \"encoding\": {\"color\": {\"field\": \"grad_y\", \"legend\": {\"title\": [\"Effect of\", \"one obs.\"]}, \"scale\": {\"domain\": [-0.587221170016425, 0.587221170016425], \"scheme\": \"redblue\"}, \"type\": \"quantitative\"}, \"x\": {\"axis\": {\"title\": \"X1\"}, \"field\": \"raked_1\", \"type\": \"nominal\"}, \"y\": {\"axis\": {\"title\": \"X2\"}, \"field\": \"raked_2\", \"type\": \"nominal\"}}}, {\"mark\": {\"type\": \"text\", \"baseline\": \"middle\"}, \"encoding\": {\"text\": {\"field\": \"grad_y\", \"format\": \".2f\", \"type\": \"quantitative\"}, \"x\": {\"axis\": {\"title\": \"X1\"}, \"field\": \"raked_1\", \"type\": \"nominal\"}, \"y\": {\"axis\": {\"title\": \"X2\"}, \"field\": \"raked_2\", \"type\": \"nominal\"}}}], \"data\": {\"name\": \"data-6dab362ad7fc3789fcddd11d51cc36c2\"}, \"height\": 180, \"title\": \"X1 = 3 - X2 = 4\", \"width\": 120, \"$schema\": \"https://vega.github.io/schema/vega-lite/v5.20.1.json\", \"datasets\": {\"data-6dab362ad7fc3789fcddd11d51cc36c2\": [{\"raked_1\": 1, \"raked_2\": 1, \"X1\": 3, \"X2\": 4, \"grad_y\": 0.07187509078195793}, {\"raked_1\": 2, \"raked_2\": 1, \"X1\": 3, \"X2\": 4, \"grad_y\": 0.0841751569245776}, {\"raked_1\": 3, \"raked_2\": 1, \"X1\": 3, \"X2\": 4, \"grad_y\": -0.15605024770653553}, {\"raked_1\": 1, \"raked_2\": 2, \"X1\": 3, \"X2\": 4, \"grad_y\": 0.053883099471404836}, {\"raked_1\": 2, \"raked_2\": 2, \"X1\": 3, \"X2\": 4, \"grad_y\": 0.06704471633156495}, {\"raked_1\": 3, \"raked_2\": 2, \"X1\": 3, \"X2\": 4, \"grad_y\": -0.12092781580296978}, {\"raked_1\": 1, \"raked_2\": 3, \"X1\": 3, \"X2\": 4, \"grad_y\": 0.06742263015564133}, {\"raked_1\": 2, \"raked_2\": 3, \"X1\": 3, \"X2\": 4, \"grad_y\": 0.08625108738318708}, {\"raked_1\": 3, \"raked_2\": 3, \"X1\": 3, \"X2\": 4, \"grad_y\": -0.1536737175388284}, {\"raked_1\": 1, \"raked_2\": 4, \"X1\": 3, \"X2\": 4, \"grad_y\": -0.2671434563590987}, {\"raked_1\": 2, \"raked_2\": 4, \"X1\": 3, \"X2\": 4, \"grad_y\": -0.32007771365732635}, {\"raked_1\": 3, \"raked_2\": 4, \"X1\": 3, \"X2\": 4, \"grad_y\": 0.587221170016425}, {\"raked_1\": 1, \"raked_2\": 5, \"X1\": 3, \"X2\": 4, \"grad_y\": 0.07396263595009463}, {\"raked_1\": 2, \"raked_2\": 5, \"X1\": 3, \"X2\": 4, \"grad_y\": 0.08260675301799668}, {\"raked_1\": 3, \"raked_2\": 5, \"X1\": 3, \"X2\": 4, \"grad_y\": -0.1565693889680913}]}}, {\"mode\": \"vega-lite\"});\n",
       "</script>"
      ],
      "text/plain": [
       "alt.LayerChart(...)"
      ]
     },
     "execution_count": 22,
     "metadata": {},
     "output_type": "execute_result"
    }
   ],
   "source": [
    "index = np.argmax(np.abs(df_y.grad_y))\n",
    "index_var1 = df_y.iloc[index].X1\n",
    "index_var2 = df_y.iloc[index].X2\n",
    "df_y_loc = df_y.loc[(df_y.X1==index_var1)&(df_y.X2==index_var2)]\n",
    "max_scale = max(abs(df_y_loc['grad_y'].min()), abs(df_y_loc['grad_y'].max()))\n",
    "\n",
    "base = alt.Chart(df_y_loc).encode(\n",
    "    x=alt.X('raked_1:N', axis=alt.Axis(title='X1')),\n",
    "    y=alt.Y('raked_2:N', axis=alt.Axis(title='X2')),\n",
    ")\n",
    "\n",
    "heatmap = base.mark_rect().encode(\n",
    "    color=alt.Color('grad_y:Q',\n",
    "        scale=alt.Scale(scheme='redblue', domain=[-max_scale, max_scale]),\n",
    "        legend=alt.Legend(title=['Effect of', 'one obs.']))\n",
    ")\n",
    "\n",
    "text = base.mark_text(baseline='middle').encode(\n",
    "    alt.Text('grad_y:Q', format='.2f')\n",
    ")\n",
    "\n",
    "chart = alt.layer(heatmap, text\n",
    ").properties(\n",
    "    title='X1 = ' + str(int(index_var1)) + ' - X2 = ' + str(int(index_var2)),\n",
    "    width=120,\n",
    "    height=180\n",
    ").configure_title(\n",
    "    fontSize=12\n",
    ").configure_axis(\n",
    "    labelFontSize=12,\n",
    "    titleFontSize=12\n",
    ").configure_legend(\n",
    "    labelFontSize=10,\n",
    "    titleFontSize=10\n",
    ")\n",
    "chart"
   ]
  },
  {
   "cell_type": "markdown",
   "id": "2673f417-8389-4756-9a9d-4f21ba1c4dfe",
   "metadata": {},
   "source": [
    "Now we take one raked value ($X_1 = 3$ and $X_2 = 4$) and we look at how it is nfluenced by the observations."
   ]
  },
  {
   "cell_type": "code",
   "execution_count": 23,
   "id": "215ef5ee-1716-4ceb-b329-af0bbe58ba07",
   "metadata": {},
   "outputs": [
    {
     "data": {
      "text/html": [
       "\n",
       "<style>\n",
       "  #altair-viz-fd46d3b415bf4ed383708a315e0071e3.vega-embed {\n",
       "    width: 100%;\n",
       "    display: flex;\n",
       "  }\n",
       "\n",
       "  #altair-viz-fd46d3b415bf4ed383708a315e0071e3.vega-embed details,\n",
       "  #altair-viz-fd46d3b415bf4ed383708a315e0071e3.vega-embed details summary {\n",
       "    position: relative;\n",
       "  }\n",
       "</style>\n",
       "<div id=\"altair-viz-fd46d3b415bf4ed383708a315e0071e3\"></div>\n",
       "<script type=\"text/javascript\">\n",
       "  var VEGA_DEBUG = (typeof VEGA_DEBUG == \"undefined\") ? {} : VEGA_DEBUG;\n",
       "  (function(spec, embedOpt){\n",
       "    let outputDiv = document.currentScript.previousElementSibling;\n",
       "    if (outputDiv.id !== \"altair-viz-fd46d3b415bf4ed383708a315e0071e3\") {\n",
       "      outputDiv = document.getElementById(\"altair-viz-fd46d3b415bf4ed383708a315e0071e3\");\n",
       "    }\n",
       "    const paths = {\n",
       "      \"vega\": \"https://cdn.jsdelivr.net/npm/vega@5?noext\",\n",
       "      \"vega-lib\": \"https://cdn.jsdelivr.net/npm/vega-lib?noext\",\n",
       "      \"vega-lite\": \"https://cdn.jsdelivr.net/npm/vega-lite@5.20.1?noext\",\n",
       "      \"vega-embed\": \"https://cdn.jsdelivr.net/npm/vega-embed@6?noext\",\n",
       "    };\n",
       "\n",
       "    function maybeLoadScript(lib, version) {\n",
       "      var key = `${lib.replace(\"-\", \"\")}_version`;\n",
       "      return (VEGA_DEBUG[key] == version) ?\n",
       "        Promise.resolve(paths[lib]) :\n",
       "        new Promise(function(resolve, reject) {\n",
       "          var s = document.createElement('script');\n",
       "          document.getElementsByTagName(\"head\")[0].appendChild(s);\n",
       "          s.async = true;\n",
       "          s.onload = () => {\n",
       "            VEGA_DEBUG[key] = version;\n",
       "            return resolve(paths[lib]);\n",
       "          };\n",
       "          s.onerror = () => reject(`Error loading script: ${paths[lib]}`);\n",
       "          s.src = paths[lib];\n",
       "        });\n",
       "    }\n",
       "\n",
       "    function showError(err) {\n",
       "      outputDiv.innerHTML = `<div class=\"error\" style=\"color:red;\">${err}</div>`;\n",
       "      throw err;\n",
       "    }\n",
       "\n",
       "    function displayChart(vegaEmbed) {\n",
       "      vegaEmbed(outputDiv, spec, embedOpt)\n",
       "        .catch(err => showError(`Javascript Error: ${err.message}<br>This usually means there's a typo in your chart specification. See the javascript console for the full traceback.`));\n",
       "    }\n",
       "\n",
       "    if(typeof define === \"function\" && define.amd) {\n",
       "      requirejs.config({paths});\n",
       "      require([\"vega-embed\"], displayChart, err => showError(`Error loading script: ${err.message}`));\n",
       "    } else {\n",
       "      maybeLoadScript(\"vega\", \"5\")\n",
       "        .then(() => maybeLoadScript(\"vega-lite\", \"5.20.1\"))\n",
       "        .then(() => maybeLoadScript(\"vega-embed\", \"6\"))\n",
       "        .catch(showError)\n",
       "        .then(() => displayChart(vegaEmbed));\n",
       "    }\n",
       "  })({\"config\": {\"view\": {\"continuousWidth\": 300, \"continuousHeight\": 300}, \"axis\": {\"labelFontSize\": 12, \"titleFontSize\": 12}, \"legend\": {\"labelFontSize\": 10, \"titleFontSize\": 10}, \"title\": {\"fontSize\": 12}}, \"layer\": [{\"mark\": {\"type\": \"rect\"}, \"encoding\": {\"color\": {\"field\": \"grad_y\", \"legend\": {\"title\": [\"Effect of\", \"all obs.\"]}, \"scale\": {\"domain\": [-0.587221170016425, 0.587221170016425], \"scheme\": \"redblue\"}, \"type\": \"quantitative\"}, \"x\": {\"axis\": {\"title\": \"X1\"}, \"field\": \"X1\", \"type\": \"nominal\"}, \"y\": {\"axis\": {\"title\": \"X2\"}, \"field\": \"X2\", \"type\": \"nominal\"}}}, {\"mark\": {\"type\": \"text\", \"baseline\": \"middle\"}, \"encoding\": {\"text\": {\"field\": \"grad_y\", \"format\": \".2f\", \"type\": \"quantitative\"}, \"x\": {\"axis\": {\"title\": \"X1\"}, \"field\": \"X1\", \"type\": \"nominal\"}, \"y\": {\"axis\": {\"title\": \"X2\"}, \"field\": \"X2\", \"type\": \"nominal\"}}}], \"data\": {\"name\": \"data-8654bbd220afbe3e61efd83dad331cbf\"}, \"height\": 180, \"title\": \"X1 = 3 - X2 = 4\", \"width\": 120, \"$schema\": \"https://vega.github.io/schema/vega-lite/v5.20.1.json\", \"datasets\": {\"data-8654bbd220afbe3e61efd83dad331cbf\": [{\"raked_1\": 3, \"raked_2\": 4, \"X1\": 1, \"X2\": 1, \"grad_y\": 0.05547908912018467}, {\"raked_1\": 3, \"raked_2\": 4, \"X1\": 2, \"X2\": 1, \"grad_y\": 0.059037576919495766}, {\"raked_1\": 3, \"raked_2\": 4, \"X1\": 3, \"X2\": 1, \"grad_y\": -0.1123942535005502}, {\"raked_1\": 3, \"raked_2\": 4, \"X1\": 1, \"X2\": 2, \"grad_y\": 0.044403337490312264}, {\"raked_1\": 3, \"raked_2\": 4, \"X1\": 2, \"X2\": 2, \"grad_y\": 0.04773467703986476}, {\"raked_1\": 3, \"raked_2\": 4, \"X1\": 3, \"X2\": 2, \"grad_y\": -0.117321622919729}, {\"raked_1\": 3, \"raked_2\": 4, \"X1\": 1, \"X2\": 3, \"grad_y\": 0.05924016306113884}, {\"raked_1\": 3, \"raked_2\": 4, \"X1\": 2, \"X2\": 3, \"grad_y\": 0.0627811265384873}, {\"raked_1\": 3, \"raked_2\": 4, \"X1\": 3, \"X2\": 3, \"grad_y\": -0.1030250824421249}, {\"raked_1\": 3, \"raked_2\": 4, \"X1\": 1, \"X2\": 4, \"grad_y\": -0.24513965675140933}, {\"raked_1\": 3, \"raked_2\": 4, \"X1\": 2, \"X2\": 4, \"grad_y\": -0.24563660641349855}, {\"raked_1\": 3, \"raked_2\": 4, \"X1\": 3, \"X2\": 4, \"grad_y\": 0.587221170016425}, {\"raked_1\": 3, \"raked_2\": 4, \"X1\": 1, \"X2\": 5, \"grad_y\": 0.05349831808152894}, {\"raked_1\": 3, \"raked_2\": 4, \"X1\": 2, \"X2\": 5, \"grad_y\": 0.05701987979006792}, {\"raked_1\": 3, \"raked_2\": 4, \"X1\": 3, \"X2\": 5, \"grad_y\": -0.11351568976773363}]}}, {\"mode\": \"vega-lite\"});\n",
       "</script>"
      ],
      "text/plain": [
       "alt.LayerChart(...)"
      ]
     },
     "execution_count": 23,
     "metadata": {},
     "output_type": "execute_result"
    }
   ],
   "source": [
    "index = np.argmax(np.abs(df_y.grad_y))\n",
    "index_raked_1 = df_y.iloc[index].raked_1\n",
    "index_raked_2 = df_y.iloc[index].raked_2\n",
    "df_y_loc = df_y.loc[(df_y.raked_1==index_raked_1)&(df_y.raked_2==index_raked_2)]\n",
    "max_scale = max(abs(df_y_loc['grad_y'].min()), abs(df_y_loc['grad_y'].max()))\n",
    "\n",
    "base = alt.Chart(df_y_loc).encode(\n",
    "    x=alt.X('X1:N', axis=alt.Axis(title='X1')),\n",
    "    y=alt.Y('X2:N', axis=alt.Axis(title='X2')),\n",
    ")\n",
    "\n",
    "heatmap = base.mark_rect().encode(\n",
    "    color=alt.Color('grad_y:Q',\n",
    "        scale=alt.Scale(scheme='redblue', domain=[-max_scale, max_scale]),\n",
    "        legend=alt.Legend(title=['Effect of', 'all obs.']))\n",
    ")\n",
    "\n",
    "text = base.mark_text(baseline='middle').encode(\n",
    "    alt.Text('grad_y:Q', format='.2f')\n",
    ")\n",
    "\n",
    "chart = alt.layer(heatmap, text\n",
    ").properties(\n",
    "    title='X1 = ' + str(int(index_raked_1)) + ' - X2 = ' + str(int(index_raked_2)),\n",
    "    width=120,\n",
    "    height=180\n",
    ").configure_title(\n",
    "    fontSize=12\n",
    ").configure_axis(\n",
    "    labelFontSize=12,\n",
    "    titleFontSize=12\n",
    ").configure_legend(\n",
    "    labelFontSize=10,\n",
    "    titleFontSize=10\n",
    ")\n",
    "chart"
   ]
  },
  {
   "cell_type": "markdown",
   "id": "fd65c784-50c0-4e53-a27f-9caf46e94e1f",
   "metadata": {},
   "source": [
    "We compare the raked value of the mean of the observations with the mean of the raked values for each sample of observations."
   ]
  },
  {
   "cell_type": "code",
   "execution_count": 24,
   "id": "1d4b52ca-8f0c-49d6-b25a-9473b9427c4f",
   "metadata": {},
   "outputs": [
    {
     "data": {
      "text/html": [
       "\n",
       "<style>\n",
       "  #altair-viz-67571323b26443deb5a4cfedd5b2da98.vega-embed {\n",
       "    width: 100%;\n",
       "    display: flex;\n",
       "  }\n",
       "\n",
       "  #altair-viz-67571323b26443deb5a4cfedd5b2da98.vega-embed details,\n",
       "  #altair-viz-67571323b26443deb5a4cfedd5b2da98.vega-embed details summary {\n",
       "    position: relative;\n",
       "  }\n",
       "</style>\n",
       "<div id=\"altair-viz-67571323b26443deb5a4cfedd5b2da98\"></div>\n",
       "<script type=\"text/javascript\">\n",
       "  var VEGA_DEBUG = (typeof VEGA_DEBUG == \"undefined\") ? {} : VEGA_DEBUG;\n",
       "  (function(spec, embedOpt){\n",
       "    let outputDiv = document.currentScript.previousElementSibling;\n",
       "    if (outputDiv.id !== \"altair-viz-67571323b26443deb5a4cfedd5b2da98\") {\n",
       "      outputDiv = document.getElementById(\"altair-viz-67571323b26443deb5a4cfedd5b2da98\");\n",
       "    }\n",
       "    const paths = {\n",
       "      \"vega\": \"https://cdn.jsdelivr.net/npm/vega@5?noext\",\n",
       "      \"vega-lib\": \"https://cdn.jsdelivr.net/npm/vega-lib?noext\",\n",
       "      \"vega-lite\": \"https://cdn.jsdelivr.net/npm/vega-lite@5.20.1?noext\",\n",
       "      \"vega-embed\": \"https://cdn.jsdelivr.net/npm/vega-embed@6?noext\",\n",
       "    };\n",
       "\n",
       "    function maybeLoadScript(lib, version) {\n",
       "      var key = `${lib.replace(\"-\", \"\")}_version`;\n",
       "      return (VEGA_DEBUG[key] == version) ?\n",
       "        Promise.resolve(paths[lib]) :\n",
       "        new Promise(function(resolve, reject) {\n",
       "          var s = document.createElement('script');\n",
       "          document.getElementsByTagName(\"head\")[0].appendChild(s);\n",
       "          s.async = true;\n",
       "          s.onload = () => {\n",
       "            VEGA_DEBUG[key] = version;\n",
       "            return resolve(paths[lib]);\n",
       "          };\n",
       "          s.onerror = () => reject(`Error loading script: ${paths[lib]}`);\n",
       "          s.src = paths[lib];\n",
       "        });\n",
       "    }\n",
       "\n",
       "    function showError(err) {\n",
       "      outputDiv.innerHTML = `<div class=\"error\" style=\"color:red;\">${err}</div>`;\n",
       "      throw err;\n",
       "    }\n",
       "\n",
       "    function displayChart(vegaEmbed) {\n",
       "      vegaEmbed(outputDiv, spec, embedOpt)\n",
       "        .catch(err => showError(`Javascript Error: ${err.message}<br>This usually means there's a typo in your chart specification. See the javascript console for the full traceback.`));\n",
       "    }\n",
       "\n",
       "    if(typeof define === \"function\" && define.amd) {\n",
       "      requirejs.config({paths});\n",
       "      require([\"vega-embed\"], displayChart, err => showError(`Error loading script: ${err.message}`));\n",
       "    } else {\n",
       "      maybeLoadScript(\"vega\", \"5\")\n",
       "        .then(() => maybeLoadScript(\"vega-lite\", \"5.20.1\"))\n",
       "        .then(() => maybeLoadScript(\"vega-embed\", \"6\"))\n",
       "        .catch(showError)\n",
       "        .then(() => displayChart(vegaEmbed));\n",
       "    }\n",
       "  })({\"config\": {\"view\": {\"continuousWidth\": 300, \"continuousHeight\": 300}, \"axis\": {\"labelFontSize\": 18, \"titleFontSize\": 18}, \"title\": {\"fontSize\": 24}}, \"layer\": [{\"data\": {\"name\": \"empty\"}, \"mark\": {\"type\": \"rule\", \"strokeDash\": [8, 8]}, \"encoding\": {\"x\": {\"value\": 0}, \"x2\": {\"value\": \"width\"}, \"y\": {\"value\": \"height\"}, \"y2\": {\"value\": 0}}}, {\"data\": {\"name\": \"data-4c3b4f50f3d716c93544745d4fdee273\"}, \"mark\": {\"type\": \"point\", \"size\": 60}, \"encoding\": {\"color\": {\"field\": \"X1\", \"legend\": {\"title\": \"X1\"}, \"type\": \"nominal\"}, \"shape\": {\"field\": \"X2\", \"legend\": {\"title\": \"X2\"}, \"type\": \"nominal\"}, \"x\": {\"axis\": {\"title\": \"Using all draws\"}, \"field\": \"all_draws\", \"scale\": {\"domain\": [1.9572140973745247, 2.941252699224811], \"zero\": false}, \"type\": \"quantitative\"}, \"y\": {\"axis\": {\"title\": \"Using the sample mean\"}, \"field\": \"mean\", \"scale\": {\"domain\": [1.9572140973745247, 2.941252699224811], \"zero\": false}, \"type\": \"quantitative\"}}}], \"title\": \"1000000 samples\", \"$schema\": \"https://vega.github.io/schema/vega-lite/v5.20.1.json\", \"datasets\": {\"empty\": [{}], \"data-4c3b4f50f3d716c93544745d4fdee273\": [{\"X1\": 1, \"X2\": 1, \"mean\": 2.5900470171897316, \"all_draws\": 2.5906084688300384}, {\"X1\": 2, \"X2\": 1, \"mean\": 2.9251974145065436, \"all_draws\": 2.923307990406595}, {\"X1\": 3, \"X2\": 1, \"mean\": 2.850327588863214, \"all_draws\": 2.851654413876964}, {\"X1\": 1, \"X2\": 2, \"mean\": 2.246552950795683, \"all_draws\": 2.2478337513713536}, {\"X1\": 2, \"X2\": 2, \"mean\": 2.6710924920165047, \"all_draws\": 2.671717221076771}, {\"X1\": 3, \"X2\": 2, \"mean\": 1.9615156135563867, \"all_draws\": 1.9596100891610944}, {\"X1\": 1, \"X2\": 3, \"mean\": 2.126602743706647, \"all_draws\": 2.1243854494989347}, {\"X1\": 2, \"X2\": 3, \"mean\": 2.636680594228714, \"all_draws\": 2.635302989495959}, {\"X1\": 3, \"X2\": 3, \"mean\": 2.8645911208617836, \"all_draws\": 2.8681858207322652}, {\"X1\": 1, \"X2\": 4, \"mean\": 2.0795861269781737, \"all_draws\": 2.0798316086709026}, {\"X1\": 2, \"X2\": 4, \"mean\": 2.55336212098072, \"all_draws\": 2.556692484933026}, {\"X1\": 3, \"X2\": 4, \"mean\": 1.9607900512023737, \"all_draws\": 1.9572140973745247}, {\"X1\": 1, \"X2\": 5, \"mean\": 2.734731013182296, \"all_draws\": 2.7348605207878465}, {\"X1\": 2, \"X2\": 5, \"mean\": 2.941252699224811, \"all_draws\": 2.940564645632415}, {\"X1\": 3, \"X2\": 5, \"mean\": 2.802012984651599, \"all_draws\": 2.8025729199688114}]}}, {\"mode\": \"vega-lite\"});\n",
       "</script>"
      ],
      "text/plain": [
       "alt.LayerChart(...)"
      ]
     },
     "execution_count": 24,
     "metadata": {},
     "output_type": "execute_result"
    }
   ],
   "source": [
    "delta_method = pd.DataFrame({'X1': x1, \\\n",
    "                             'X2': x2, \\\n",
    "                             'mean': df_raked.loc[df_raked.Type=='Raked'].Value})\n",
    "all_draws = pd.DataFrame({'X1': x1, \\\n",
    "                          'X2': x2, \\\n",
    "                          'all_draws': mean_draws})\n",
    "df_both = delta_method.merge(all_draws, how='inner', \\\n",
    "    on=['X1', 'X2'])\n",
    "min_x = min(df_both['mean'].min(), df_both['all_draws'].min())\n",
    "max_x = max(df_both['mean'].max(), df_both['all_draws'].max())\n",
    "points = alt.Chart(df_both).mark_point(size=60).encode(\n",
    "    x=alt.X('all_draws:Q', scale=alt.Scale(domain=[min_x, max_x], zero=False), axis=alt.Axis(title='Using all draws')),\n",
    "    y=alt.Y('mean:Q', scale=alt.Scale(domain=[min_x, max_x], zero=False), axis=alt.Axis(title='Using the sample mean')),\n",
    "    color=alt.Color('X1:N', legend=alt.Legend(title='X1')),\n",
    "    shape=alt.Shape('X2:N', legend=alt.Legend(title='X2'))\n",
    ")\n",
    "diagonal = alt.Chart().mark_rule(strokeDash=[8, 8]).encode(\n",
    "    x=alt.value(0),\n",
    "    x2=alt.value('width'),\n",
    "    y=alt.value('height'),\n",
    "    y2=alt.value(0)\n",
    ")\n",
    "chart = (diagonal + points).properties(\n",
    "    title=str(N) + ' samples',\n",
    ").configure_title(\n",
    "    fontSize=24\n",
    ").configure_axis(\n",
    "    labelFontSize=18,\n",
    "    titleFontSize=18\n",
    ")\n",
    "chart"
   ]
  },
  {
   "cell_type": "code",
   "execution_count": 25,
   "id": "5195c9e1-7081-4a0b-8a1b-800d29a1d54a",
   "metadata": {},
   "outputs": [],
   "source": [
    "chart.save('mean_comparison_' + str(N) + 'samples.svg')"
   ]
  },
  {
   "cell_type": "markdown",
   "id": "6eb9d491-e1d8-4c02-851d-5db395a260a7",
   "metadata": {},
   "source": [
    "We compare the covariance matrix of the mean of the observations with the covariance matrix of the raked values for each sample of observations."
   ]
  },
  {
   "cell_type": "code",
   "execution_count": 26,
   "id": "89e1c1c7-c4c0-4dd2-9344-288e7e01f8d7",
   "metadata": {},
   "outputs": [
    {
     "data": {
      "text/html": [
       "\n",
       "<style>\n",
       "  #altair-viz-da13fd903d314acea5c6cfca9a11dad6.vega-embed {\n",
       "    width: 100%;\n",
       "    display: flex;\n",
       "  }\n",
       "\n",
       "  #altair-viz-da13fd903d314acea5c6cfca9a11dad6.vega-embed details,\n",
       "  #altair-viz-da13fd903d314acea5c6cfca9a11dad6.vega-embed details summary {\n",
       "    position: relative;\n",
       "  }\n",
       "</style>\n",
       "<div id=\"altair-viz-da13fd903d314acea5c6cfca9a11dad6\"></div>\n",
       "<script type=\"text/javascript\">\n",
       "  var VEGA_DEBUG = (typeof VEGA_DEBUG == \"undefined\") ? {} : VEGA_DEBUG;\n",
       "  (function(spec, embedOpt){\n",
       "    let outputDiv = document.currentScript.previousElementSibling;\n",
       "    if (outputDiv.id !== \"altair-viz-da13fd903d314acea5c6cfca9a11dad6\") {\n",
       "      outputDiv = document.getElementById(\"altair-viz-da13fd903d314acea5c6cfca9a11dad6\");\n",
       "    }\n",
       "    const paths = {\n",
       "      \"vega\": \"https://cdn.jsdelivr.net/npm/vega@5?noext\",\n",
       "      \"vega-lib\": \"https://cdn.jsdelivr.net/npm/vega-lib?noext\",\n",
       "      \"vega-lite\": \"https://cdn.jsdelivr.net/npm/vega-lite@5.20.1?noext\",\n",
       "      \"vega-embed\": \"https://cdn.jsdelivr.net/npm/vega-embed@6?noext\",\n",
       "    };\n",
       "\n",
       "    function maybeLoadScript(lib, version) {\n",
       "      var key = `${lib.replace(\"-\", \"\")}_version`;\n",
       "      return (VEGA_DEBUG[key] == version) ?\n",
       "        Promise.resolve(paths[lib]) :\n",
       "        new Promise(function(resolve, reject) {\n",
       "          var s = document.createElement('script');\n",
       "          document.getElementsByTagName(\"head\")[0].appendChild(s);\n",
       "          s.async = true;\n",
       "          s.onload = () => {\n",
       "            VEGA_DEBUG[key] = version;\n",
       "            return resolve(paths[lib]);\n",
       "          };\n",
       "          s.onerror = () => reject(`Error loading script: ${paths[lib]}`);\n",
       "          s.src = paths[lib];\n",
       "        });\n",
       "    }\n",
       "\n",
       "    function showError(err) {\n",
       "      outputDiv.innerHTML = `<div class=\"error\" style=\"color:red;\">${err}</div>`;\n",
       "      throw err;\n",
       "    }\n",
       "\n",
       "    function displayChart(vegaEmbed) {\n",
       "      vegaEmbed(outputDiv, spec, embedOpt)\n",
       "        .catch(err => showError(`Javascript Error: ${err.message}<br>This usually means there's a typo in your chart specification. See the javascript console for the full traceback.`));\n",
       "    }\n",
       "\n",
       "    if(typeof define === \"function\" && define.amd) {\n",
       "      requirejs.config({paths});\n",
       "      require([\"vega-embed\"], displayChart, err => showError(`Error loading script: ${err.message}`));\n",
       "    } else {\n",
       "      maybeLoadScript(\"vega\", \"5\")\n",
       "        .then(() => maybeLoadScript(\"vega-lite\", \"5.20.1\"))\n",
       "        .then(() => maybeLoadScript(\"vega-embed\", \"6\"))\n",
       "        .catch(showError)\n",
       "        .then(() => displayChart(vegaEmbed));\n",
       "    }\n",
       "  })({\"config\": {\"view\": {\"continuousWidth\": 300, \"continuousHeight\": 300}, \"axis\": {\"labelFontSize\": 18, \"titleFontSize\": 18}, \"title\": {\"fontSize\": 24}}, \"layer\": [{\"data\": {\"name\": \"empty\"}, \"mark\": {\"type\": \"rule\", \"strokeDash\": [8, 8]}, \"encoding\": {\"x\": {\"value\": 0}, \"x2\": {\"value\": \"width\"}, \"y\": {\"value\": \"height\"}, \"y2\": {\"value\": 0}}}, {\"data\": {\"name\": \"data-f6022018acd7f0e2252a631323d33d7c\"}, \"mark\": {\"type\": \"point\", \"size\": 60}, \"encoding\": {\"color\": {\"field\": \"X1\", \"legend\": {\"title\": \"X1\"}, \"type\": \"nominal\"}, \"shape\": {\"field\": \"X2\", \"legend\": {\"title\": \"X2\"}, \"type\": \"nominal\"}, \"x\": {\"axis\": {\"title\": \"Using all draws\"}, \"field\": \"all_draws\", \"scale\": {\"domain\": [0.011744742269898701, 0.06669922344510791], \"zero\": false}, \"type\": \"quantitative\"}, \"y\": {\"axis\": {\"title\": \"Using delta method\"}, \"field\": \"delta_method\", \"scale\": {\"domain\": [0.011744742269898701, 0.06669922344510791], \"zero\": false}, \"type\": \"quantitative\"}}}], \"title\": \"1000000 samples\", \"$schema\": \"https://vega.github.io/schema/vega-lite/v5.20.1.json\", \"datasets\": {\"empty\": [{}], \"data-f6022018acd7f0e2252a631323d33d7c\": [{\"X1\": 1, \"X2\": 1, \"delta_method\": 0.011744742269898701, \"all_draws\": 0.012230822043960286}, {\"X1\": 2, \"X2\": 1, \"delta_method\": 0.014744804507409278, \"all_draws\": 0.015229863443230162}, {\"X1\": 3, \"X2\": 1, \"delta_method\": 0.018223507245662515, \"all_draws\": 0.018891735706562086}, {\"X1\": 1, \"X2\": 2, \"delta_method\": 0.021543880625023857, \"all_draws\": 0.022092631128509132}, {\"X1\": 2, \"X2\": 2, \"delta_method\": 0.02479482777761825, \"all_draws\": 0.02544350055954551}, {\"X1\": 3, \"X2\": 2, \"delta_method\": 0.027525744112673188, \"all_draws\": 0.028243887267235302}, {\"X1\": 1, \"X2\": 3, \"delta_method\": 0.0333704588213432, \"all_draws\": 0.03426941793698306}, {\"X1\": 2, \"X2\": 3, \"delta_method\": 0.036852780998788255, \"all_draws\": 0.03775314592673151}, {\"X1\": 3, \"X2\": 3, \"delta_method\": 0.03952157927896145, \"all_draws\": 0.040642334619962125}, {\"X1\": 1, \"X2\": 4, \"delta_method\": 0.04682708291621979, \"all_draws\": 0.048855487027655416}, {\"X1\": 2, \"X2\": 4, \"delta_method\": 0.05071373499897354, \"all_draws\": 0.05291768413592964}, {\"X1\": 3, \"X2\": 4, \"delta_method\": 0.05448493670694269, \"all_draws\": 0.05700457084982503}, {\"X1\": 1, \"X2\": 5, \"delta_method\": 0.05742578015079071, \"all_draws\": 0.05959250966528315}, {\"X1\": 2, \"X2\": 5, \"delta_method\": 0.06181042161964787, \"all_draws\": 0.06388802426879374}, {\"X1\": 3, \"X2\": 5, \"delta_method\": 0.06418503449913243, \"all_draws\": 0.06669922344510791}]}}, {\"mode\": \"vega-lite\"});\n",
       "</script>"
      ],
      "text/plain": [
       "alt.LayerChart(...)"
      ]
     },
     "execution_count": 26,
     "metadata": {},
     "output_type": "execute_result"
    }
   ],
   "source": [
    "delta_method = pd.DataFrame({'X1': x1, \\\n",
    "                             'X2': x2, \\\n",
    "                             'delta_method': np.diag(covariance_mean)})\n",
    "all_draws = pd.DataFrame({'X1': x1, \\\n",
    "                          'X2': x2, \\\n",
    "                          'all_draws': np.diag(covariance_draws)})\n",
    "df_both = delta_method.merge(all_draws, how='inner', \\\n",
    "    left_on=['X1', 'X2'], \\\n",
    "    right_on=['X1', 'X2'])\n",
    "min_x = min(df_both['delta_method'].min(), df_both['all_draws'].min())\n",
    "max_x = max(df_both['delta_method'].max(), df_both['all_draws'].max())\n",
    "points = alt.Chart(df_both).mark_point(size=60).encode(\n",
    "    x=alt.X('all_draws:Q', scale=alt.Scale(domain=[min_x, max_x], zero=False), axis=alt.Axis(title='Using all draws')),\n",
    "    y=alt.Y('delta_method:Q', scale=alt.Scale(domain=[min_x, max_x], zero=False), axis=alt.Axis(title='Using delta method')),\n",
    "    color=alt.Color('X1:N', legend=alt.Legend(title='X1')),\n",
    "    shape=alt.Shape('X2:N', legend=alt.Legend(title='X2'))\n",
    ")\n",
    "diagonal = alt.Chart().mark_rule(strokeDash=[8, 8]).encode(\n",
    "    x=alt.value(0),\n",
    "    x2=alt.value('width'),\n",
    "    y=alt.value('height'),\n",
    "    y2=alt.value(0)\n",
    ")\n",
    "chart = (diagonal + points).properties(\n",
    "    title=str(N) + ' samples',\n",
    ").configure_title(\n",
    "    fontSize=24\n",
    ").configure_axis(\n",
    "    labelFontSize=18,\n",
    "    titleFontSize=18\n",
    ")\n",
    "chart"
   ]
  },
  {
   "cell_type": "code",
   "execution_count": 27,
   "id": "8fc8b66f-ce96-451d-ba85-89a74f910398",
   "metadata": {},
   "outputs": [],
   "source": [
    "chart.save('variance_comparison_' + str(N) + 'samples.svg')"
   ]
  },
  {
   "cell_type": "code",
   "execution_count": null,
   "id": "b441048e-acbd-4af7-bb63-b28b7ab5ab27",
   "metadata": {},
   "outputs": [],
   "source": []
  }
 ],
 "metadata": {
  "kernelspec": {
   "display_name": "Python 3 (ipykernel)",
   "language": "python",
   "name": "python3"
  },
  "language_info": {
   "codemirror_mode": {
    "name": "ipython",
    "version": 3
   },
   "file_extension": ".py",
   "mimetype": "text/x-python",
   "name": "python",
   "nbconvert_exporter": "python",
   "pygments_lexer": "ipython3",
   "version": "3.12.5"
  }
 },
 "nbformat": 4,
 "nbformat_minor": 5
}
