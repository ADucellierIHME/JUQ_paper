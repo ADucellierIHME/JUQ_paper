{
 "cells": [
  {
   "cell_type": "markdown",
   "id": "5bb2c7cd-5a40-484c-9637-c4f2f6651a19",
   "metadata": {},
   "source": [
    "# Raking in 2D\n",
    "\n",
    "This notebook explains how to use the raking method on a small 2D example."
   ]
  },
  {
   "cell_type": "code",
   "execution_count": 1,
   "id": "0598f2c0-d7d2-4d90-a9ac-cca47125636e",
   "metadata": {},
   "outputs": [],
   "source": [
    "# Python modules\n",
    "import altair as alt\n",
    "import numpy as np\n",
    "import pandas as pd\n",
    "from scipy.linalg import lu_factor, lu_solve\n",
    "from scipy.sparse.linalg import cg\n",
    "from statistics import covariance"
   ]
  },
  {
   "cell_type": "markdown",
   "id": "fb3bb8f7-8a43-4df1-93a3-bf329011f425",
   "metadata": {},
   "source": [
    "Modify this to see how much samples you need to get a good estimate of the covariance with the Monte Carlo method."
   ]
  },
  {
   "cell_type": "code",
   "execution_count": 2,
   "id": "6f50dae6-3c54-48fa-82cc-6d249d24c86f",
   "metadata": {},
   "outputs": [],
   "source": [
    "# Parameters\n",
    "N = 100000 # Number of samples for Monte Carlo method"
   ]
  },
  {
   "cell_type": "markdown",
   "id": "e4c49ef3-9502-4fde-9d65-a07fb06587c5",
   "metadata": {},
   "source": [
    "## Generating the data\n",
    "\n",
    "We first begin by generating a balanced $3 \\times 5$ matrix. We compute the corresponding margins and then we add noise to the data. This way we have margins that sum correctly (thus the raking problem indeed has a solution), but we avoid having observations that already match the margins before the raking. "
   ]
  },
  {
   "cell_type": "code",
   "execution_count": 3,
   "id": "bcb3d946-404f-4a55-ae2a-73fadb9ad25d",
   "metadata": {},
   "outputs": [],
   "source": [
    "# Define variables and margins names\n",
    "x1 = [1, 2, 3, 1, 2, 3, 1, 2, 3, 1, 2, 3, 1, 2, 3]\n",
    "x2 = [1, 1, 1, 2, 2, 2, 3, 3, 3, 4, 4, 4, 5, 5, 5]\n",
    "margins = ['s1_1', 's1_2', 's1_3', 's1_4', 's1_5', 's2_1', 's2_2']\n",
    "\n",
    "# Generate balanced table\n",
    "rng = np.random.default_rng(0)\n",
    "beta_ij = rng.uniform(low=2.0, high=3.0, size=(3, 5))\n",
    "\n",
    "# Compute the margins\n",
    "s1 = np.sum(beta_ij, axis=0)\n",
    "s2 = np.sum(beta_ij, axis=1)\n",
    "\n",
    "# Add noise to the data\n",
    "mean = beta_ij.flatten(order='F') + rng.normal(0.0, 0.1, size=15)"
   ]
  },
  {
   "cell_type": "markdown",
   "id": "167a5da2-5a7a-4bb9-9324-b34dace83fe1",
   "metadata": {},
   "source": [
    "We then generate samples for the observations in order to be able to compare the two methods of uncertainty propagation (Monte Carlo and combination of Delta method and Implicit Function Theorem)."
   ]
  },
  {
   "cell_type": "code",
   "execution_count": 4,
   "id": "5bd3f668-8856-4aa0-8800-79aebf05b0cd",
   "metadata": {},
   "outputs": [],
   "source": [
    "# Define the covariance matrix of the observations\n",
    "cov = 0.01 * np.ones((15, 15))\n",
    "np.fill_diagonal(cov, np.arange(0.01, 0.16, 0.01))\n",
    "\n",
    "# Generate samples\n",
    "y = rng.multivariate_normal(mean, cov, N)"
   ]
  },
  {
   "cell_type": "markdown",
   "id": "6768874a-6791-48c3-8ce2-9646934b86bb",
   "metadata": {},
   "source": [
    "## Applying the raking procedure to the mean of the observations\n",
    "\n",
    "We start by computing the constraint matrix and the margin vector."
   ]
  },
  {
   "cell_type": "code",
   "execution_count": 5,
   "id": "a45250c8-bad2-4d58-bee3-0d27d8085e54",
   "metadata": {},
   "outputs": [],
   "source": [
    "def constraints_2D(s1, s2, I, J):\n",
    "    A = np.zeros((J + I - 1, I * J))\n",
    "    for j in range(0, J):\n",
    "        for i in range(0, I - 1):\n",
    "            A[J + i, j * I + i] = 1\n",
    "            A[j, j * I + i] = 1\n",
    "        A[j, j * I + I - 1] = 1\n",
    "    s = np.concatenate([s1, s2[0:(I - 1)]])\n",
    "    return (A, s)"
   ]
  },
  {
   "cell_type": "code",
   "execution_count": 6,
   "id": "2353d5ef-1f83-4be5-bce5-8d521d85b5d9",
   "metadata": {},
   "outputs": [],
   "source": [
    "(A, s) = constraints_2D(s1, s2, 3, 5)"
   ]
  },
  {
   "cell_type": "markdown",
   "id": "d485e260-a865-4fc4-a3aa-993c69231aa0",
   "metadata": {},
   "source": [
    "We then compute the mean of the observations and rake the mean using the $\\chi^2$ distance."
   ]
  },
  {
   "cell_type": "code",
   "execution_count": 7,
   "id": "3b8807fc-ab1e-4a14-b06a-24448340e4f7",
   "metadata": {},
   "outputs": [],
   "source": [
    "y_0 = np.mean(y, 0)"
   ]
  },
  {
   "cell_type": "code",
   "execution_count": 8,
   "id": "98022d31-ec68-4e0f-a3e1-c603912da793",
   "metadata": {},
   "outputs": [],
   "source": [
    "def raking_chi2_distance(y, q, A, s):\n",
    "    y_hat = np.matmul(A, y)\n",
    "    Phi = np.matmul(A, np.transpose(A * y * q))\n",
    "    lambda_k = cg(Phi, y_hat - s)[0]\n",
    "    beta = y * (1 - q * np.matmul(np.transpose(A), lambda_k))\n",
    "    return (beta, lambda_k)"
   ]
  },
  {
   "cell_type": "code",
   "execution_count": 9,
   "id": "bcdcb6bf-ddef-472f-9d42-41c72c85d2f2",
   "metadata": {},
   "outputs": [],
   "source": [
    "(beta_0, lambda_k) = raking_chi2_distance(y_0, np.ones(15), A, s)"
   ]
  },
  {
   "cell_type": "markdown",
   "id": "34733a53-35ea-43d0-ad77-9a3ae45b386f",
   "metadata": {},
   "source": [
    "We can verify that the solution of the raking problem verify the constraints:\n",
    "\n",
    "$A \\beta_0 = s$"
   ]
  },
  {
   "cell_type": "code",
   "execution_count": 10,
   "id": "9930847f-c8e4-4337-adb5-693644749e59",
   "metadata": {},
   "outputs": [
    {
     "data": {
      "text/plain": [
       "True"
      ]
     },
     "execution_count": 10,
     "metadata": {},
     "output_type": "execute_result"
    }
   ],
   "source": [
    "np.allclose(np.matmul(A, beta_0), s)"
   ]
  },
  {
   "cell_type": "markdown",
   "id": "fbbfa4dd-8fda-4895-87dd-6fea471b2f8f",
   "metadata": {},
   "source": [
    "We store the results into a dataframe for plotting."
   ]
  },
  {
   "cell_type": "code",
   "execution_count": 11,
   "id": "a5ad4fc9-c6cd-4852-a7c7-032e7d6e045e",
   "metadata": {},
   "outputs": [],
   "source": [
    "df_raked = pd.DataFrame({'X1': x1, \\\n",
    "                         'X2': x2, \\\n",
    "                         'observations': y_0, \\\n",
    "                         'raked_values': beta_0})"
   ]
  },
  {
   "cell_type": "markdown",
   "id": "60001bd2-0b08-4030-a071-600e1df280ee",
   "metadata": {},
   "source": [
    "## Propagate the uncertainties using Delta method and IFT\n",
    "\n",
    "We start by computing the gradient of the raked values with respect to the observations $y$: $\\frac{\\partial \\beta}{\\partial y}$ and the gradient of the raked values with respect to the margins $s$: $\\frac{\\partial \\beta}{\\partial s}$ using the Implicit Function Theorem."
   ]
  },
  {
   "cell_type": "code",
   "execution_count": 12,
   "id": "b6a99251-35d6-4eca-aeb0-a571c62e126b",
   "metadata": {},
   "outputs": [],
   "source": [
    "def compute_gradient(beta_0, lambda_0, y, q, A):\n",
    "    M = np.shape(A)[0]\n",
    "    N = np.shape(A)[1]\n",
    "    # Hessian of the distance function\n",
    "    H1_beta = np.diag(1.0 / (q * y))\n",
    "    H1_y = np.diag(- beta_0 / (q * np.square(y)))\n",
    "    # Gradient with respect to beta and lambda\n",
    "    H1_lambda = np.transpose(np.copy(A))\n",
    "    H2_beta = np.copy(A)\n",
    "    H2_lambda = np.zeros((M, M))    \n",
    "    DH_beta_lambda = np.concatenate(( \\\n",
    "        np.concatenate((H1_beta, H1_lambda), axis=1), \\\n",
    "        np.concatenate((H2_beta, H2_lambda), axis=1)), axis=0)\n",
    "    # Gradient with respect to y and s\n",
    "    H1_s = np.zeros((N, M))\n",
    "    H2_y = np.zeros((M, N))\n",
    "    H2_s = - np.identity(M)    \n",
    "    DH_y_s = np.concatenate(( \\\n",
    "        np.concatenate((H1_y, H1_s), axis=1), \\\n",
    "        np.concatenate((H2_y, H2_s), axis=1)), axis=0)\n",
    "    # Solve the system\n",
    "    Dh = np.zeros_like(DH_y_s)\n",
    "    lu, piv = lu_factor(DH_beta_lambda)\n",
    "    for i in range(0, N + M):\n",
    "        Dh[:, i] = - lu_solve((lu, piv), DH_y_s[:, i])\n",
    "    # Get the gradient\n",
    "    dh_y = Dh[0:N, 0:N]\n",
    "    dh_s = Dh[0:N, N:(N + M)]\n",
    "    return (dh_y, dh_s)"
   ]
  },
  {
   "cell_type": "code",
   "execution_count": 13,
   "id": "2b31d9a6-755e-4071-8412-d6b4ee9bb502",
   "metadata": {},
   "outputs": [],
   "source": [
    "(dh_y, dh_s) = compute_gradient(beta_0, lambda_k, y_0, np.ones(15), A)"
   ]
  },
  {
   "cell_type": "markdown",
   "id": "f84d8984-37f7-4fed-87ca-6a96fb46c2f2",
   "metadata": {},
   "source": [
    "We store the results into a dataframe for plotting."
   ]
  },
  {
   "cell_type": "code",
   "execution_count": 14,
   "id": "9af1b4a1-0cec-4518-8d09-9ae39cfd0049",
   "metadata": {},
   "outputs": [],
   "source": [
    "df_y = []\n",
    "df_s = []\n",
    "for i in range(0, 15):\n",
    "    df_y.append(pd.DataFrame({'raked_1': np.repeat(x1[i], 15), \\\n",
    "                              'raked_2': np.repeat(x2[i], 15), \\\n",
    "                              'X1': x1, \\\n",
    "                              'X2': x2, \\\n",
    "                              'grad_y': dh_y[i, :]}))\n",
    "    df_s.append(pd.DataFrame({'raked_1': np.repeat(x1[i], 7), \\\n",
    "                              'raked_2': np.repeat(x2[i], 7), \\\n",
    "                              'margins': margins, \\\n",
    "                              'grad_s': dh_s[i, :]}))\n",
    "df_y = pd.concat(df_y)\n",
    "df_s = pd.concat(df_s)"
   ]
  },
  {
   "cell_type": "markdown",
   "id": "92f2f1fc-973f-4307-a533-7405b6f37f42",
   "metadata": {},
   "source": [
    "Then we compute the covariance matrix of the raked values using the Delta method."
   ]
  },
  {
   "cell_type": "code",
   "execution_count": 15,
   "id": "a55a044b-398c-4528-affe-7c0072684b77",
   "metadata": {},
   "outputs": [],
   "source": [
    "covariance_mean = np.matmul(dh_y, np.matmul(cov, np.transpose(dh_y)))"
   ]
  },
  {
   "cell_type": "markdown",
   "id": "388655ae-7803-4079-824a-560132ba7285",
   "metadata": {},
   "source": [
    "## Monte Carlo simulation"
   ]
  },
  {
   "cell_type": "markdown",
   "id": "46197d1f-272e-43f3-999d-eca650b01369",
   "metadata": {},
   "source": [
    "We first apply the raking procedure to each sample."
   ]
  },
  {
   "cell_type": "code",
   "execution_count": 16,
   "id": "c908afb2-a950-4188-9697-9b959a2807b7",
   "metadata": {},
   "outputs": [],
   "source": [
    "beta = np.zeros((N, 15))\n",
    "for n in range(0, N):\n",
    "    y_n = y[n, :]\n",
    "    (beta_n, lambda_k) = raking_chi2_distance(y_n, np.ones(15), A, s)\n",
    "    beta[n, :] = beta_n"
   ]
  },
  {
   "cell_type": "markdown",
   "id": "2025b846-bc95-4eeb-8def-6b83655754f9",
   "metadata": {},
   "source": [
    "We compute the mean of the raked values."
   ]
  },
  {
   "cell_type": "code",
   "execution_count": 17,
   "id": "20c2ea44-bc7b-43d8-8091-4d6648b0f83b",
   "metadata": {},
   "outputs": [],
   "source": [
    "mean_draws = np.mean(beta, 0)"
   ]
  },
  {
   "cell_type": "markdown",
   "id": "805865ce-aa19-4f9d-a9c7-a6a8d9a8e3ea",
   "metadata": {},
   "source": [
    "We compute the variance of the raked values."
   ]
  },
  {
   "cell_type": "code",
   "execution_count": 18,
   "id": "8bbc4da2-300f-49c9-9455-ed8c4e211e22",
   "metadata": {},
   "outputs": [],
   "source": [
    "covariance_draws = np.matmul(np.transpose(beta - mean_draws), beta - mean_draws) / (N - 1)"
   ]
  },
  {
   "cell_type": "markdown",
   "id": "c4145845-4be9-4134-ba91-5aa7d731feee",
   "metadata": {},
   "source": [
    "## Plots"
   ]
  },
  {
   "cell_type": "markdown",
   "id": "99edded8-4383-405c-a06b-349ca69f7f6c",
   "metadata": {},
   "source": [
    "We gather initial values and corresponding raked values, with their associated variances."
   ]
  },
  {
   "cell_type": "code",
   "execution_count": 19,
   "id": "49ff5b81-86e0-48fb-92f3-084178cd1c52",
   "metadata": {},
   "outputs": [],
   "source": [
    "initial = pd.DataFrame({'X1': x1, \\\n",
    "                         'X2': x2, \\\n",
    "                         'variance': np.arange(0.01, 0.16, 0.01)})\n",
    "variance = pd.DataFrame({'X1': x1, \\\n",
    "                         'X2': x2, \\\n",
    "                         'variance': np.diag(covariance_mean)})\n",
    "df_obs = df_raked.drop(columns=['raked_values']).rename(columns={'observations': 'Value'})\n",
    "df_obs['Type'] = 'Initial'\n",
    "df_obs['width'] = 1\n",
    "df_obs = df_obs.merge(initial, how='inner', \\\n",
    "    left_on=['X1', 'X2'], \\\n",
    "    right_on=['X1', 'X2'])\n",
    "df_raked = df_raked.drop(columns=['observations']).rename(columns={'raked_values': 'Value'})\n",
    "df_raked['Type'] = 'Raked'\n",
    "df_raked['width'] = 2\n",
    "df_raked = df_raked.merge(variance, how='inner', \\\n",
    "    left_on=['X1', 'X2'], \\\n",
    "    right_on=['X1', 'X2'])\n",
    "df_raked = pd.concat([df_obs, df_raked])\n",
    "df_raked['Upper'] = df_raked['Value'] + np.sqrt(df_raked['variance'])\n",
    "df_raked['Lower'] = df_raked['Value'] - np.sqrt(df_raked['variance'])"
   ]
  },
  {
   "cell_type": "markdown",
   "id": "288f8b3a-0c42-4928-84b8-736291a77289",
   "metadata": {},
   "source": [
    "We plot initial values and raked values with their uncertainties (plus or minus the standard deviation)."
   ]
  },
  {
   "cell_type": "code",
   "execution_count": 20,
   "id": "121b74cd-7709-44fd-aed6-08314cbc6518",
   "metadata": {},
   "outputs": [
    {
     "data": {
      "text/html": [
       "\n",
       "<style>\n",
       "  #altair-viz-2056edb5328e40f58c3d1a8977afb403.vega-embed {\n",
       "    width: 100%;\n",
       "    display: flex;\n",
       "  }\n",
       "\n",
       "  #altair-viz-2056edb5328e40f58c3d1a8977afb403.vega-embed details,\n",
       "  #altair-viz-2056edb5328e40f58c3d1a8977afb403.vega-embed details summary {\n",
       "    position: relative;\n",
       "  }\n",
       "</style>\n",
       "<div id=\"altair-viz-2056edb5328e40f58c3d1a8977afb403\"></div>\n",
       "<script type=\"text/javascript\">\n",
       "  var VEGA_DEBUG = (typeof VEGA_DEBUG == \"undefined\") ? {} : VEGA_DEBUG;\n",
       "  (function(spec, embedOpt){\n",
       "    let outputDiv = document.currentScript.previousElementSibling;\n",
       "    if (outputDiv.id !== \"altair-viz-2056edb5328e40f58c3d1a8977afb403\") {\n",
       "      outputDiv = document.getElementById(\"altair-viz-2056edb5328e40f58c3d1a8977afb403\");\n",
       "    }\n",
       "    const paths = {\n",
       "      \"vega\": \"https://cdn.jsdelivr.net/npm/vega@5?noext\",\n",
       "      \"vega-lib\": \"https://cdn.jsdelivr.net/npm/vega-lib?noext\",\n",
       "      \"vega-lite\": \"https://cdn.jsdelivr.net/npm/vega-lite@5.17.0?noext\",\n",
       "      \"vega-embed\": \"https://cdn.jsdelivr.net/npm/vega-embed@6?noext\",\n",
       "    };\n",
       "\n",
       "    function maybeLoadScript(lib, version) {\n",
       "      var key = `${lib.replace(\"-\", \"\")}_version`;\n",
       "      return (VEGA_DEBUG[key] == version) ?\n",
       "        Promise.resolve(paths[lib]) :\n",
       "        new Promise(function(resolve, reject) {\n",
       "          var s = document.createElement('script');\n",
       "          document.getElementsByTagName(\"head\")[0].appendChild(s);\n",
       "          s.async = true;\n",
       "          s.onload = () => {\n",
       "            VEGA_DEBUG[key] = version;\n",
       "            return resolve(paths[lib]);\n",
       "          };\n",
       "          s.onerror = () => reject(`Error loading script: ${paths[lib]}`);\n",
       "          s.src = paths[lib];\n",
       "        });\n",
       "    }\n",
       "\n",
       "    function showError(err) {\n",
       "      outputDiv.innerHTML = `<div class=\"error\" style=\"color:red;\">${err}</div>`;\n",
       "      throw err;\n",
       "    }\n",
       "\n",
       "    function displayChart(vegaEmbed) {\n",
       "      vegaEmbed(outputDiv, spec, embedOpt)\n",
       "        .catch(err => showError(`Javascript Error: ${err.message}<br>This usually means there's a typo in your chart specification. See the javascript console for the full traceback.`));\n",
       "    }\n",
       "\n",
       "    if(typeof define === \"function\" && define.amd) {\n",
       "      requirejs.config({paths});\n",
       "      require([\"vega-embed\"], displayChart, err => showError(`Error loading script: ${err.message}`));\n",
       "    } else {\n",
       "      maybeLoadScript(\"vega\", \"5\")\n",
       "        .then(() => maybeLoadScript(\"vega-lite\", \"5.17.0\"))\n",
       "        .then(() => maybeLoadScript(\"vega-embed\", \"6\"))\n",
       "        .catch(showError)\n",
       "        .then(() => displayChart(vegaEmbed));\n",
       "    }\n",
       "  })({\"config\": {\"view\": {\"continuousWidth\": 300, \"continuousHeight\": 300}, \"axis\": {\"labelFontSize\": 24, \"titleFontSize\": 24}, \"legend\": {\"labelFontSize\": 24, \"titleFontSize\": 24}}, \"data\": {\"name\": \"data-89ea2257b80b006d5849e2b2fe00f0bf\"}, \"facet\": {\"column\": {\"field\": \"X2\", \"header\": {\"labelFontSize\": 24, \"title\": \"X2\", \"titleFontSize\": 24}, \"type\": \"nominal\"}}, \"spec\": {\"layer\": [{\"mark\": {\"type\": \"point\", \"filled\": true}, \"encoding\": {\"color\": {\"field\": \"Type\", \"type\": \"nominal\"}, \"shape\": {\"field\": \"Type\", \"type\": \"nominal\"}, \"x\": {\"field\": \"Value\", \"type\": \"quantitative\"}, \"y\": {\"field\": \"X1\", \"type\": \"nominal\"}}}, {\"mark\": {\"type\": \"errorbar\", \"clip\": true, \"opacity\": 0.5}, \"encoding\": {\"color\": {\"field\": \"Type\", \"legend\": null, \"type\": \"nominal\"}, \"strokeWidth\": {\"field\": \"width\", \"legend\": null, \"type\": \"quantitative\"}, \"x\": {\"axis\": {\"title\": \"Raked value\"}, \"field\": \"Upper\", \"scale\": {\"zero\": false}, \"type\": \"quantitative\"}, \"x2\": {\"field\": \"Lower\"}, \"y\": {\"axis\": {\"title\": \"X1\"}, \"field\": \"X1\", \"type\": \"nominal\"}}}], \"resolve\": {\"scale\": {\"color\": \"independent\", \"shape\": \"independent\"}}}, \"$schema\": \"https://vega.github.io/schema/vega-lite/v5.17.0.json\", \"datasets\": {\"data-89ea2257b80b006d5849e2b2fe00f0bf\": [{\"X1\": 1, \"X2\": 1, \"Value\": 2.5641212633503914, \"Type\": \"Initial\", \"width\": 1, \"variance\": 0.01, \"Upper\": 2.6641212633503915, \"Lower\": 2.4641212633503913}, {\"X1\": 2, \"X2\": 1, \"Value\": 2.8592011310990872, \"Type\": \"Initial\", \"width\": 1, \"variance\": 0.02, \"Upper\": 3.000622487336397, \"Lower\": 2.7177797748617776}, {\"X1\": 3, \"X2\": 1, \"Value\": 2.784644659545371, \"Type\": \"Initial\", \"width\": 1, \"variance\": 0.03, \"Upper\": 2.9578497403022586, \"Lower\": 2.611439578788483}, {\"X1\": 1, \"X2\": 2, \"Value\": 2.311659181237105, \"Type\": \"Initial\", \"width\": 1, \"variance\": 0.04, \"Upper\": 2.511659181237105, \"Lower\": 2.111659181237105}, {\"X1\": 2, \"X2\": 2, \"Value\": 2.7112355879004557, \"Type\": \"Initial\", \"width\": 1, \"variance\": 0.05, \"Upper\": 2.934842385650435, \"Lower\": 2.4876287901504766}, {\"X1\": 3, \"X2\": 2, \"Value\": 1.9906536026496042, \"Type\": \"Initial\", \"width\": 1, \"variance\": 0.06, \"Upper\": 2.235602576927922, \"Lower\": 1.7457046283712865}, {\"X1\": 1, \"X2\": 3, \"Value\": 2.176953249351711, \"Type\": \"Initial\", \"width\": 1, \"variance\": 0.07, \"Upper\": 2.4415283804581702, \"Lower\": 1.912378118245252}, {\"X1\": 2, \"X2\": 3, \"Value\": 2.6639998378845484, \"Type\": \"Initial\", \"width\": 1, \"variance\": 0.08, \"Upper\": 2.9468425503591673, \"Lower\": 2.3811571254099295}, {\"X1\": 3, \"X2\": 3, \"Value\": 2.8929442490621837, \"Type\": \"Initial\", \"width\": 1, \"variance\": 0.09, \"Upper\": 3.1929442490621835, \"Lower\": 2.592944249062184}, {\"X1\": 1, \"X2\": 4, \"Value\": 2.106903552983284, \"Type\": \"Initial\", \"width\": 1, \"variance\": 0.1, \"Upper\": 2.423131319000122, \"Lower\": 1.790675786966446}, {\"X1\": 2, \"X2\": 4, \"Value\": 2.55331126281042, \"Type\": \"Initial\", \"width\": 1, \"variance\": 0.11, \"Upper\": 2.88497374184596, \"Lower\": 2.22164878377488}, {\"X1\": 3, \"X2\": 4, \"Value\": 1.9590935341770228, \"Type\": \"Initial\", \"width\": 1, \"variance\": 0.12, \"Upper\": 2.305503695690798, \"Lower\": 1.6126833726632475}, {\"X1\": 1, \"X2\": 5, \"Value\": 2.7203893829845422, \"Type\": \"Initial\", \"width\": 1, \"variance\": 0.13, \"Upper\": 3.080944510530941, \"Lower\": 2.3598342554381433}, {\"X1\": 2, \"X2\": 5, \"Value\": 2.887648912705674, \"Type\": \"Initial\", \"width\": 1, \"variance\": 0.14, \"Upper\": 3.261814651383068, \"Lower\": 2.51348317402828}, {\"X1\": 3, \"X2\": 5, \"Value\": 2.75162153051644, \"Type\": \"Initial\", \"width\": 1, \"variance\": 0.15, \"Upper\": 3.138919865137182, \"Lower\": 2.3643231958956985}, {\"X1\": 1, \"X2\": 1, \"Value\": 2.5899817132705727, \"Type\": \"Raked\", \"width\": 2, \"variance\": 0.011749645778150287, \"Upper\": 2.6983774962980975, \"Lower\": 2.481585930243048}, {\"X1\": 2, \"X2\": 1, \"Value\": 2.925487635635924, \"Type\": \"Raked\", \"width\": 2, \"variance\": 0.014749314380293413, \"Upper\": 3.0469343909663706, \"Lower\": 2.804040880305477}, {\"X1\": 3, \"X2\": 1, \"Value\": 2.8501014698142133, \"Type\": \"Raked\", \"width\": 2, \"variance\": 0.01822627933283381, \"Upper\": 2.9851062080008184, \"Lower\": 2.7150967316276082}, {\"X1\": 1, \"X2\": 2, \"Value\": 2.2468548615706694, \"Type\": \"Raked\", \"width\": 2, \"variance\": 0.02154207861336466, \"Upper\": 2.3936270612999255, \"Lower\": 2.1000826618414132}, {\"X1\": 2, \"X2\": 2, \"Value\": 2.6707416326035767, \"Type\": \"Raked\", \"width\": 2, \"variance\": 0.024788848948156587, \"Upper\": 2.828186381478084, \"Lower\": 2.5132968837290695}, {\"X1\": 3, \"X2\": 2, \"Value\": 1.9615644955269522, \"Type\": \"Raked\", \"width\": 2, \"variance\": 0.027517316126642655, \"Upper\": 2.127447936914701, \"Lower\": 1.7956810541392034}, {\"X1\": 1, \"X2\": 3, \"Value\": 2.1263591082284683, \"Type\": \"Raked\", \"width\": 2, \"variance\": 0.03337627866816698, \"Upper\": 2.309050866849833, \"Lower\": 1.9436673496071035}, {\"X1\": 2, \"X2\": 3, \"Value\": 2.6369796082481862, \"Type\": \"Raked\", \"width\": 2, \"variance\": 0.03685647757118577, \"Upper\": 2.8289600175903526, \"Lower\": 2.44499919890602}, {\"X1\": 3, \"X2\": 3, \"Value\": 2.864535645031109, \"Type\": \"Raked\", \"width\": 2, \"variance\": 0.03952528293272335, \"Upper\": 3.0633453101199155, \"Lower\": 2.6657259799423025}, {\"X1\": 1, \"X2\": 4, \"Value\": 2.0797508490884704, \"Type\": \"Raked\", \"width\": 2, \"variance\": 0.0468356075293486, \"Upper\": 2.296166207899597, \"Lower\": 1.863335490277344}, {\"X1\": 2, \"X2\": 4, \"Value\": 2.553848940992421, \"Type\": \"Raked\", \"width\": 2, \"variance\": 0.050721419851611146, \"Upper\": 2.779063105404012, \"Lower\": 2.3286347765808304}, {\"X1\": 3, \"X2\": 4, \"Value\": 1.9601384122185255, \"Type\": \"Raked\", \"width\": 2, \"variance\": 0.054495885440578276, \"Upper\": 2.1935819502327063, \"Lower\": 1.7266948742043446}, {\"X1\": 1, \"X2\": 5, \"Value\": 2.734573267592138, \"Type\": \"Raked\", \"width\": 2, \"variance\": 0.057460605948150334, \"Upper\": 2.97428268740736, \"Lower\": 2.494863847776916}, {\"X1\": 2, \"X2\": 5, \"Value\": 2.9405275118019865, \"Type\": \"Raked\", \"width\": 2, \"variance\": 0.0618456015340757, \"Upper\": 3.189215270917862, \"Lower\": 2.691839752686111}, {\"X1\": 3, \"X2\": 5, \"Value\": 2.8028973300238613, \"Type\": \"Raked\", \"width\": 2, \"variance\": 0.06421421302392735, \"Upper\": 3.056302564823633, \"Lower\": 2.54949209522409}]}}, {\"mode\": \"vega-lite\"});\n",
       "</script>"
      ],
      "text/plain": [
       "alt.FacetChart(...)"
      ]
     },
     "execution_count": 20,
     "metadata": {},
     "output_type": "execute_result"
    }
   ],
   "source": [
    "bar = alt.Chart(df_raked).mark_errorbar(clip=True, opacity=0.5).encode(\n",
    "    alt.X('Upper:Q', scale=alt.Scale(zero=False), axis=alt.Axis(title='Raked value')),\n",
    "    alt.X2('Lower:Q'),\n",
    "    alt.Y('X1:N', axis=alt.Axis(title='X1')),\n",
    "    color=alt.Color('Type:N', legend=None),\n",
    "    strokeWidth=alt.StrokeWidth('width:Q', legend=None)\n",
    ")\n",
    "point = alt.Chart(df_raked).mark_point(\n",
    "    filled=True\n",
    ").encode(\n",
    "    alt.X('Value:Q'),\n",
    "    alt.Y('X1:N'),\n",
    "    color=alt.Color('Type:N'),\n",
    "    shape=alt.Shape('Type:N')\n",
    ")\n",
    "chart = alt.layer(point, bar).resolve_scale(\n",
    "    shape='independent',\n",
    "    color='independent'\n",
    ").facet(\n",
    "    column=alt.Column('X2:N', header=alt.Header(title='X2', titleFontSize=24, labelFontSize=24)),\n",
    ").configure_axis(\n",
    "    labelFontSize=24,\n",
    "    titleFontSize=24\n",
    ").configure_legend(\n",
    "    labelFontSize=24,\n",
    "    titleFontSize=24\n",
    ")\n",
    "chart"
   ]
  },
  {
   "cell_type": "code",
   "execution_count": 21,
   "id": "f48d13da-24a3-41c7-ae7a-9ff5e4634944",
   "metadata": {},
   "outputs": [
    {
     "data": {
      "text/html": [
       "\n",
       "<style>\n",
       "  #altair-viz-152a2ea665c2427c8641ebfd235b1843.vega-embed {\n",
       "    width: 100%;\n",
       "    display: flex;\n",
       "  }\n",
       "\n",
       "  #altair-viz-152a2ea665c2427c8641ebfd235b1843.vega-embed details,\n",
       "  #altair-viz-152a2ea665c2427c8641ebfd235b1843.vega-embed details summary {\n",
       "    position: relative;\n",
       "  }\n",
       "</style>\n",
       "<div id=\"altair-viz-152a2ea665c2427c8641ebfd235b1843\"></div>\n",
       "<script type=\"text/javascript\">\n",
       "  var VEGA_DEBUG = (typeof VEGA_DEBUG == \"undefined\") ? {} : VEGA_DEBUG;\n",
       "  (function(spec, embedOpt){\n",
       "    let outputDiv = document.currentScript.previousElementSibling;\n",
       "    if (outputDiv.id !== \"altair-viz-152a2ea665c2427c8641ebfd235b1843\") {\n",
       "      outputDiv = document.getElementById(\"altair-viz-152a2ea665c2427c8641ebfd235b1843\");\n",
       "    }\n",
       "    const paths = {\n",
       "      \"vega\": \"https://cdn.jsdelivr.net/npm/vega@5?noext\",\n",
       "      \"vega-lib\": \"https://cdn.jsdelivr.net/npm/vega-lib?noext\",\n",
       "      \"vega-lite\": \"https://cdn.jsdelivr.net/npm/vega-lite@5.17.0?noext\",\n",
       "      \"vega-embed\": \"https://cdn.jsdelivr.net/npm/vega-embed@6?noext\",\n",
       "    };\n",
       "\n",
       "    function maybeLoadScript(lib, version) {\n",
       "      var key = `${lib.replace(\"-\", \"\")}_version`;\n",
       "      return (VEGA_DEBUG[key] == version) ?\n",
       "        Promise.resolve(paths[lib]) :\n",
       "        new Promise(function(resolve, reject) {\n",
       "          var s = document.createElement('script');\n",
       "          document.getElementsByTagName(\"head\")[0].appendChild(s);\n",
       "          s.async = true;\n",
       "          s.onload = () => {\n",
       "            VEGA_DEBUG[key] = version;\n",
       "            return resolve(paths[lib]);\n",
       "          };\n",
       "          s.onerror = () => reject(`Error loading script: ${paths[lib]}`);\n",
       "          s.src = paths[lib];\n",
       "        });\n",
       "    }\n",
       "\n",
       "    function showError(err) {\n",
       "      outputDiv.innerHTML = `<div class=\"error\" style=\"color:red;\">${err}</div>`;\n",
       "      throw err;\n",
       "    }\n",
       "\n",
       "    function displayChart(vegaEmbed) {\n",
       "      vegaEmbed(outputDiv, spec, embedOpt)\n",
       "        .catch(err => showError(`Javascript Error: ${err.message}<br>This usually means there's a typo in your chart specification. See the javascript console for the full traceback.`));\n",
       "    }\n",
       "\n",
       "    if(typeof define === \"function\" && define.amd) {\n",
       "      requirejs.config({paths});\n",
       "      require([\"vega-embed\"], displayChart, err => showError(`Error loading script: ${err.message}`));\n",
       "    } else {\n",
       "      maybeLoadScript(\"vega\", \"5\")\n",
       "        .then(() => maybeLoadScript(\"vega-lite\", \"5.17.0\"))\n",
       "        .then(() => maybeLoadScript(\"vega-embed\", \"6\"))\n",
       "        .catch(showError)\n",
       "        .then(() => displayChart(vegaEmbed));\n",
       "    }\n",
       "  })({\"config\": {\"view\": {\"continuousWidth\": 300, \"continuousHeight\": 300}, \"axis\": {\"labelFontSize\": 24, \"titleFontSize\": 24}, \"legend\": {\"labelFontSize\": 24, \"titleFontSize\": 24}}, \"data\": {\"name\": \"data-89ea2257b80b006d5849e2b2fe00f0bf\"}, \"facet\": {\"column\": {\"field\": \"X1\", \"header\": {\"labelFontSize\": 24, \"title\": \"X1\", \"titleFontSize\": 24}, \"type\": \"nominal\"}}, \"spec\": {\"layer\": [{\"mark\": {\"type\": \"point\", \"filled\": true}, \"encoding\": {\"color\": {\"field\": \"Type\", \"type\": \"nominal\"}, \"shape\": {\"field\": \"Type\", \"type\": \"nominal\"}, \"x\": {\"field\": \"Value\", \"type\": \"quantitative\"}, \"y\": {\"field\": \"X2\", \"type\": \"nominal\"}}}, {\"mark\": {\"type\": \"errorbar\", \"clip\": true, \"opacity\": 0.5}, \"encoding\": {\"color\": {\"field\": \"Type\", \"legend\": null, \"type\": \"nominal\"}, \"strokeWidth\": {\"field\": \"width\", \"legend\": null, \"type\": \"quantitative\"}, \"x\": {\"axis\": {\"title\": \"Raked value\"}, \"field\": \"Upper\", \"scale\": {\"zero\": false}, \"type\": \"quantitative\"}, \"x2\": {\"field\": \"Lower\"}, \"y\": {\"axis\": {\"title\": \"X2\"}, \"field\": \"X2\", \"type\": \"nominal\"}}}], \"resolve\": {\"scale\": {\"color\": \"independent\", \"shape\": \"independent\"}}}, \"$schema\": \"https://vega.github.io/schema/vega-lite/v5.17.0.json\", \"datasets\": {\"data-89ea2257b80b006d5849e2b2fe00f0bf\": [{\"X1\": 1, \"X2\": 1, \"Value\": 2.5641212633503914, \"Type\": \"Initial\", \"width\": 1, \"variance\": 0.01, \"Upper\": 2.6641212633503915, \"Lower\": 2.4641212633503913}, {\"X1\": 2, \"X2\": 1, \"Value\": 2.8592011310990872, \"Type\": \"Initial\", \"width\": 1, \"variance\": 0.02, \"Upper\": 3.000622487336397, \"Lower\": 2.7177797748617776}, {\"X1\": 3, \"X2\": 1, \"Value\": 2.784644659545371, \"Type\": \"Initial\", \"width\": 1, \"variance\": 0.03, \"Upper\": 2.9578497403022586, \"Lower\": 2.611439578788483}, {\"X1\": 1, \"X2\": 2, \"Value\": 2.311659181237105, \"Type\": \"Initial\", \"width\": 1, \"variance\": 0.04, \"Upper\": 2.511659181237105, \"Lower\": 2.111659181237105}, {\"X1\": 2, \"X2\": 2, \"Value\": 2.7112355879004557, \"Type\": \"Initial\", \"width\": 1, \"variance\": 0.05, \"Upper\": 2.934842385650435, \"Lower\": 2.4876287901504766}, {\"X1\": 3, \"X2\": 2, \"Value\": 1.9906536026496042, \"Type\": \"Initial\", \"width\": 1, \"variance\": 0.06, \"Upper\": 2.235602576927922, \"Lower\": 1.7457046283712865}, {\"X1\": 1, \"X2\": 3, \"Value\": 2.176953249351711, \"Type\": \"Initial\", \"width\": 1, \"variance\": 0.07, \"Upper\": 2.4415283804581702, \"Lower\": 1.912378118245252}, {\"X1\": 2, \"X2\": 3, \"Value\": 2.6639998378845484, \"Type\": \"Initial\", \"width\": 1, \"variance\": 0.08, \"Upper\": 2.9468425503591673, \"Lower\": 2.3811571254099295}, {\"X1\": 3, \"X2\": 3, \"Value\": 2.8929442490621837, \"Type\": \"Initial\", \"width\": 1, \"variance\": 0.09, \"Upper\": 3.1929442490621835, \"Lower\": 2.592944249062184}, {\"X1\": 1, \"X2\": 4, \"Value\": 2.106903552983284, \"Type\": \"Initial\", \"width\": 1, \"variance\": 0.1, \"Upper\": 2.423131319000122, \"Lower\": 1.790675786966446}, {\"X1\": 2, \"X2\": 4, \"Value\": 2.55331126281042, \"Type\": \"Initial\", \"width\": 1, \"variance\": 0.11, \"Upper\": 2.88497374184596, \"Lower\": 2.22164878377488}, {\"X1\": 3, \"X2\": 4, \"Value\": 1.9590935341770228, \"Type\": \"Initial\", \"width\": 1, \"variance\": 0.12, \"Upper\": 2.305503695690798, \"Lower\": 1.6126833726632475}, {\"X1\": 1, \"X2\": 5, \"Value\": 2.7203893829845422, \"Type\": \"Initial\", \"width\": 1, \"variance\": 0.13, \"Upper\": 3.080944510530941, \"Lower\": 2.3598342554381433}, {\"X1\": 2, \"X2\": 5, \"Value\": 2.887648912705674, \"Type\": \"Initial\", \"width\": 1, \"variance\": 0.14, \"Upper\": 3.261814651383068, \"Lower\": 2.51348317402828}, {\"X1\": 3, \"X2\": 5, \"Value\": 2.75162153051644, \"Type\": \"Initial\", \"width\": 1, \"variance\": 0.15, \"Upper\": 3.138919865137182, \"Lower\": 2.3643231958956985}, {\"X1\": 1, \"X2\": 1, \"Value\": 2.5899817132705727, \"Type\": \"Raked\", \"width\": 2, \"variance\": 0.011749645778150287, \"Upper\": 2.6983774962980975, \"Lower\": 2.481585930243048}, {\"X1\": 2, \"X2\": 1, \"Value\": 2.925487635635924, \"Type\": \"Raked\", \"width\": 2, \"variance\": 0.014749314380293413, \"Upper\": 3.0469343909663706, \"Lower\": 2.804040880305477}, {\"X1\": 3, \"X2\": 1, \"Value\": 2.8501014698142133, \"Type\": \"Raked\", \"width\": 2, \"variance\": 0.01822627933283381, \"Upper\": 2.9851062080008184, \"Lower\": 2.7150967316276082}, {\"X1\": 1, \"X2\": 2, \"Value\": 2.2468548615706694, \"Type\": \"Raked\", \"width\": 2, \"variance\": 0.02154207861336466, \"Upper\": 2.3936270612999255, \"Lower\": 2.1000826618414132}, {\"X1\": 2, \"X2\": 2, \"Value\": 2.6707416326035767, \"Type\": \"Raked\", \"width\": 2, \"variance\": 0.024788848948156587, \"Upper\": 2.828186381478084, \"Lower\": 2.5132968837290695}, {\"X1\": 3, \"X2\": 2, \"Value\": 1.9615644955269522, \"Type\": \"Raked\", \"width\": 2, \"variance\": 0.027517316126642655, \"Upper\": 2.127447936914701, \"Lower\": 1.7956810541392034}, {\"X1\": 1, \"X2\": 3, \"Value\": 2.1263591082284683, \"Type\": \"Raked\", \"width\": 2, \"variance\": 0.03337627866816698, \"Upper\": 2.309050866849833, \"Lower\": 1.9436673496071035}, {\"X1\": 2, \"X2\": 3, \"Value\": 2.6369796082481862, \"Type\": \"Raked\", \"width\": 2, \"variance\": 0.03685647757118577, \"Upper\": 2.8289600175903526, \"Lower\": 2.44499919890602}, {\"X1\": 3, \"X2\": 3, \"Value\": 2.864535645031109, \"Type\": \"Raked\", \"width\": 2, \"variance\": 0.03952528293272335, \"Upper\": 3.0633453101199155, \"Lower\": 2.6657259799423025}, {\"X1\": 1, \"X2\": 4, \"Value\": 2.0797508490884704, \"Type\": \"Raked\", \"width\": 2, \"variance\": 0.0468356075293486, \"Upper\": 2.296166207899597, \"Lower\": 1.863335490277344}, {\"X1\": 2, \"X2\": 4, \"Value\": 2.553848940992421, \"Type\": \"Raked\", \"width\": 2, \"variance\": 0.050721419851611146, \"Upper\": 2.779063105404012, \"Lower\": 2.3286347765808304}, {\"X1\": 3, \"X2\": 4, \"Value\": 1.9601384122185255, \"Type\": \"Raked\", \"width\": 2, \"variance\": 0.054495885440578276, \"Upper\": 2.1935819502327063, \"Lower\": 1.7266948742043446}, {\"X1\": 1, \"X2\": 5, \"Value\": 2.734573267592138, \"Type\": \"Raked\", \"width\": 2, \"variance\": 0.057460605948150334, \"Upper\": 2.97428268740736, \"Lower\": 2.494863847776916}, {\"X1\": 2, \"X2\": 5, \"Value\": 2.9405275118019865, \"Type\": \"Raked\", \"width\": 2, \"variance\": 0.0618456015340757, \"Upper\": 3.189215270917862, \"Lower\": 2.691839752686111}, {\"X1\": 3, \"X2\": 5, \"Value\": 2.8028973300238613, \"Type\": \"Raked\", \"width\": 2, \"variance\": 0.06421421302392735, \"Upper\": 3.056302564823633, \"Lower\": 2.54949209522409}]}}, {\"mode\": \"vega-lite\"});\n",
       "</script>"
      ],
      "text/plain": [
       "alt.FacetChart(...)"
      ]
     },
     "execution_count": 21,
     "metadata": {},
     "output_type": "execute_result"
    }
   ],
   "source": [
    "bar = alt.Chart(df_raked).mark_errorbar(clip=True, opacity=0.5).encode(\n",
    "    alt.X('Upper:Q', scale=alt.Scale(zero=False), axis=alt.Axis(title='Raked value')),\n",
    "    alt.X2('Lower:Q'),\n",
    "    alt.Y('X2:N', axis=alt.Axis(title='X2')),\n",
    "    color=alt.Color('Type:N', legend=None),\n",
    "    strokeWidth=alt.StrokeWidth('width:Q', legend=None)\n",
    ")\n",
    "point = alt.Chart(df_raked).mark_point(\n",
    "    filled=True\n",
    ").encode(\n",
    "    alt.X('Value:Q'),\n",
    "    alt.Y('X2:N'),\n",
    "    color=alt.Color('Type:N'),\n",
    "    shape=alt.Shape('Type:N')\n",
    ")\n",
    "chart = alt.layer(point, bar).resolve_scale(\n",
    "    shape='independent',\n",
    "    color='independent'\n",
    ").facet(\n",
    "    column=alt.Column('X1:N', header=alt.Header(title='X1', titleFontSize=24, labelFontSize=24)),\n",
    ").configure_axis(\n",
    "    labelFontSize=24,\n",
    "    titleFontSize=24\n",
    ").configure_legend(\n",
    "    labelFontSize=24,\n",
    "    titleFontSize=24\n",
    ")\n",
    "chart"
   ]
  },
  {
   "cell_type": "markdown",
   "id": "14c31498-e48d-46f8-9b07-3f13a72fa666",
   "metadata": {},
   "source": [
    "Now we take one observation ($X_1 = 3$ and $X_2 = 4$) and we look at how it will influence the raked values."
   ]
  },
  {
   "cell_type": "code",
   "execution_count": 22,
   "id": "43c9632f-ad59-4793-9837-063822d1288c",
   "metadata": {},
   "outputs": [
    {
     "data": {
      "text/html": [
       "\n",
       "<style>\n",
       "  #altair-viz-a9c2600bc0544ec9922e6fc8cbc0cc58.vega-embed {\n",
       "    width: 100%;\n",
       "    display: flex;\n",
       "  }\n",
       "\n",
       "  #altair-viz-a9c2600bc0544ec9922e6fc8cbc0cc58.vega-embed details,\n",
       "  #altair-viz-a9c2600bc0544ec9922e6fc8cbc0cc58.vega-embed details summary {\n",
       "    position: relative;\n",
       "  }\n",
       "</style>\n",
       "<div id=\"altair-viz-a9c2600bc0544ec9922e6fc8cbc0cc58\"></div>\n",
       "<script type=\"text/javascript\">\n",
       "  var VEGA_DEBUG = (typeof VEGA_DEBUG == \"undefined\") ? {} : VEGA_DEBUG;\n",
       "  (function(spec, embedOpt){\n",
       "    let outputDiv = document.currentScript.previousElementSibling;\n",
       "    if (outputDiv.id !== \"altair-viz-a9c2600bc0544ec9922e6fc8cbc0cc58\") {\n",
       "      outputDiv = document.getElementById(\"altair-viz-a9c2600bc0544ec9922e6fc8cbc0cc58\");\n",
       "    }\n",
       "    const paths = {\n",
       "      \"vega\": \"https://cdn.jsdelivr.net/npm/vega@5?noext\",\n",
       "      \"vega-lib\": \"https://cdn.jsdelivr.net/npm/vega-lib?noext\",\n",
       "      \"vega-lite\": \"https://cdn.jsdelivr.net/npm/vega-lite@5.17.0?noext\",\n",
       "      \"vega-embed\": \"https://cdn.jsdelivr.net/npm/vega-embed@6?noext\",\n",
       "    };\n",
       "\n",
       "    function maybeLoadScript(lib, version) {\n",
       "      var key = `${lib.replace(\"-\", \"\")}_version`;\n",
       "      return (VEGA_DEBUG[key] == version) ?\n",
       "        Promise.resolve(paths[lib]) :\n",
       "        new Promise(function(resolve, reject) {\n",
       "          var s = document.createElement('script');\n",
       "          document.getElementsByTagName(\"head\")[0].appendChild(s);\n",
       "          s.async = true;\n",
       "          s.onload = () => {\n",
       "            VEGA_DEBUG[key] = version;\n",
       "            return resolve(paths[lib]);\n",
       "          };\n",
       "          s.onerror = () => reject(`Error loading script: ${paths[lib]}`);\n",
       "          s.src = paths[lib];\n",
       "        });\n",
       "    }\n",
       "\n",
       "    function showError(err) {\n",
       "      outputDiv.innerHTML = `<div class=\"error\" style=\"color:red;\">${err}</div>`;\n",
       "      throw err;\n",
       "    }\n",
       "\n",
       "    function displayChart(vegaEmbed) {\n",
       "      vegaEmbed(outputDiv, spec, embedOpt)\n",
       "        .catch(err => showError(`Javascript Error: ${err.message}<br>This usually means there's a typo in your chart specification. See the javascript console for the full traceback.`));\n",
       "    }\n",
       "\n",
       "    if(typeof define === \"function\" && define.amd) {\n",
       "      requirejs.config({paths});\n",
       "      require([\"vega-embed\"], displayChart, err => showError(`Error loading script: ${err.message}`));\n",
       "    } else {\n",
       "      maybeLoadScript(\"vega\", \"5\")\n",
       "        .then(() => maybeLoadScript(\"vega-lite\", \"5.17.0\"))\n",
       "        .then(() => maybeLoadScript(\"vega-embed\", \"6\"))\n",
       "        .catch(showError)\n",
       "        .then(() => displayChart(vegaEmbed));\n",
       "    }\n",
       "  })({\"config\": {\"view\": {\"continuousWidth\": 300, \"continuousHeight\": 300}, \"axis\": {\"labelFontSize\": 12, \"titleFontSize\": 12}, \"legend\": {\"labelFontSize\": 10, \"titleFontSize\": 10}, \"title\": {\"fontSize\": 12}}, \"layer\": [{\"mark\": {\"type\": \"rect\"}, \"encoding\": {\"color\": {\"field\": \"grad_y\", \"legend\": {\"title\": [\"Effect of\", \"one obs.\"]}, \"scale\": {\"domain\": [-0.587349519413077, 0.587349519413077], \"scheme\": \"redblue\"}, \"type\": \"quantitative\"}, \"x\": {\"axis\": {\"title\": \"X1\"}, \"field\": \"raked_1\", \"type\": \"nominal\"}, \"y\": {\"axis\": {\"title\": \"X2\"}, \"field\": \"raked_2\", \"type\": \"nominal\"}}}, {\"mark\": {\"type\": \"text\", \"baseline\": \"middle\"}, \"encoding\": {\"text\": {\"field\": \"grad_y\", \"format\": \".2f\", \"type\": \"quantitative\"}, \"x\": {\"axis\": {\"title\": \"X1\"}, \"field\": \"raked_1\", \"type\": \"nominal\"}, \"y\": {\"axis\": {\"title\": \"X2\"}, \"field\": \"raked_2\", \"type\": \"nominal\"}}}], \"data\": {\"name\": \"data-7ff6511a95ebfd8beb3001e09c922c12\"}, \"height\": 180, \"title\": \"X1 = 3 - X2 = 4\", \"width\": 120, \"$schema\": \"https://vega.github.io/schema/vega-lite/v5.17.0.json\", \"datasets\": {\"data-7ff6511a95ebfd8beb3001e09c922c12\": [{\"raked_1\": 1, \"raked_2\": 1, \"X1\": 3, \"X2\": 4, \"grad_y\": 0.07188762696069685}, {\"raked_1\": 2, \"raked_2\": 1, \"X1\": 3, \"X2\": 4, \"grad_y\": 0.08421404056500763}, {\"raked_1\": 3, \"raked_2\": 1, \"X1\": 3, \"X2\": 4, \"grad_y\": -0.15610166752570448}, {\"raked_1\": 1, \"raked_2\": 2, \"X1\": 3, \"X2\": 4, \"grad_y\": 0.053908639841040426}, {\"raked_1\": 2, \"raked_2\": 2, \"X1\": 3, \"X2\": 4, \"grad_y\": 0.06707067958909887}, {\"raked_1\": 3, \"raked_2\": 2, \"X1\": 3, \"X2\": 4, \"grad_y\": -0.1209793194301393}, {\"raked_1\": 1, \"raked_2\": 3, \"X1\": 3, \"X2\": 4, \"grad_y\": 0.06741562712786849}, {\"raked_1\": 2, \"raked_2\": 3, \"X1\": 3, \"X2\": 4, \"grad_y\": 0.08627524882081174}, {\"raked_1\": 3, \"raked_2\": 3, \"X1\": 3, \"X2\": 4, \"grad_y\": -0.15369087594868022}, {\"raked_1\": 1, \"raked_2\": 4, \"X1\": 3, \"X2\": 4, \"grad_y\": -0.2671798637588645}, {\"raked_1\": 2, \"raked_2\": 4, \"X1\": 3, \"X2\": 4, \"grad_y\": -0.3201696556542125}, {\"raked_1\": 3, \"raked_2\": 4, \"X1\": 3, \"X2\": 4, \"grad_y\": 0.587349519413077}, {\"raked_1\": 1, \"raked_2\": 5, \"X1\": 3, \"X2\": 4, \"grad_y\": 0.07396796982925874}, {\"raked_1\": 2, \"raked_2\": 5, \"X1\": 3, \"X2\": 4, \"grad_y\": 0.08260968667929428}, {\"raked_1\": 3, \"raked_2\": 5, \"X1\": 3, \"X2\": 4, \"grad_y\": -0.15657765650855301}]}}, {\"mode\": \"vega-lite\"});\n",
       "</script>"
      ],
      "text/plain": [
       "alt.LayerChart(...)"
      ]
     },
     "execution_count": 22,
     "metadata": {},
     "output_type": "execute_result"
    }
   ],
   "source": [
    "index = np.argmax(np.abs(df_y.grad_y))\n",
    "index_var1 = df_y.iloc[index].X1\n",
    "index_var2 = df_y.iloc[index].X2\n",
    "df_y_loc = df_y.loc[(df_y.X1==index_var1)&(df_y.X2==index_var2)]\n",
    "max_scale = max(abs(df_y_loc['grad_y'].min()), abs(df_y_loc['grad_y'].max()))\n",
    "\n",
    "base = alt.Chart(df_y_loc).encode(\n",
    "    x=alt.X('raked_1:N', axis=alt.Axis(title='X1')),\n",
    "    y=alt.Y('raked_2:N', axis=alt.Axis(title='X2')),\n",
    ")\n",
    "\n",
    "heatmap = base.mark_rect().encode(\n",
    "    color=alt.Color('grad_y:Q',\n",
    "        scale=alt.Scale(scheme='redblue', domain=[-max_scale, max_scale]),\n",
    "        legend=alt.Legend(title=['Effect of', 'one obs.']))\n",
    ")\n",
    "\n",
    "text = base.mark_text(baseline='middle').encode(\n",
    "    alt.Text('grad_y:Q', format='.2f')\n",
    ")\n",
    "\n",
    "chart = alt.layer(heatmap, text\n",
    ").properties(\n",
    "    title='X1 = ' + str(int(index_var1)) + ' - X2 = ' + str(int(index_var2)),\n",
    "    width=120,\n",
    "    height=180\n",
    ").configure_title(\n",
    "    fontSize=12\n",
    ").configure_axis(\n",
    "    labelFontSize=12,\n",
    "    titleFontSize=12\n",
    ").configure_legend(\n",
    "    labelFontSize=10,\n",
    "    titleFontSize=10\n",
    ")\n",
    "chart"
   ]
  },
  {
   "cell_type": "markdown",
   "id": "2673f417-8389-4756-9a9d-4f21ba1c4dfe",
   "metadata": {},
   "source": [
    "Now we take one raked value ($X_1 = 3$ and $X_2 = 4$) and we look at how it is nfluenced by the observations."
   ]
  },
  {
   "cell_type": "code",
   "execution_count": 23,
   "id": "215ef5ee-1716-4ceb-b329-af0bbe58ba07",
   "metadata": {},
   "outputs": [
    {
     "data": {
      "text/html": [
       "\n",
       "<style>\n",
       "  #altair-viz-81ade418ef2a4222a2ddb2e9e7aba7f3.vega-embed {\n",
       "    width: 100%;\n",
       "    display: flex;\n",
       "  }\n",
       "\n",
       "  #altair-viz-81ade418ef2a4222a2ddb2e9e7aba7f3.vega-embed details,\n",
       "  #altair-viz-81ade418ef2a4222a2ddb2e9e7aba7f3.vega-embed details summary {\n",
       "    position: relative;\n",
       "  }\n",
       "</style>\n",
       "<div id=\"altair-viz-81ade418ef2a4222a2ddb2e9e7aba7f3\"></div>\n",
       "<script type=\"text/javascript\">\n",
       "  var VEGA_DEBUG = (typeof VEGA_DEBUG == \"undefined\") ? {} : VEGA_DEBUG;\n",
       "  (function(spec, embedOpt){\n",
       "    let outputDiv = document.currentScript.previousElementSibling;\n",
       "    if (outputDiv.id !== \"altair-viz-81ade418ef2a4222a2ddb2e9e7aba7f3\") {\n",
       "      outputDiv = document.getElementById(\"altair-viz-81ade418ef2a4222a2ddb2e9e7aba7f3\");\n",
       "    }\n",
       "    const paths = {\n",
       "      \"vega\": \"https://cdn.jsdelivr.net/npm/vega@5?noext\",\n",
       "      \"vega-lib\": \"https://cdn.jsdelivr.net/npm/vega-lib?noext\",\n",
       "      \"vega-lite\": \"https://cdn.jsdelivr.net/npm/vega-lite@5.17.0?noext\",\n",
       "      \"vega-embed\": \"https://cdn.jsdelivr.net/npm/vega-embed@6?noext\",\n",
       "    };\n",
       "\n",
       "    function maybeLoadScript(lib, version) {\n",
       "      var key = `${lib.replace(\"-\", \"\")}_version`;\n",
       "      return (VEGA_DEBUG[key] == version) ?\n",
       "        Promise.resolve(paths[lib]) :\n",
       "        new Promise(function(resolve, reject) {\n",
       "          var s = document.createElement('script');\n",
       "          document.getElementsByTagName(\"head\")[0].appendChild(s);\n",
       "          s.async = true;\n",
       "          s.onload = () => {\n",
       "            VEGA_DEBUG[key] = version;\n",
       "            return resolve(paths[lib]);\n",
       "          };\n",
       "          s.onerror = () => reject(`Error loading script: ${paths[lib]}`);\n",
       "          s.src = paths[lib];\n",
       "        });\n",
       "    }\n",
       "\n",
       "    function showError(err) {\n",
       "      outputDiv.innerHTML = `<div class=\"error\" style=\"color:red;\">${err}</div>`;\n",
       "      throw err;\n",
       "    }\n",
       "\n",
       "    function displayChart(vegaEmbed) {\n",
       "      vegaEmbed(outputDiv, spec, embedOpt)\n",
       "        .catch(err => showError(`Javascript Error: ${err.message}<br>This usually means there's a typo in your chart specification. See the javascript console for the full traceback.`));\n",
       "    }\n",
       "\n",
       "    if(typeof define === \"function\" && define.amd) {\n",
       "      requirejs.config({paths});\n",
       "      require([\"vega-embed\"], displayChart, err => showError(`Error loading script: ${err.message}`));\n",
       "    } else {\n",
       "      maybeLoadScript(\"vega\", \"5\")\n",
       "        .then(() => maybeLoadScript(\"vega-lite\", \"5.17.0\"))\n",
       "        .then(() => maybeLoadScript(\"vega-embed\", \"6\"))\n",
       "        .catch(showError)\n",
       "        .then(() => displayChart(vegaEmbed));\n",
       "    }\n",
       "  })({\"config\": {\"view\": {\"continuousWidth\": 300, \"continuousHeight\": 300}, \"axis\": {\"labelFontSize\": 12, \"titleFontSize\": 12}, \"legend\": {\"labelFontSize\": 10, \"titleFontSize\": 10}, \"title\": {\"fontSize\": 12}}, \"layer\": [{\"mark\": {\"type\": \"rect\"}, \"encoding\": {\"color\": {\"field\": \"grad_y\", \"legend\": {\"title\": [\"Effect of\", \"all obs.\"]}, \"scale\": {\"domain\": [-0.587349519413077, 0.587349519413077], \"scheme\": \"redblue\"}, \"type\": \"quantitative\"}, \"x\": {\"axis\": {\"title\": \"X1\"}, \"field\": \"X1\", \"type\": \"nominal\"}, \"y\": {\"axis\": {\"title\": \"X2\"}, \"field\": \"X2\", \"type\": \"nominal\"}}}, {\"mark\": {\"type\": \"text\", \"baseline\": \"middle\"}, \"encoding\": {\"text\": {\"field\": \"grad_y\", \"format\": \".2f\", \"type\": \"quantitative\"}, \"x\": {\"axis\": {\"title\": \"X1\"}, \"field\": \"X1\", \"type\": \"nominal\"}, \"y\": {\"axis\": {\"title\": \"X2\"}, \"field\": \"X2\", \"type\": \"nominal\"}}}], \"data\": {\"name\": \"data-09b09d4229864e356c822f889860f089\"}, \"height\": 180, \"title\": \"X1 = 3 - X2 = 4\", \"width\": 120, \"$schema\": \"https://vega.github.io/schema/vega-lite/v5.17.0.json\", \"datasets\": {\"data-09b09d4229864e356c822f889860f089\": [{\"raked_1\": 3, \"raked_2\": 4, \"X1\": 1, \"X2\": 1, \"grad_y\": 0.05544946089643206}, {\"raked_1\": 3, \"raked_2\": 4, \"X1\": 2, \"X2\": 1, \"grad_y\": 0.05900882422492587}, {\"raked_1\": 3, \"raked_2\": 4, \"X1\": 3, \"X2\": 1, \"grad_y\": -0.11234452168867984}, {\"raked_1\": 3, \"raked_2\": 4, \"X1\": 1, \"X2\": 2, \"grad_y\": 0.04438225743255793}, {\"raked_1\": 3, \"raked_2\": 4, \"X1\": 2, \"X2\": 2, \"grad_y\": 0.04771486214231801}, {\"raked_1\": 3, \"raked_2\": 4, \"X1\": 3, \"X2\": 2, \"grad_y\": -0.11725893457649672}, {\"raked_1\": 3, \"raked_2\": 4, \"X1\": 1, \"X2\": 3, \"grad_y\": 0.05922738915566654}, {\"raked_1\": 3, \"raked_2\": 4, \"X1\": 2, \"X2\": 3, \"grad_y\": 0.06276943316600164}, {\"raked_1\": 3, \"raked_2\": 4, \"X1\": 3, \"X2\": 3, \"grad_y\": -0.10300203167915323}, {\"raked_1\": 3, \"raked_2\": 4, \"X1\": 1, \"X2\": 4, \"grad_y\": -0.24510339473590145}, {\"raked_1\": 3, \"raked_2\": 4, \"X1\": 2, \"X2\": 4, \"grad_y\": -0.24557912942000534}, {\"raked_1\": 3, \"raked_2\": 4, \"X1\": 3, \"X2\": 4, \"grad_y\": 0.587349519413077}, {\"raked_1\": 3, \"raked_2\": 4, \"X1\": 1, \"X2\": 5, \"grad_y\": 0.05351736515729039}, {\"raked_1\": 3, \"raked_2\": 4, \"X1\": 2, \"X2\": 5, \"grad_y\": 0.05704151425354393}, {\"raked_1\": 3, \"raked_2\": 4, \"X1\": 3, \"X2\": 5, \"grad_y\": -0.11349668676360083}]}}, {\"mode\": \"vega-lite\"});\n",
       "</script>"
      ],
      "text/plain": [
       "alt.LayerChart(...)"
      ]
     },
     "execution_count": 23,
     "metadata": {},
     "output_type": "execute_result"
    }
   ],
   "source": [
    "index = np.argmax(np.abs(df_y.grad_y))\n",
    "index_raked_1 = df_y.iloc[index].raked_1\n",
    "index_raked_2 = df_y.iloc[index].raked_2\n",
    "df_y_loc = df_y.loc[(df_y.raked_1==index_raked_1)&(df_y.raked_2==index_raked_2)]\n",
    "max_scale = max(abs(df_y_loc['grad_y'].min()), abs(df_y_loc['grad_y'].max()))\n",
    "\n",
    "base = alt.Chart(df_y_loc).encode(\n",
    "    x=alt.X('X1:N', axis=alt.Axis(title='X1')),\n",
    "    y=alt.Y('X2:N', axis=alt.Axis(title='X2')),\n",
    ")\n",
    "\n",
    "heatmap = base.mark_rect().encode(\n",
    "    color=alt.Color('grad_y:Q',\n",
    "        scale=alt.Scale(scheme='redblue', domain=[-max_scale, max_scale]),\n",
    "        legend=alt.Legend(title=['Effect of', 'all obs.']))\n",
    ")\n",
    "\n",
    "text = base.mark_text(baseline='middle').encode(\n",
    "    alt.Text('grad_y:Q', format='.2f')\n",
    ")\n",
    "\n",
    "chart = alt.layer(heatmap, text\n",
    ").properties(\n",
    "    title='X1 = ' + str(int(index_raked_1)) + ' - X2 = ' + str(int(index_raked_2)),\n",
    "    width=120,\n",
    "    height=180\n",
    ").configure_title(\n",
    "    fontSize=12\n",
    ").configure_axis(\n",
    "    labelFontSize=12,\n",
    "    titleFontSize=12\n",
    ").configure_legend(\n",
    "    labelFontSize=10,\n",
    "    titleFontSize=10\n",
    ")\n",
    "chart"
   ]
  },
  {
   "cell_type": "markdown",
   "id": "fd65c784-50c0-4e53-a27f-9caf46e94e1f",
   "metadata": {},
   "source": [
    "We compare the raked value of the mean of the observations with the mean of the raked values for each sample of observations."
   ]
  },
  {
   "cell_type": "code",
   "execution_count": 24,
   "id": "1d4b52ca-8f0c-49d6-b25a-9473b9427c4f",
   "metadata": {},
   "outputs": [
    {
     "data": {
      "text/html": [
       "\n",
       "<style>\n",
       "  #altair-viz-57dbe6e0e267402da6717c46dc4ccae7.vega-embed {\n",
       "    width: 100%;\n",
       "    display: flex;\n",
       "  }\n",
       "\n",
       "  #altair-viz-57dbe6e0e267402da6717c46dc4ccae7.vega-embed details,\n",
       "  #altair-viz-57dbe6e0e267402da6717c46dc4ccae7.vega-embed details summary {\n",
       "    position: relative;\n",
       "  }\n",
       "</style>\n",
       "<div id=\"altair-viz-57dbe6e0e267402da6717c46dc4ccae7\"></div>\n",
       "<script type=\"text/javascript\">\n",
       "  var VEGA_DEBUG = (typeof VEGA_DEBUG == \"undefined\") ? {} : VEGA_DEBUG;\n",
       "  (function(spec, embedOpt){\n",
       "    let outputDiv = document.currentScript.previousElementSibling;\n",
       "    if (outputDiv.id !== \"altair-viz-57dbe6e0e267402da6717c46dc4ccae7\") {\n",
       "      outputDiv = document.getElementById(\"altair-viz-57dbe6e0e267402da6717c46dc4ccae7\");\n",
       "    }\n",
       "    const paths = {\n",
       "      \"vega\": \"https://cdn.jsdelivr.net/npm/vega@5?noext\",\n",
       "      \"vega-lib\": \"https://cdn.jsdelivr.net/npm/vega-lib?noext\",\n",
       "      \"vega-lite\": \"https://cdn.jsdelivr.net/npm/vega-lite@5.17.0?noext\",\n",
       "      \"vega-embed\": \"https://cdn.jsdelivr.net/npm/vega-embed@6?noext\",\n",
       "    };\n",
       "\n",
       "    function maybeLoadScript(lib, version) {\n",
       "      var key = `${lib.replace(\"-\", \"\")}_version`;\n",
       "      return (VEGA_DEBUG[key] == version) ?\n",
       "        Promise.resolve(paths[lib]) :\n",
       "        new Promise(function(resolve, reject) {\n",
       "          var s = document.createElement('script');\n",
       "          document.getElementsByTagName(\"head\")[0].appendChild(s);\n",
       "          s.async = true;\n",
       "          s.onload = () => {\n",
       "            VEGA_DEBUG[key] = version;\n",
       "            return resolve(paths[lib]);\n",
       "          };\n",
       "          s.onerror = () => reject(`Error loading script: ${paths[lib]}`);\n",
       "          s.src = paths[lib];\n",
       "        });\n",
       "    }\n",
       "\n",
       "    function showError(err) {\n",
       "      outputDiv.innerHTML = `<div class=\"error\" style=\"color:red;\">${err}</div>`;\n",
       "      throw err;\n",
       "    }\n",
       "\n",
       "    function displayChart(vegaEmbed) {\n",
       "      vegaEmbed(outputDiv, spec, embedOpt)\n",
       "        .catch(err => showError(`Javascript Error: ${err.message}<br>This usually means there's a typo in your chart specification. See the javascript console for the full traceback.`));\n",
       "    }\n",
       "\n",
       "    if(typeof define === \"function\" && define.amd) {\n",
       "      requirejs.config({paths});\n",
       "      require([\"vega-embed\"], displayChart, err => showError(`Error loading script: ${err.message}`));\n",
       "    } else {\n",
       "      maybeLoadScript(\"vega\", \"5\")\n",
       "        .then(() => maybeLoadScript(\"vega-lite\", \"5.17.0\"))\n",
       "        .then(() => maybeLoadScript(\"vega-embed\", \"6\"))\n",
       "        .catch(showError)\n",
       "        .then(() => displayChart(vegaEmbed));\n",
       "    }\n",
       "  })({\"config\": {\"view\": {\"continuousWidth\": 300, \"continuousHeight\": 300}, \"axis\": {\"labelFontSize\": 24, \"titleFontSize\": 24}}, \"data\": {\"name\": \"data-cc25e0b48e81fb506ca345444de5b672\"}, \"mark\": {\"type\": \"point\", \"size\": 60}, \"encoding\": {\"color\": {\"field\": \"X1\", \"legend\": {\"title\": \"X1\"}, \"type\": \"nominal\"}, \"shape\": {\"field\": \"X2\", \"legend\": {\"title\": \"X2\"}, \"type\": \"nominal\"}, \"x\": {\"axis\": {\"title\": \"Using all draws\"}, \"field\": \"all_draws\", \"scale\": {\"domain\": [1.9567016117249911, 2.9405275118019865], \"zero\": false}, \"type\": \"quantitative\"}, \"y\": {\"axis\": {\"title\": \"Using the mean\"}, \"field\": \"mean\", \"scale\": {\"domain\": [1.9567016117249911, 2.9405275118019865], \"zero\": false}, \"type\": \"quantitative\"}}, \"$schema\": \"https://vega.github.io/schema/vega-lite/v5.17.0.json\", \"datasets\": {\"data-cc25e0b48e81fb506ca345444de5b672\": [{\"X1\": 1, \"X2\": 1, \"mean\": 2.5899817132705727, \"all_draws\": 2.590572971693078}, {\"X1\": 2, \"X2\": 1, \"mean\": 2.925487635635924, \"all_draws\": 2.9235925853489437}, {\"X1\": 3, \"X2\": 1, \"mean\": 2.8501014698142133, \"all_draws\": 2.8514053207349854}, {\"X1\": 1, \"X2\": 2, \"mean\": 2.2468548615706694, \"all_draws\": 2.2481562325726387}, {\"X1\": 2, \"X2\": 2, \"mean\": 2.6707416326035767, \"all_draws\": 2.671358560551846}, {\"X1\": 3, \"X2\": 2, \"mean\": 1.9615644955269522, \"all_draws\": 1.959646264917593}, {\"X1\": 1, \"X2\": 3, \"mean\": 2.1263591082284683, \"all_draws\": 2.124083171533173}, {\"X1\": 2, \"X2\": 3, \"mean\": 2.6369796082481862, \"all_draws\": 2.6356540278011846}, {\"X1\": 3, \"X2\": 3, \"mean\": 2.864535645031109, \"all_draws\": 2.8681370511034845}, {\"X1\": 1, \"X2\": 4, \"mean\": 2.0797508490884704, \"all_draws\": 2.079889520236628}, {\"X1\": 2, \"X2\": 4, \"mean\": 2.553848940992421, \"all_draws\": 2.5571470586635514}, {\"X1\": 3, \"X2\": 4, \"mean\": 1.9601384122185255, \"all_draws\": 1.9567016117249911}, {\"X1\": 1, \"X2\": 5, \"mean\": 2.734573267592138, \"all_draws\": 2.734817901474753}, {\"X1\": 2, \"X2\": 5, \"mean\": 2.9405275118019865, \"all_draws\": 2.9398330995554924}, {\"X1\": 3, \"X2\": 5, \"mean\": 2.8028973300238613, \"all_draws\": 2.8033470927434228}]}}, {\"mode\": \"vega-lite\"});\n",
       "</script>"
      ],
      "text/plain": [
       "alt.Chart(...)"
      ]
     },
     "execution_count": 24,
     "metadata": {},
     "output_type": "execute_result"
    }
   ],
   "source": [
    "delta_method = pd.DataFrame({'X1': x1, \\\n",
    "                             'X2': x2, \\\n",
    "                             'mean': df_raked.loc[df_raked.Type=='Raked'].Value})\n",
    "all_draws = pd.DataFrame({'X1': x1, \\\n",
    "                          'X2': x2, \\\n",
    "                          'all_draws': mean_draws})\n",
    "df_both = delta_method.merge(all_draws, how='inner', \\\n",
    "    on=['X1', 'X2'])\n",
    "min_x = min(df_both['mean'].min(), df_both['all_draws'].min())\n",
    "max_x = max(df_both['mean'].max(), df_both['all_draws'].max())\n",
    "chart = alt.Chart(df_both).mark_point(size=60).encode(\n",
    "    x=alt.X('all_draws:Q', scale=alt.Scale(domain=[min_x, max_x], zero=False), axis=alt.Axis(title='Using all draws')),\n",
    "    y=alt.Y('mean:Q', scale=alt.Scale(domain=[min_x, max_x], zero=False), axis=alt.Axis(title='Using the mean')),\n",
    "    color=alt.Color('X1:N', legend=alt.Legend(title='X1')),\n",
    "    shape=alt.Shape('X2:N', legend=alt.Legend(title='X2'))\n",
    ").configure_axis(\n",
    "    labelFontSize=24,\n",
    "    titleFontSize=24\n",
    ")\n",
    "chart"
   ]
  },
  {
   "cell_type": "markdown",
   "id": "6eb9d491-e1d8-4c02-851d-5db395a260a7",
   "metadata": {},
   "source": [
    "We compare the covariance matrix of the mean of the observations with the covariance matrix of the raked values for each sample of observations."
   ]
  },
  {
   "cell_type": "code",
   "execution_count": 25,
   "id": "89e1c1c7-c4c0-4dd2-9344-288e7e01f8d7",
   "metadata": {},
   "outputs": [
    {
     "data": {
      "text/html": [
       "\n",
       "<style>\n",
       "  #altair-viz-7dcc43c7822848b39a26661180cdabc0.vega-embed {\n",
       "    width: 100%;\n",
       "    display: flex;\n",
       "  }\n",
       "\n",
       "  #altair-viz-7dcc43c7822848b39a26661180cdabc0.vega-embed details,\n",
       "  #altair-viz-7dcc43c7822848b39a26661180cdabc0.vega-embed details summary {\n",
       "    position: relative;\n",
       "  }\n",
       "</style>\n",
       "<div id=\"altair-viz-7dcc43c7822848b39a26661180cdabc0\"></div>\n",
       "<script type=\"text/javascript\">\n",
       "  var VEGA_DEBUG = (typeof VEGA_DEBUG == \"undefined\") ? {} : VEGA_DEBUG;\n",
       "  (function(spec, embedOpt){\n",
       "    let outputDiv = document.currentScript.previousElementSibling;\n",
       "    if (outputDiv.id !== \"altair-viz-7dcc43c7822848b39a26661180cdabc0\") {\n",
       "      outputDiv = document.getElementById(\"altair-viz-7dcc43c7822848b39a26661180cdabc0\");\n",
       "    }\n",
       "    const paths = {\n",
       "      \"vega\": \"https://cdn.jsdelivr.net/npm/vega@5?noext\",\n",
       "      \"vega-lib\": \"https://cdn.jsdelivr.net/npm/vega-lib?noext\",\n",
       "      \"vega-lite\": \"https://cdn.jsdelivr.net/npm/vega-lite@5.17.0?noext\",\n",
       "      \"vega-embed\": \"https://cdn.jsdelivr.net/npm/vega-embed@6?noext\",\n",
       "    };\n",
       "\n",
       "    function maybeLoadScript(lib, version) {\n",
       "      var key = `${lib.replace(\"-\", \"\")}_version`;\n",
       "      return (VEGA_DEBUG[key] == version) ?\n",
       "        Promise.resolve(paths[lib]) :\n",
       "        new Promise(function(resolve, reject) {\n",
       "          var s = document.createElement('script');\n",
       "          document.getElementsByTagName(\"head\")[0].appendChild(s);\n",
       "          s.async = true;\n",
       "          s.onload = () => {\n",
       "            VEGA_DEBUG[key] = version;\n",
       "            return resolve(paths[lib]);\n",
       "          };\n",
       "          s.onerror = () => reject(`Error loading script: ${paths[lib]}`);\n",
       "          s.src = paths[lib];\n",
       "        });\n",
       "    }\n",
       "\n",
       "    function showError(err) {\n",
       "      outputDiv.innerHTML = `<div class=\"error\" style=\"color:red;\">${err}</div>`;\n",
       "      throw err;\n",
       "    }\n",
       "\n",
       "    function displayChart(vegaEmbed) {\n",
       "      vegaEmbed(outputDiv, spec, embedOpt)\n",
       "        .catch(err => showError(`Javascript Error: ${err.message}<br>This usually means there's a typo in your chart specification. See the javascript console for the full traceback.`));\n",
       "    }\n",
       "\n",
       "    if(typeof define === \"function\" && define.amd) {\n",
       "      requirejs.config({paths});\n",
       "      require([\"vega-embed\"], displayChart, err => showError(`Error loading script: ${err.message}`));\n",
       "    } else {\n",
       "      maybeLoadScript(\"vega\", \"5\")\n",
       "        .then(() => maybeLoadScript(\"vega-lite\", \"5.17.0\"))\n",
       "        .then(() => maybeLoadScript(\"vega-embed\", \"6\"))\n",
       "        .catch(showError)\n",
       "        .then(() => displayChart(vegaEmbed));\n",
       "    }\n",
       "  })({\"config\": {\"view\": {\"continuousWidth\": 300, \"continuousHeight\": 300}, \"axis\": {\"labelFontSize\": 24, \"titleFontSize\": 24}}, \"data\": {\"name\": \"data-8b107f40d53f23b4cd8f2afbd8de08e2\"}, \"mark\": {\"type\": \"point\", \"size\": 60}, \"encoding\": {\"color\": {\"field\": \"X1\", \"legend\": {\"title\": \"X1\"}, \"type\": \"nominal\"}, \"shape\": {\"field\": \"X2\", \"legend\": {\"title\": \"X2\"}, \"type\": \"nominal\"}, \"x\": {\"axis\": {\"title\": \"Using all draws\"}, \"field\": \"all_draws\", \"scale\": {\"domain\": [0.011749645778150287, 0.06670988123627686], \"zero\": false}, \"type\": \"quantitative\"}, \"y\": {\"axis\": {\"title\": \"Using delta method\"}, \"field\": \"delta_method\", \"scale\": {\"domain\": [0.011749645778150287, 0.06670988123627686], \"zero\": false}, \"type\": \"quantitative\"}}, \"$schema\": \"https://vega.github.io/schema/vega-lite/v5.17.0.json\", \"datasets\": {\"data-8b107f40d53f23b4cd8f2afbd8de08e2\": [{\"X1\": 1, \"X2\": 1, \"delta_method\": 0.011749645778150287, \"all_draws\": 0.012256113204447971}, {\"X1\": 2, \"X2\": 1, \"delta_method\": 0.014749314380293413, \"all_draws\": 0.01518225879950847}, {\"X1\": 3, \"X2\": 1, \"delta_method\": 0.01822627933283381, \"all_draws\": 0.018860701465107866}, {\"X1\": 1, \"X2\": 2, \"delta_method\": 0.02154207861336466, \"all_draws\": 0.022045689350892905}, {\"X1\": 2, \"X2\": 2, \"delta_method\": 0.024788848948156587, \"all_draws\": 0.025318983127279954}, {\"X1\": 3, \"X2\": 2, \"delta_method\": 0.027517316126642655, \"all_draws\": 0.028338037427381998}, {\"X1\": 1, \"X2\": 3, \"delta_method\": 0.03337627866816698, \"all_draws\": 0.034264805266430054}, {\"X1\": 2, \"X2\": 3, \"delta_method\": 0.03685647757118577, \"all_draws\": 0.037736540944966375}, {\"X1\": 3, \"X2\": 3, \"delta_method\": 0.03952528293272335, \"all_draws\": 0.040638271116102215}, {\"X1\": 1, \"X2\": 4, \"delta_method\": 0.0468356075293486, \"all_draws\": 0.04896865304466919}, {\"X1\": 2, \"X2\": 4, \"delta_method\": 0.050721419851611146, \"all_draws\": 0.05293541011401571}, {\"X1\": 3, \"X2\": 4, \"delta_method\": 0.054495885440578276, \"all_draws\": 0.05673044701442062}, {\"X1\": 1, \"X2\": 5, \"delta_method\": 0.057460605948150334, \"all_draws\": 0.059345833689812715}, {\"X1\": 2, \"X2\": 5, \"delta_method\": 0.0618456015340757, \"all_draws\": 0.06381432084902709}, {\"X1\": 3, \"X2\": 5, \"delta_method\": 0.06421421302392735, \"all_draws\": 0.06670988123627686}]}}, {\"mode\": \"vega-lite\"});\n",
       "</script>"
      ],
      "text/plain": [
       "alt.Chart(...)"
      ]
     },
     "execution_count": 25,
     "metadata": {},
     "output_type": "execute_result"
    }
   ],
   "source": [
    "delta_method = pd.DataFrame({'X1': x1, \\\n",
    "                             'X2': x2, \\\n",
    "                             'delta_method': np.diag(covariance_mean)})\n",
    "all_draws = pd.DataFrame({'X1': x1, \\\n",
    "                          'X2': x2, \\\n",
    "                          'all_draws': np.diag(covariance_draws)})\n",
    "df_both = delta_method.merge(all_draws, how='inner', \\\n",
    "    left_on=['X1', 'X2'], \\\n",
    "    right_on=['X1', 'X2'])\n",
    "min_x = min(df_both['delta_method'].min(), df_both['all_draws'].min())\n",
    "max_x = max(df_both['delta_method'].max(), df_both['all_draws'].max())\n",
    "chart = alt.Chart(df_both).mark_point(size=60).encode(\n",
    "    x=alt.X('all_draws:Q', scale=alt.Scale(domain=[min_x, max_x], zero=False), axis=alt.Axis(title='Using all draws')),\n",
    "    y=alt.Y('delta_method:Q', scale=alt.Scale(domain=[min_x, max_x], zero=False), axis=alt.Axis(title='Using delta method')),\n",
    "    color=alt.Color('X1:N', legend=alt.Legend(title='X1')),\n",
    "    shape=alt.Shape('X2:N', legend=alt.Legend(title='X2'))\n",
    ").configure_axis(\n",
    "    labelFontSize=24,\n",
    "    titleFontSize=24\n",
    ")\n",
    "chart"
   ]
  },
  {
   "cell_type": "code",
   "execution_count": 26,
   "id": "8fc8b66f-ce96-451d-ba85-89a74f910398",
   "metadata": {},
   "outputs": [],
   "source": [
    "chart.save('variance_comparison_' + str(N) + 'samples.png')"
   ]
  }
 ],
 "metadata": {
  "kernelspec": {
   "display_name": "Python 3 (ipykernel)",
   "language": "python",
   "name": "python3"
  },
  "language_info": {
   "codemirror_mode": {
    "name": "ipython",
    "version": 3
   },
   "file_extension": ".py",
   "mimetype": "text/x-python",
   "name": "python",
   "nbconvert_exporter": "python",
   "pygments_lexer": "ipython3",
   "version": "3.12.4"
  }
 },
 "nbformat": 4,
 "nbformat_minor": 5
}
