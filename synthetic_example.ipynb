{
 "cells": [
  {
   "cell_type": "markdown",
   "id": "5bb2c7cd-5a40-484c-9637-c4f2f6651a19",
   "metadata": {},
   "source": [
    "# Raking in 2D\n",
    "\n",
    "This notebook explains how to use the raking method on a small 2D example."
   ]
  },
  {
   "cell_type": "code",
   "execution_count": 1,
   "id": "0598f2c0-d7d2-4d90-a9ac-cca47125636e",
   "metadata": {},
   "outputs": [],
   "source": [
    "# Python modules\n",
    "import altair as alt\n",
    "import numpy as np\n",
    "import pandas as pd\n",
    "from scipy.linalg import lu_factor, lu_solve\n",
    "from scipy.sparse.linalg import cg\n",
    "from statistics import covariance"
   ]
  },
  {
   "cell_type": "markdown",
   "id": "e4c49ef3-9502-4fde-9d65-a07fb06587c5",
   "metadata": {},
   "source": [
    "## Generating the data\n",
    "\n",
    "We first begin by generating a balanced $3 \\times 5$ matrix. We compute the corresponding margins and then we add noise to the data. This way we have margins that sum correctly (thus the raking problem indeed has a solution), but we avoid having observations that already match the margins before the raking. "
   ]
  },
  {
   "cell_type": "code",
   "execution_count": 25,
   "id": "bcb3d946-404f-4a55-ae2a-73fadb9ad25d",
   "metadata": {},
   "outputs": [],
   "source": [
    "# Define variables and margins names\n",
    "x1 = [1, 2, 3, 1, 2, 3, 1, 2, 3, 1, 2, 3, 1, 2, 3]\n",
    "x2 = [1, 1, 1, 2, 2, 2, 3, 3, 3, 4, 4, 4, 5, 5, 5]\n",
    "margins = ['s1_1', 's1_2', 's1_3', 's1_4', 's1_5', 's2_1', 's2_2']\n",
    "\n",
    "# Generate balanced table\n",
    "rng = np.random.default_rng(0)\n",
    "beta_ij = rng.uniform(low=2.0, high=3.0, size=(3, 5))\n",
    "\n",
    "# Compute the margins\n",
    "s1 = np.sum(beta_ij, axis=0)\n",
    "s2 = np.sum(beta_ij, axis=1)\n",
    "\n",
    "# Add noise to the data\n",
    "mean = beta_ij.flatten(order='F') + rng.normal(0.0, 0.1, size=15)"
   ]
  },
  {
   "cell_type": "markdown",
   "id": "167a5da2-5a7a-4bb9-9324-b34dace83fe1",
   "metadata": {},
   "source": [
    "We then generate samples for the observations in order to be able to compare the two methods of uncertainty propagation (Monte Carlo and combination of delta method and implicit function theorem)."
   ]
  },
  {
   "cell_type": "code",
   "execution_count": 30,
   "id": "5bd3f668-8856-4aa0-8800-79aebf05b0cd",
   "metadata": {},
   "outputs": [],
   "source": [
    "# Define the covariance matrix\n",
    "cov = 0.01 * np.ones((15, 15))\n",
    "np.fill_diagonal(cov, np.arange(0.01, 0.16, 0.01))\n",
    "\n",
    "# Generate samples\n",
    "y = rng.multivariate_normal(mean, cov, 1000)"
   ]
  },
  {
   "cell_type": "markdown",
   "id": "6768874a-6791-48c3-8ce2-9646934b86bb",
   "metadata": {},
   "source": [
    "## Applying the raking procedure to the mean of the observations\n",
    "\n",
    "We start by computing the constraint matrix and the margin vector."
   ]
  },
  {
   "cell_type": "code",
   "execution_count": 31,
   "id": "a45250c8-bad2-4d58-bee3-0d27d8085e54",
   "metadata": {},
   "outputs": [],
   "source": [
    "def constraints_2D(s1, s2, I, J):\n",
    "    A = np.zeros((J + I - 1, I * J))\n",
    "    for j in range(0, J):\n",
    "        for i in range(0, I - 1):\n",
    "            A[J + i, j * I + i] = 1\n",
    "            A[j, j * I + i] = 1\n",
    "        A[j, j * I + I - 1] = 1\n",
    "    s = np.concatenate([s1, s2[0:(I - 1)]])\n",
    "    return (A, s)"
   ]
  },
  {
   "cell_type": "code",
   "execution_count": 32,
   "id": "2353d5ef-1f83-4be5-bce5-8d521d85b5d9",
   "metadata": {},
   "outputs": [],
   "source": [
    "(A, s) = constraints_2D(s1, s2, 3, 5)"
   ]
  },
  {
   "cell_type": "markdown",
   "id": "d485e260-a865-4fc4-a3aa-993c69231aa0",
   "metadata": {},
   "source": [
    "We then compute the mean of the observations and rake the mean using the $\\chi^2$ distance."
   ]
  },
  {
   "cell_type": "code",
   "execution_count": 33,
   "id": "3b8807fc-ab1e-4a14-b06a-24448340e4f7",
   "metadata": {},
   "outputs": [],
   "source": [
    "# Compute the mean\n",
    "y_0 = np.mean(y, 0)"
   ]
  },
  {
   "cell_type": "code",
   "execution_count": 34,
   "id": "98022d31-ec68-4e0f-a3e1-c603912da793",
   "metadata": {},
   "outputs": [],
   "source": [
    "def raking_chi2_distance(y, q, A, s):\n",
    "    M = np.shape(A)[0]\n",
    "    N = np.shape(A)[1]\n",
    "    y_hat = np.matmul(A, y)\n",
    "    Phi = np.matmul(A, np.transpose(A * y * q))\n",
    "    lambda_k = cg(Phi, y_hat - s)[0]\n",
    "    beta = y * (1 - q * np.matmul(np.transpose(A), lambda_k))\n",
    "    return (beta, lambda_k)"
   ]
  },
  {
   "cell_type": "code",
   "execution_count": 35,
   "id": "bcdcb6bf-ddef-472f-9d42-41c72c85d2f2",
   "metadata": {},
   "outputs": [],
   "source": [
    "(beta_0, lambda_k) = raking_chi2_distance(y_0, np.ones(15), A, s)"
   ]
  },
  {
   "cell_type": "code",
   "execution_count": 36,
   "id": "9930847f-c8e4-4337-adb5-693644749e59",
   "metadata": {},
   "outputs": [
    {
     "data": {
      "text/plain": [
       "True"
      ]
     },
     "execution_count": 36,
     "metadata": {},
     "output_type": "execute_result"
    }
   ],
   "source": [
    "np.allclose(np.matmul(A, beta_0), s)"
   ]
  },
  {
   "cell_type": "code",
   "execution_count": 37,
   "id": "a5ad4fc9-c6cd-4852-a7c7-032e7d6e045e",
   "metadata": {},
   "outputs": [],
   "source": [
    "# Store results into dataframe\n",
    "df_raked = pd.DataFrame({'X1': x1, \\\n",
    "                         'X2': x2, \\\n",
    "                         'observations': y_0, \\\n",
    "                         'raked_values': beta_0})"
   ]
  },
  {
   "cell_type": "code",
   "execution_count": 38,
   "id": "3b8a588a-0c3a-4b0e-ae05-5aed2a1082e9",
   "metadata": {},
   "outputs": [],
   "source": [
    "import pickle\n",
    "with open('synthetics.pkl', 'rb') as output_file:\n",
    "    [mu_ij, df_raked2, df_x2, df_y2, covariance_mean2, mean_draws2, covariance_draws2] = pickle.load(output_file)"
   ]
  },
  {
   "cell_type": "markdown",
   "id": "60001bd2-0b08-4030-a071-600e1df280ee",
   "metadata": {},
   "source": [
    "## Propagate the uncertainties using Delta method and IFT\n",
    "\n",
    "We start by computing the gradient"
   ]
  },
  {
   "cell_type": "code",
   "execution_count": 41,
   "id": "b6a99251-35d6-4eca-aeb0-a571c62e126b",
   "metadata": {},
   "outputs": [],
   "source": [
    "def compute_gradient(beta_0, lambda_0, y, q, A):\n",
    "    M = np.shape(A)[0]\n",
    "    N = np.shape(A)[1]\n",
    "    # Hessian of the distance function\n",
    "    H1_beta = np.diag(1.0 / (q * y))\n",
    "    H1_y = np.diag(- beta_0 / (q * np.square(y)))\n",
    "    # Gradient with respect to beta and lambda\n",
    "    H1_lambda = np.transpose(np.copy(A))\n",
    "    H2_beta = np.copy(A)\n",
    "    H2_lambda = np.zeros((M, M))    \n",
    "    DH_beta_lambda = np.concatenate(( \\\n",
    "        np.concatenate((H1_beta, H1_lambda), axis=1), \\\n",
    "        np.concatenate((H2_beta, H2_lambda), axis=1)), axis=0)\n",
    "    # Gradient with respect to y and s\n",
    "    H1_s = np.zeros((N, M))\n",
    "    H2_y = np.zeros((M, N))\n",
    "    H2_s = - np.identity(M)    \n",
    "    DH_y_s = np.concatenate(( \\\n",
    "        np.concatenate((H1_y, H1_s), axis=1), \\\n",
    "        np.concatenate((H2_y, H2_s), axis=1)), axis=0)\n",
    "    # Solve the system\n",
    "    Dh = np.zeros_like(DH_y_s)\n",
    "    lu, piv = lu_factor(DH_beta_lambda)\n",
    "    for i in range(0, N + M):\n",
    "        Dh[:, i] = - lu_solve((lu, piv), DH_y_s[:, i])\n",
    "    # Get the gradient\n",
    "    dh_y = Dh[0:N, 0:N]\n",
    "    dh_s = Dh[0:N, N:(N + M)]\n",
    "    return (dh_y, dh_s)"
   ]
  },
  {
   "cell_type": "code",
   "execution_count": 42,
   "id": "2b31d9a6-755e-4071-8412-d6b4ee9bb502",
   "metadata": {},
   "outputs": [],
   "source": [
    "(dh_y, dh_s) = compute_gradient(beta_0, lambda_k, y_0, np.ones(15), A)"
   ]
  },
  {
   "cell_type": "markdown",
   "id": "f84d8984-37f7-4fed-87ca-6a96fb46c2f2",
   "metadata": {},
   "source": [
    "We store the gradient in output file."
   ]
  },
  {
   "cell_type": "code",
   "execution_count": 43,
   "id": "9af1b4a1-0cec-4518-8d09-9ae39cfd0049",
   "metadata": {},
   "outputs": [],
   "source": [
    "df_y = []\n",
    "df_s = []\n",
    "for i in range(0, 15):\n",
    "    df_y.append(pd.DataFrame({'raked_1': np.repeat(x1[i], 15), \\\n",
    "                              'raked_2': np.repeat(x2[i], 15), \\\n",
    "                              'X1': x1, \\\n",
    "                              'X2': x2, \\\n",
    "                              'grad_y': dh_y[i, :]}))\n",
    "    df_s.append(pd.DataFrame({'raked_1': np.repeat(x1[i], 7), \\\n",
    "                              'raked_2': np.repeat(x2[i], 7), \\\n",
    "                              'margins': margins, \\\n",
    "                              'grad_s': dh_s[i, :]}))\n",
    "df_y = pd.concat(df_y)\n",
    "df_s = pd.concat(df_s)"
   ]
  },
  {
   "cell_type": "markdown",
   "id": "92f2f1fc-973f-4307-a533-7405b6f37f42",
   "metadata": {},
   "source": [
    "Then we compute the covariance matrix of the raked values."
   ]
  },
  {
   "cell_type": "code",
   "execution_count": 44,
   "id": "a55a044b-398c-4528-affe-7c0072684b77",
   "metadata": {},
   "outputs": [],
   "source": [
    "# Compute the covariance\n",
    "covariance_mean = np.matmul(np.transpose(dh_y), np.matmul(cov, dh_y))"
   ]
  },
  {
   "cell_type": "code",
   "execution_count": 49,
   "id": "b807e335-c722-46cb-a6aa-bc0509bab874",
   "metadata": {},
   "outputs": [
    {
     "data": {
      "text/plain": [
       "array([0.01157897, 0.01339236, 0.01632029, 0.02201372, 0.02107803,\n",
       "       0.03355029, 0.03952437, 0.03604578, 0.03327727, 0.05052197,\n",
       "       0.04411918, 0.06414226, 0.05611481, 0.0581167 , 0.0627208 ])"
      ]
     },
     "execution_count": 49,
     "metadata": {},
     "output_type": "execute_result"
    }
   ],
   "source": [
    "np.diag(covariance_mean)"
   ]
  },
  {
   "cell_type": "code",
   "execution_count": 50,
   "id": "147524b7-25e1-4f34-a2f9-b9b8932ded5e",
   "metadata": {},
   "outputs": [
    {
     "data": {
      "text/plain": [
       "array([0.01171929, 0.0147086 , 0.01818525, 0.02149423, 0.02473584,\n",
       "       0.02744696, 0.03340745, 0.03691321, 0.03956549, 0.04680098,\n",
       "       0.05072616, 0.05454069, 0.05712064, 0.061512  , 0.06383758])"
      ]
     },
     "execution_count": 50,
     "metadata": {},
     "output_type": "execute_result"
    }
   ],
   "source": [
    "np.diag(covariance_mean2)"
   ]
  },
  {
   "cell_type": "markdown",
   "id": "388655ae-7803-4079-824a-560132ba7285",
   "metadata": {},
   "source": [
    "## Monte Carlo simulation"
   ]
  },
  {
   "cell_type": "code",
   "execution_count": 15,
   "id": "0f9c075e-d234-4e57-8ddc-90cc37083981",
   "metadata": {},
   "outputs": [],
   "source": [
    "# Rake each draw\n",
    "beta = np.zeros((1000, 15))\n",
    "for n in range(0, 1000):\n",
    "    y_n = y[n, :]\n",
    "    (beta_n, lambda_k) = raking_chi2_distance(y_n, np.ones(15), A, s)\n",
    "    beta[n, :] = beta_n"
   ]
  },
  {
   "cell_type": "code",
   "execution_count": 16,
   "id": "20c2ea44-bc7b-43d8-8091-4d6648b0f83b",
   "metadata": {},
   "outputs": [],
   "source": [
    "# Compute the mean\n",
    "mean_draws = np.mean(beta, 0)"
   ]
  },
  {
   "cell_type": "code",
   "execution_count": 17,
   "id": "8bbc4da2-300f-49c9-9455-ed8c4e211e22",
   "metadata": {},
   "outputs": [],
   "source": [
    "# Compute the covariance\n",
    "covariance_draws = np.matmul(np.transpose(beta - mean_draws), beta - mean_draws) / 999"
   ]
  },
  {
   "cell_type": "code",
   "execution_count": null,
   "id": "f72d0a9c-36f0-4935-b7fa-66fa25f17db3",
   "metadata": {},
   "outputs": [],
   "source": []
  },
  {
   "cell_type": "code",
   "execution_count": 18,
   "id": "49ff5b81-86e0-48fb-92f3-084178cd1c52",
   "metadata": {},
   "outputs": [],
   "source": [
    "initial = pd.DataFrame({'X1': x1, \\\n",
    "                         'X2': x2, \\\n",
    "                         'variance': np.arange(0.01, 0.16, 0.01)})\n",
    "variance = pd.DataFrame({'X1': x1, \\\n",
    "                         'X2': x2, \\\n",
    "                         'variance': np.diag(covariance_mean)})\n",
    "df_obs = df_raked.drop(columns=['raked_values']).rename(columns={'observations': 'Value'})\n",
    "df_obs['Type'] = 'Initial'\n",
    "df_obs['width'] = 1\n",
    "df_obs = df_obs.merge(initial, how='inner', \\\n",
    "    left_on=['X1', 'X2'], \\\n",
    "    right_on=['X1', 'X2'])\n",
    "df_raked = df_raked.drop(columns=['observations']).rename(columns={'raked_values': 'Value'})\n",
    "df_raked['Type'] = 'Raked'\n",
    "df_raked['width'] = 2\n",
    "df_raked = df_raked.merge(variance, how='inner', \\\n",
    "    left_on=['X1', 'X2'], \\\n",
    "    right_on=['X1', 'X2'])\n",
    "df_raked = pd.concat([df_obs, df_raked])\n",
    "df_raked['Upper'] = df_raked['Value'] + np.sqrt(df_raked['variance'])\n",
    "df_raked['Lower'] = df_raked['Value'] - np.sqrt(df_raked['variance'])"
   ]
  },
  {
   "cell_type": "code",
   "execution_count": 19,
   "id": "121b74cd-7709-44fd-aed6-08314cbc6518",
   "metadata": {},
   "outputs": [
    {
     "data": {
      "text/html": [
       "\n",
       "<style>\n",
       "  #altair-viz-0236cfffdacd44dfbb17151da7041cb5.vega-embed {\n",
       "    width: 100%;\n",
       "    display: flex;\n",
       "  }\n",
       "\n",
       "  #altair-viz-0236cfffdacd44dfbb17151da7041cb5.vega-embed details,\n",
       "  #altair-viz-0236cfffdacd44dfbb17151da7041cb5.vega-embed details summary {\n",
       "    position: relative;\n",
       "  }\n",
       "</style>\n",
       "<div id=\"altair-viz-0236cfffdacd44dfbb17151da7041cb5\"></div>\n",
       "<script type=\"text/javascript\">\n",
       "  var VEGA_DEBUG = (typeof VEGA_DEBUG == \"undefined\") ? {} : VEGA_DEBUG;\n",
       "  (function(spec, embedOpt){\n",
       "    let outputDiv = document.currentScript.previousElementSibling;\n",
       "    if (outputDiv.id !== \"altair-viz-0236cfffdacd44dfbb17151da7041cb5\") {\n",
       "      outputDiv = document.getElementById(\"altair-viz-0236cfffdacd44dfbb17151da7041cb5\");\n",
       "    }\n",
       "    const paths = {\n",
       "      \"vega\": \"https://cdn.jsdelivr.net/npm/vega@5?noext\",\n",
       "      \"vega-lib\": \"https://cdn.jsdelivr.net/npm/vega-lib?noext\",\n",
       "      \"vega-lite\": \"https://cdn.jsdelivr.net/npm/vega-lite@5.17.0?noext\",\n",
       "      \"vega-embed\": \"https://cdn.jsdelivr.net/npm/vega-embed@6?noext\",\n",
       "    };\n",
       "\n",
       "    function maybeLoadScript(lib, version) {\n",
       "      var key = `${lib.replace(\"-\", \"\")}_version`;\n",
       "      return (VEGA_DEBUG[key] == version) ?\n",
       "        Promise.resolve(paths[lib]) :\n",
       "        new Promise(function(resolve, reject) {\n",
       "          var s = document.createElement('script');\n",
       "          document.getElementsByTagName(\"head\")[0].appendChild(s);\n",
       "          s.async = true;\n",
       "          s.onload = () => {\n",
       "            VEGA_DEBUG[key] = version;\n",
       "            return resolve(paths[lib]);\n",
       "          };\n",
       "          s.onerror = () => reject(`Error loading script: ${paths[lib]}`);\n",
       "          s.src = paths[lib];\n",
       "        });\n",
       "    }\n",
       "\n",
       "    function showError(err) {\n",
       "      outputDiv.innerHTML = `<div class=\"error\" style=\"color:red;\">${err}</div>`;\n",
       "      throw err;\n",
       "    }\n",
       "\n",
       "    function displayChart(vegaEmbed) {\n",
       "      vegaEmbed(outputDiv, spec, embedOpt)\n",
       "        .catch(err => showError(`Javascript Error: ${err.message}<br>This usually means there's a typo in your chart specification. See the javascript console for the full traceback.`));\n",
       "    }\n",
       "\n",
       "    if(typeof define === \"function\" && define.amd) {\n",
       "      requirejs.config({paths});\n",
       "      require([\"vega-embed\"], displayChart, err => showError(`Error loading script: ${err.message}`));\n",
       "    } else {\n",
       "      maybeLoadScript(\"vega\", \"5\")\n",
       "        .then(() => maybeLoadScript(\"vega-lite\", \"5.17.0\"))\n",
       "        .then(() => maybeLoadScript(\"vega-embed\", \"6\"))\n",
       "        .catch(showError)\n",
       "        .then(() => displayChart(vegaEmbed));\n",
       "    }\n",
       "  })({\"config\": {\"view\": {\"continuousWidth\": 300, \"continuousHeight\": 300}, \"axis\": {\"labelFontSize\": 24, \"titleFontSize\": 24}, \"legend\": {\"labelFontSize\": 24, \"titleFontSize\": 24}}, \"data\": {\"name\": \"data-5fcaf430ffd13ea61ec31f5aa76e689d\"}, \"facet\": {\"column\": {\"field\": \"X2\", \"header\": {\"labelFontSize\": 24, \"title\": \"X2\", \"titleFontSize\": 24}, \"type\": \"nominal\"}}, \"spec\": {\"layer\": [{\"mark\": {\"type\": \"point\", \"filled\": true}, \"encoding\": {\"color\": {\"field\": \"Type\", \"type\": \"nominal\"}, \"shape\": {\"field\": \"Type\", \"type\": \"nominal\"}, \"x\": {\"field\": \"Value\", \"type\": \"quantitative\"}, \"y\": {\"field\": \"X1\", \"type\": \"nominal\"}}}, {\"mark\": {\"type\": \"errorbar\", \"clip\": true, \"opacity\": 0.5}, \"encoding\": {\"color\": {\"field\": \"Type\", \"legend\": null, \"type\": \"nominal\"}, \"strokeWidth\": {\"field\": \"width\", \"legend\": null, \"type\": \"quantitative\"}, \"x\": {\"axis\": {\"title\": \"Raked value\"}, \"field\": \"Upper\", \"scale\": {\"zero\": false}, \"type\": \"quantitative\"}, \"x2\": {\"field\": \"Lower\"}, \"y\": {\"axis\": {\"title\": \"X1\"}, \"field\": \"X1\", \"type\": \"nominal\"}}}], \"resolve\": {\"scale\": {\"color\": \"independent\", \"shape\": \"independent\"}}}, \"$schema\": \"https://vega.github.io/schema/vega-lite/v5.17.0.json\", \"datasets\": {\"data-5fcaf430ffd13ea61ec31f5aa76e689d\": [{\"X1\": 1, \"X2\": 1, \"Value\": 2.565585862630532, \"Type\": \"Initial\", \"width\": 1, \"variance\": 0.01, \"Upper\": 2.665585862630532, \"Lower\": 2.465585862630532}, {\"X1\": 2, \"X2\": 1, \"Value\": 2.8529232900989676, \"Type\": \"Initial\", \"width\": 1, \"variance\": 0.02, \"Upper\": 2.9943446463362773, \"Lower\": 2.711501933861658}, {\"X1\": 3, \"X2\": 1, \"Value\": 2.7817674080446126, \"Type\": \"Initial\", \"width\": 1, \"variance\": 0.03, \"Upper\": 2.9549724888015003, \"Lower\": 2.608562327287725}, {\"X1\": 1, \"X2\": 2, \"Value\": 2.3178487726120065, \"Type\": \"Initial\", \"width\": 1, \"variance\": 0.04, \"Upper\": 2.5178487726120067, \"Lower\": 2.1178487726120063}, {\"X1\": 2, \"X2\": 2, \"Value\": 2.7128112451987487, \"Type\": \"Initial\", \"width\": 1, \"variance\": 0.05, \"Upper\": 2.936418042948728, \"Lower\": 2.4892044474487696}, {\"X1\": 3, \"X2\": 2, \"Value\": 1.9929684554136224, \"Type\": \"Initial\", \"width\": 1, \"variance\": 0.06, \"Upper\": 2.23791742969194, \"Lower\": 1.7480194811353047}, {\"X1\": 1, \"X2\": 3, \"Value\": 2.1698030252675315, \"Type\": \"Initial\", \"width\": 1, \"variance\": 0.07, \"Upper\": 2.434378156373991, \"Lower\": 1.9052278941610725}, {\"X1\": 2, \"X2\": 3, \"Value\": 2.6561155287372986, \"Type\": \"Initial\", \"width\": 1, \"variance\": 0.08, \"Upper\": 2.9389582412119175, \"Lower\": 2.3732728162626797}, {\"X1\": 3, \"X2\": 3, \"Value\": 2.8995327379513793, \"Type\": \"Initial\", \"width\": 1, \"variance\": 0.09, \"Upper\": 3.199532737951379, \"Lower\": 2.5995327379513795}, {\"X1\": 1, \"X2\": 4, \"Value\": 2.1133589261332797, \"Type\": \"Initial\", \"width\": 1, \"variance\": 0.1, \"Upper\": 2.4295866921501177, \"Lower\": 1.7971311601164417}, {\"X1\": 2, \"X2\": 4, \"Value\": 2.5560727751936807, \"Type\": \"Initial\", \"width\": 1, \"variance\": 0.11, \"Upper\": 2.8877352542292205, \"Lower\": 2.224410296158141}, {\"X1\": 3, \"X2\": 4, \"Value\": 1.9503320304164806, \"Type\": \"Initial\", \"width\": 1, \"variance\": 0.12, \"Upper\": 2.296742191930256, \"Lower\": 1.603921868902705}, {\"X1\": 1, \"X2\": 5, \"Value\": 2.724334622648033, \"Type\": \"Initial\", \"width\": 1, \"variance\": 0.13, \"Upper\": 3.084889750194432, \"Lower\": 2.363779495101634}, {\"X1\": 2, \"X2\": 5, \"Value\": 2.8977630492444337, \"Type\": \"Initial\", \"width\": 1, \"variance\": 0.14, \"Upper\": 3.2719287879218277, \"Lower\": 2.5235973105670397}, {\"X1\": 3, \"X2\": 5, \"Value\": 2.7614871771488714, \"Type\": \"Initial\", \"width\": 1, \"variance\": 0.15, \"Upper\": 3.148785511769613, \"Lower\": 2.3741888425281297}, {\"X1\": 1, \"X2\": 1, \"Value\": 2.593006729837732, \"Type\": \"Raked\", \"width\": 2, \"variance\": 0.011578968199206596, \"Upper\": 2.70061234399985, \"Lower\": 2.485401115675614}, {\"X1\": 2, \"X2\": 1, \"Value\": 2.9231631881609137, \"Type\": \"Raked\", \"width\": 2, \"variance\": 0.013392362829807916, \"Upper\": 3.038888564936312, \"Lower\": 2.8074378113855154}, {\"X1\": 3, \"X2\": 1, \"Value\": 2.8494009007220633, \"Type\": \"Raked\", \"width\": 2, \"variance\": 0.01632029118083841, \"Upper\": 2.9771517957515634, \"Lower\": 2.721650005692563}, {\"X1\": 1, \"X2\": 2, \"Value\": 2.248739323992636, \"Type\": \"Raked\", \"width\": 2, \"variance\": 0.022013721157906216, \"Upper\": 2.3971095405386333, \"Lower\": 2.1003691074466384}, {\"X1\": 2, \"X2\": 2, \"Value\": 2.6697214039547554, \"Type\": \"Raked\", \"width\": 2, \"variance\": 0.02107803415655628, \"Upper\": 2.8149041651785187, \"Lower\": 2.524538642730992}, {\"X1\": 3, \"X2\": 2, \"Value\": 1.9607002617538072, \"Type\": \"Raked\", \"width\": 2, \"variance\": 0.033550292929619266, \"Upper\": 2.1438676522184292, \"Lower\": 1.7775328712891854}, {\"X1\": 1, \"X2\": 3, \"Value\": 2.1209074889190287, \"Type\": \"Raked\", \"width\": 2, \"variance\": 0.039524368661623135, \"Upper\": 2.3197148546317283, \"Lower\": 1.922100123206329}, {\"X1\": 2, \"X2\": 3, \"Value\": 2.6332671414218156, \"Type\": \"Raked\", \"width\": 2, \"variance\": 0.036045783935404675, \"Upper\": 2.8231244139593845, \"Lower\": 2.4434098688842467}, {\"X1\": 3, \"X2\": 3, \"Value\": 2.873699731166918, \"Type\": \"Raked\", \"width\": 2, \"variance\": 0.03327727233663584, \"Upper\": 3.0561203230326277, \"Lower\": 2.691279139301208}, {\"X1\": 1, \"X2\": 4, \"Value\": 2.085197474584927, \"Type\": \"Raked\", \"width\": 2, \"variance\": 0.050521966634211594, \"Upper\": 2.309968394933204, \"Lower\": 1.8604265542366496}, {\"X1\": 2, \"X2\": 4, \"Value\": 2.5576241140955642, \"Type\": \"Raked\", \"width\": 2, \"variance\": 0.0441191798530139, \"Upper\": 2.7676697754480757, \"Lower\": 2.3475784527430528}, {\"X1\": 3, \"X2\": 4, \"Value\": 1.9509166136189244, \"Type\": \"Raked\", \"width\": 2, \"variance\": 0.06414225585277324, \"Upper\": 2.2041798281858513, \"Lower\": 1.6976533990519975}, {\"X1\": 1, \"X2\": 5, \"Value\": 2.7296687824159958, \"Type\": \"Raked\", \"width\": 2, \"variance\": 0.05611480970554515, \"Upper\": 2.966554429312436, \"Lower\": 2.4927831355195553}, {\"X1\": 2, \"X2\": 5, \"Value\": 2.943809481649044, \"Type\": \"Raked\", \"width\": 2, \"variance\": 0.058116702772003696, \"Upper\": 3.18488354241047, \"Lower\": 2.702735420887618}, {\"X1\": 3, \"X2\": 5, \"Value\": 2.804519845352946, \"Type\": \"Raked\", \"width\": 2, \"variance\": 0.06272079837429867, \"Upper\": 3.0549610527735673, \"Lower\": 2.5540786379323244}]}}, {\"mode\": \"vega-lite\"});\n",
       "</script>"
      ],
      "text/plain": [
       "alt.FacetChart(...)"
      ]
     },
     "execution_count": 19,
     "metadata": {},
     "output_type": "execute_result"
    }
   ],
   "source": [
    "bar = alt.Chart(df_raked).mark_errorbar(clip=True, opacity=0.5).encode(\n",
    "    alt.X('Upper:Q', scale=alt.Scale(zero=False), axis=alt.Axis(title='Raked value')),\n",
    "    alt.X2('Lower:Q'),\n",
    "    alt.Y('X1:N', axis=alt.Axis(title='X1')),\n",
    "    color=alt.Color('Type:N', legend=None),\n",
    "    strokeWidth=alt.StrokeWidth('width:Q', legend=None)\n",
    ")\n",
    "point = alt.Chart(df_raked).mark_point(\n",
    "    filled=True\n",
    ").encode(\n",
    "    alt.X('Value:Q'),\n",
    "    alt.Y('X1:N'),\n",
    "    color=alt.Color('Type:N'),\n",
    "    shape=alt.Shape('Type:N')\n",
    ")\n",
    "chart = alt.layer(point, bar).resolve_scale(\n",
    "    shape='independent',\n",
    "    color='independent'\n",
    ").facet(\n",
    "    column=alt.Column('X2:N', header=alt.Header(title='X2', titleFontSize=24, labelFontSize=24)),\n",
    ").configure_axis(\n",
    "    labelFontSize=24,\n",
    "    titleFontSize=24\n",
    ").configure_legend(\n",
    "    labelFontSize=24,\n",
    "    titleFontSize=24\n",
    ")\n",
    "chart"
   ]
  },
  {
   "cell_type": "code",
   "execution_count": 20,
   "id": "f48d13da-24a3-41c7-ae7a-9ff5e4634944",
   "metadata": {},
   "outputs": [
    {
     "data": {
      "text/html": [
       "\n",
       "<style>\n",
       "  #altair-viz-30218d5c90c543948c5eae7ec0d77847.vega-embed {\n",
       "    width: 100%;\n",
       "    display: flex;\n",
       "  }\n",
       "\n",
       "  #altair-viz-30218d5c90c543948c5eae7ec0d77847.vega-embed details,\n",
       "  #altair-viz-30218d5c90c543948c5eae7ec0d77847.vega-embed details summary {\n",
       "    position: relative;\n",
       "  }\n",
       "</style>\n",
       "<div id=\"altair-viz-30218d5c90c543948c5eae7ec0d77847\"></div>\n",
       "<script type=\"text/javascript\">\n",
       "  var VEGA_DEBUG = (typeof VEGA_DEBUG == \"undefined\") ? {} : VEGA_DEBUG;\n",
       "  (function(spec, embedOpt){\n",
       "    let outputDiv = document.currentScript.previousElementSibling;\n",
       "    if (outputDiv.id !== \"altair-viz-30218d5c90c543948c5eae7ec0d77847\") {\n",
       "      outputDiv = document.getElementById(\"altair-viz-30218d5c90c543948c5eae7ec0d77847\");\n",
       "    }\n",
       "    const paths = {\n",
       "      \"vega\": \"https://cdn.jsdelivr.net/npm/vega@5?noext\",\n",
       "      \"vega-lib\": \"https://cdn.jsdelivr.net/npm/vega-lib?noext\",\n",
       "      \"vega-lite\": \"https://cdn.jsdelivr.net/npm/vega-lite@5.17.0?noext\",\n",
       "      \"vega-embed\": \"https://cdn.jsdelivr.net/npm/vega-embed@6?noext\",\n",
       "    };\n",
       "\n",
       "    function maybeLoadScript(lib, version) {\n",
       "      var key = `${lib.replace(\"-\", \"\")}_version`;\n",
       "      return (VEGA_DEBUG[key] == version) ?\n",
       "        Promise.resolve(paths[lib]) :\n",
       "        new Promise(function(resolve, reject) {\n",
       "          var s = document.createElement('script');\n",
       "          document.getElementsByTagName(\"head\")[0].appendChild(s);\n",
       "          s.async = true;\n",
       "          s.onload = () => {\n",
       "            VEGA_DEBUG[key] = version;\n",
       "            return resolve(paths[lib]);\n",
       "          };\n",
       "          s.onerror = () => reject(`Error loading script: ${paths[lib]}`);\n",
       "          s.src = paths[lib];\n",
       "        });\n",
       "    }\n",
       "\n",
       "    function showError(err) {\n",
       "      outputDiv.innerHTML = `<div class=\"error\" style=\"color:red;\">${err}</div>`;\n",
       "      throw err;\n",
       "    }\n",
       "\n",
       "    function displayChart(vegaEmbed) {\n",
       "      vegaEmbed(outputDiv, spec, embedOpt)\n",
       "        .catch(err => showError(`Javascript Error: ${err.message}<br>This usually means there's a typo in your chart specification. See the javascript console for the full traceback.`));\n",
       "    }\n",
       "\n",
       "    if(typeof define === \"function\" && define.amd) {\n",
       "      requirejs.config({paths});\n",
       "      require([\"vega-embed\"], displayChart, err => showError(`Error loading script: ${err.message}`));\n",
       "    } else {\n",
       "      maybeLoadScript(\"vega\", \"5\")\n",
       "        .then(() => maybeLoadScript(\"vega-lite\", \"5.17.0\"))\n",
       "        .then(() => maybeLoadScript(\"vega-embed\", \"6\"))\n",
       "        .catch(showError)\n",
       "        .then(() => displayChart(vegaEmbed));\n",
       "    }\n",
       "  })({\"config\": {\"view\": {\"continuousWidth\": 300, \"continuousHeight\": 300}, \"axis\": {\"labelFontSize\": 24, \"titleFontSize\": 24}, \"legend\": {\"labelFontSize\": 24, \"titleFontSize\": 24}}, \"data\": {\"name\": \"data-5fcaf430ffd13ea61ec31f5aa76e689d\"}, \"facet\": {\"column\": {\"field\": \"X1\", \"header\": {\"labelFontSize\": 24, \"title\": \"X1\", \"titleFontSize\": 24}, \"type\": \"nominal\"}}, \"spec\": {\"layer\": [{\"mark\": {\"type\": \"point\", \"filled\": true}, \"encoding\": {\"color\": {\"field\": \"Type\", \"type\": \"nominal\"}, \"shape\": {\"field\": \"Type\", \"type\": \"nominal\"}, \"x\": {\"field\": \"Value\", \"type\": \"quantitative\"}, \"y\": {\"field\": \"X2\", \"type\": \"nominal\"}}}, {\"mark\": {\"type\": \"errorbar\", \"clip\": true, \"opacity\": 0.5}, \"encoding\": {\"color\": {\"field\": \"Type\", \"legend\": null, \"type\": \"nominal\"}, \"strokeWidth\": {\"field\": \"width\", \"legend\": null, \"type\": \"quantitative\"}, \"x\": {\"axis\": {\"title\": \"Raked value\"}, \"field\": \"Upper\", \"scale\": {\"zero\": false}, \"type\": \"quantitative\"}, \"x2\": {\"field\": \"Lower\"}, \"y\": {\"axis\": {\"title\": \"X2\"}, \"field\": \"X2\", \"type\": \"nominal\"}}}], \"resolve\": {\"scale\": {\"color\": \"independent\", \"shape\": \"independent\"}}}, \"$schema\": \"https://vega.github.io/schema/vega-lite/v5.17.0.json\", \"datasets\": {\"data-5fcaf430ffd13ea61ec31f5aa76e689d\": [{\"X1\": 1, \"X2\": 1, \"Value\": 2.565585862630532, \"Type\": \"Initial\", \"width\": 1, \"variance\": 0.01, \"Upper\": 2.665585862630532, \"Lower\": 2.465585862630532}, {\"X1\": 2, \"X2\": 1, \"Value\": 2.8529232900989676, \"Type\": \"Initial\", \"width\": 1, \"variance\": 0.02, \"Upper\": 2.9943446463362773, \"Lower\": 2.711501933861658}, {\"X1\": 3, \"X2\": 1, \"Value\": 2.7817674080446126, \"Type\": \"Initial\", \"width\": 1, \"variance\": 0.03, \"Upper\": 2.9549724888015003, \"Lower\": 2.608562327287725}, {\"X1\": 1, \"X2\": 2, \"Value\": 2.3178487726120065, \"Type\": \"Initial\", \"width\": 1, \"variance\": 0.04, \"Upper\": 2.5178487726120067, \"Lower\": 2.1178487726120063}, {\"X1\": 2, \"X2\": 2, \"Value\": 2.7128112451987487, \"Type\": \"Initial\", \"width\": 1, \"variance\": 0.05, \"Upper\": 2.936418042948728, \"Lower\": 2.4892044474487696}, {\"X1\": 3, \"X2\": 2, \"Value\": 1.9929684554136224, \"Type\": \"Initial\", \"width\": 1, \"variance\": 0.06, \"Upper\": 2.23791742969194, \"Lower\": 1.7480194811353047}, {\"X1\": 1, \"X2\": 3, \"Value\": 2.1698030252675315, \"Type\": \"Initial\", \"width\": 1, \"variance\": 0.07, \"Upper\": 2.434378156373991, \"Lower\": 1.9052278941610725}, {\"X1\": 2, \"X2\": 3, \"Value\": 2.6561155287372986, \"Type\": \"Initial\", \"width\": 1, \"variance\": 0.08, \"Upper\": 2.9389582412119175, \"Lower\": 2.3732728162626797}, {\"X1\": 3, \"X2\": 3, \"Value\": 2.8995327379513793, \"Type\": \"Initial\", \"width\": 1, \"variance\": 0.09, \"Upper\": 3.199532737951379, \"Lower\": 2.5995327379513795}, {\"X1\": 1, \"X2\": 4, \"Value\": 2.1133589261332797, \"Type\": \"Initial\", \"width\": 1, \"variance\": 0.1, \"Upper\": 2.4295866921501177, \"Lower\": 1.7971311601164417}, {\"X1\": 2, \"X2\": 4, \"Value\": 2.5560727751936807, \"Type\": \"Initial\", \"width\": 1, \"variance\": 0.11, \"Upper\": 2.8877352542292205, \"Lower\": 2.224410296158141}, {\"X1\": 3, \"X2\": 4, \"Value\": 1.9503320304164806, \"Type\": \"Initial\", \"width\": 1, \"variance\": 0.12, \"Upper\": 2.296742191930256, \"Lower\": 1.603921868902705}, {\"X1\": 1, \"X2\": 5, \"Value\": 2.724334622648033, \"Type\": \"Initial\", \"width\": 1, \"variance\": 0.13, \"Upper\": 3.084889750194432, \"Lower\": 2.363779495101634}, {\"X1\": 2, \"X2\": 5, \"Value\": 2.8977630492444337, \"Type\": \"Initial\", \"width\": 1, \"variance\": 0.14, \"Upper\": 3.2719287879218277, \"Lower\": 2.5235973105670397}, {\"X1\": 3, \"X2\": 5, \"Value\": 2.7614871771488714, \"Type\": \"Initial\", \"width\": 1, \"variance\": 0.15, \"Upper\": 3.148785511769613, \"Lower\": 2.3741888425281297}, {\"X1\": 1, \"X2\": 1, \"Value\": 2.593006729837732, \"Type\": \"Raked\", \"width\": 2, \"variance\": 0.011578968199206596, \"Upper\": 2.70061234399985, \"Lower\": 2.485401115675614}, {\"X1\": 2, \"X2\": 1, \"Value\": 2.9231631881609137, \"Type\": \"Raked\", \"width\": 2, \"variance\": 0.013392362829807916, \"Upper\": 3.038888564936312, \"Lower\": 2.8074378113855154}, {\"X1\": 3, \"X2\": 1, \"Value\": 2.8494009007220633, \"Type\": \"Raked\", \"width\": 2, \"variance\": 0.01632029118083841, \"Upper\": 2.9771517957515634, \"Lower\": 2.721650005692563}, {\"X1\": 1, \"X2\": 2, \"Value\": 2.248739323992636, \"Type\": \"Raked\", \"width\": 2, \"variance\": 0.022013721157906216, \"Upper\": 2.3971095405386333, \"Lower\": 2.1003691074466384}, {\"X1\": 2, \"X2\": 2, \"Value\": 2.6697214039547554, \"Type\": \"Raked\", \"width\": 2, \"variance\": 0.02107803415655628, \"Upper\": 2.8149041651785187, \"Lower\": 2.524538642730992}, {\"X1\": 3, \"X2\": 2, \"Value\": 1.9607002617538072, \"Type\": \"Raked\", \"width\": 2, \"variance\": 0.033550292929619266, \"Upper\": 2.1438676522184292, \"Lower\": 1.7775328712891854}, {\"X1\": 1, \"X2\": 3, \"Value\": 2.1209074889190287, \"Type\": \"Raked\", \"width\": 2, \"variance\": 0.039524368661623135, \"Upper\": 2.3197148546317283, \"Lower\": 1.922100123206329}, {\"X1\": 2, \"X2\": 3, \"Value\": 2.6332671414218156, \"Type\": \"Raked\", \"width\": 2, \"variance\": 0.036045783935404675, \"Upper\": 2.8231244139593845, \"Lower\": 2.4434098688842467}, {\"X1\": 3, \"X2\": 3, \"Value\": 2.873699731166918, \"Type\": \"Raked\", \"width\": 2, \"variance\": 0.03327727233663584, \"Upper\": 3.0561203230326277, \"Lower\": 2.691279139301208}, {\"X1\": 1, \"X2\": 4, \"Value\": 2.085197474584927, \"Type\": \"Raked\", \"width\": 2, \"variance\": 0.050521966634211594, \"Upper\": 2.309968394933204, \"Lower\": 1.8604265542366496}, {\"X1\": 2, \"X2\": 4, \"Value\": 2.5576241140955642, \"Type\": \"Raked\", \"width\": 2, \"variance\": 0.0441191798530139, \"Upper\": 2.7676697754480757, \"Lower\": 2.3475784527430528}, {\"X1\": 3, \"X2\": 4, \"Value\": 1.9509166136189244, \"Type\": \"Raked\", \"width\": 2, \"variance\": 0.06414225585277324, \"Upper\": 2.2041798281858513, \"Lower\": 1.6976533990519975}, {\"X1\": 1, \"X2\": 5, \"Value\": 2.7296687824159958, \"Type\": \"Raked\", \"width\": 2, \"variance\": 0.05611480970554515, \"Upper\": 2.966554429312436, \"Lower\": 2.4927831355195553}, {\"X1\": 2, \"X2\": 5, \"Value\": 2.943809481649044, \"Type\": \"Raked\", \"width\": 2, \"variance\": 0.058116702772003696, \"Upper\": 3.18488354241047, \"Lower\": 2.702735420887618}, {\"X1\": 3, \"X2\": 5, \"Value\": 2.804519845352946, \"Type\": \"Raked\", \"width\": 2, \"variance\": 0.06272079837429867, \"Upper\": 3.0549610527735673, \"Lower\": 2.5540786379323244}]}}, {\"mode\": \"vega-lite\"});\n",
       "</script>"
      ],
      "text/plain": [
       "alt.FacetChart(...)"
      ]
     },
     "execution_count": 20,
     "metadata": {},
     "output_type": "execute_result"
    }
   ],
   "source": [
    "bar = alt.Chart(df_raked).mark_errorbar(clip=True, opacity=0.5).encode(\n",
    "    alt.X('Upper:Q', scale=alt.Scale(zero=False), axis=alt.Axis(title='Raked value')),\n",
    "    alt.X2('Lower:Q'),\n",
    "    alt.Y('X2:N', axis=alt.Axis(title='X2')),\n",
    "    color=alt.Color('Type:N', legend=None),\n",
    "    strokeWidth=alt.StrokeWidth('width:Q', legend=None)\n",
    ")\n",
    "point = alt.Chart(df_raked).mark_point(\n",
    "    filled=True\n",
    ").encode(\n",
    "    alt.X('Value:Q'),\n",
    "    alt.Y('X2:N'),\n",
    "    color=alt.Color('Type:N'),\n",
    "    shape=alt.Shape('Type:N')\n",
    ")\n",
    "chart = alt.layer(point, bar).resolve_scale(\n",
    "    shape='independent',\n",
    "    color='independent'\n",
    ").facet(\n",
    "    column=alt.Column('X1:N', header=alt.Header(title='X1', titleFontSize=24, labelFontSize=24)),\n",
    ").configure_axis(\n",
    "    labelFontSize=24,\n",
    "    titleFontSize=24\n",
    ").configure_legend(\n",
    "    labelFontSize=24,\n",
    "    titleFontSize=24\n",
    ")\n",
    "chart"
   ]
  },
  {
   "cell_type": "code",
   "execution_count": 21,
   "id": "43c9632f-ad59-4793-9837-063822d1288c",
   "metadata": {},
   "outputs": [
    {
     "data": {
      "text/html": [
       "\n",
       "<style>\n",
       "  #altair-viz-5195996dd7ca44d0ba3dd7ed8716f3c2.vega-embed {\n",
       "    width: 100%;\n",
       "    display: flex;\n",
       "  }\n",
       "\n",
       "  #altair-viz-5195996dd7ca44d0ba3dd7ed8716f3c2.vega-embed details,\n",
       "  #altair-viz-5195996dd7ca44d0ba3dd7ed8716f3c2.vega-embed details summary {\n",
       "    position: relative;\n",
       "  }\n",
       "</style>\n",
       "<div id=\"altair-viz-5195996dd7ca44d0ba3dd7ed8716f3c2\"></div>\n",
       "<script type=\"text/javascript\">\n",
       "  var VEGA_DEBUG = (typeof VEGA_DEBUG == \"undefined\") ? {} : VEGA_DEBUG;\n",
       "  (function(spec, embedOpt){\n",
       "    let outputDiv = document.currentScript.previousElementSibling;\n",
       "    if (outputDiv.id !== \"altair-viz-5195996dd7ca44d0ba3dd7ed8716f3c2\") {\n",
       "      outputDiv = document.getElementById(\"altair-viz-5195996dd7ca44d0ba3dd7ed8716f3c2\");\n",
       "    }\n",
       "    const paths = {\n",
       "      \"vega\": \"https://cdn.jsdelivr.net/npm/vega@5?noext\",\n",
       "      \"vega-lib\": \"https://cdn.jsdelivr.net/npm/vega-lib?noext\",\n",
       "      \"vega-lite\": \"https://cdn.jsdelivr.net/npm/vega-lite@5.17.0?noext\",\n",
       "      \"vega-embed\": \"https://cdn.jsdelivr.net/npm/vega-embed@6?noext\",\n",
       "    };\n",
       "\n",
       "    function maybeLoadScript(lib, version) {\n",
       "      var key = `${lib.replace(\"-\", \"\")}_version`;\n",
       "      return (VEGA_DEBUG[key] == version) ?\n",
       "        Promise.resolve(paths[lib]) :\n",
       "        new Promise(function(resolve, reject) {\n",
       "          var s = document.createElement('script');\n",
       "          document.getElementsByTagName(\"head\")[0].appendChild(s);\n",
       "          s.async = true;\n",
       "          s.onload = () => {\n",
       "            VEGA_DEBUG[key] = version;\n",
       "            return resolve(paths[lib]);\n",
       "          };\n",
       "          s.onerror = () => reject(`Error loading script: ${paths[lib]}`);\n",
       "          s.src = paths[lib];\n",
       "        });\n",
       "    }\n",
       "\n",
       "    function showError(err) {\n",
       "      outputDiv.innerHTML = `<div class=\"error\" style=\"color:red;\">${err}</div>`;\n",
       "      throw err;\n",
       "    }\n",
       "\n",
       "    function displayChart(vegaEmbed) {\n",
       "      vegaEmbed(outputDiv, spec, embedOpt)\n",
       "        .catch(err => showError(`Javascript Error: ${err.message}<br>This usually means there's a typo in your chart specification. See the javascript console for the full traceback.`));\n",
       "    }\n",
       "\n",
       "    if(typeof define === \"function\" && define.amd) {\n",
       "      requirejs.config({paths});\n",
       "      require([\"vega-embed\"], displayChart, err => showError(`Error loading script: ${err.message}`));\n",
       "    } else {\n",
       "      maybeLoadScript(\"vega\", \"5\")\n",
       "        .then(() => maybeLoadScript(\"vega-lite\", \"5.17.0\"))\n",
       "        .then(() => maybeLoadScript(\"vega-embed\", \"6\"))\n",
       "        .catch(showError)\n",
       "        .then(() => displayChart(vegaEmbed));\n",
       "    }\n",
       "  })({\"config\": {\"view\": {\"continuousWidth\": 300, \"continuousHeight\": 300}, \"axis\": {\"labelFontSize\": 12, \"titleFontSize\": 12}, \"legend\": {\"labelFontSize\": 10, \"titleFontSize\": 10}, \"title\": {\"fontSize\": 12}}, \"layer\": [{\"mark\": {\"type\": \"rect\"}, \"encoding\": {\"color\": {\"field\": \"grad_y\", \"legend\": {\"title\": [\"Effect of\", \"one obs.\"]}, \"scale\": {\"domain\": [-0.5886765539632665, 0.5886765539632665], \"scheme\": \"redblue\"}, \"type\": \"quantitative\"}, \"x\": {\"axis\": {\"title\": \"X1\"}, \"field\": \"raked_1\", \"type\": \"nominal\"}, \"y\": {\"axis\": {\"title\": \"X2\"}, \"field\": \"raked_2\", \"type\": \"nominal\"}}}, {\"mark\": {\"type\": \"text\", \"baseline\": \"middle\"}, \"encoding\": {\"text\": {\"field\": \"grad_y\", \"format\": \".2f\", \"type\": \"quantitative\"}, \"x\": {\"axis\": {\"title\": \"X1\"}, \"field\": \"raked_1\", \"type\": \"nominal\"}, \"y\": {\"axis\": {\"title\": \"X2\"}, \"field\": \"raked_2\", \"type\": \"nominal\"}}}], \"data\": {\"name\": \"data-04d6e4b8e77694a1ff30f3309f9c3dac\"}, \"height\": 180, \"title\": \"X1 = 3 - X2 = 4\", \"width\": 120, \"$schema\": \"https://vega.github.io/schema/vega-lite/v5.17.0.json\", \"datasets\": {\"data-04d6e4b8e77694a1ff30f3309f9c3dac\": [{\"raked_1\": 1, \"raked_2\": 1, \"X1\": 3, \"X2\": 4, \"grad_y\": 0.07206176192820052}, {\"raked_1\": 2, \"raked_2\": 1, \"X1\": 3, \"X2\": 4, \"grad_y\": 0.08409252170761347}, {\"raked_1\": 3, \"raked_2\": 1, \"X1\": 3, \"X2\": 4, \"grad_y\": -0.156154283635814}, {\"raked_1\": 1, \"raked_2\": 2, \"X1\": 3, \"X2\": 4, \"grad_y\": 0.054150144489236884}, {\"raked_1\": 2, \"raked_2\": 2, \"X1\": 3, \"X2\": 4, \"grad_y\": 0.06714293983229078}, {\"raked_1\": 3, \"raked_2\": 2, \"X1\": 3, \"X2\": 4, \"grad_y\": -0.12129308432152766}, {\"raked_1\": 1, \"raked_2\": 3, \"X1\": 3, \"X2\": 4, \"grad_y\": 0.06755339743632865}, {\"raked_1\": 2, \"raked_2\": 3, \"X1\": 3, \"X2\": 4, \"grad_y\": 0.0863808592297646}, {\"raked_1\": 3, \"raked_2\": 3, \"X1\": 3, \"X2\": 4, \"grad_y\": -0.15393425666609326}, {\"raked_1\": 1, \"raked_2\": 4, \"X1\": 3, \"X2\": 4, \"grad_y\": -0.2680375628247428}, {\"raked_1\": 2, \"raked_2\": 4, \"X1\": 3, \"X2\": 4, \"grad_y\": -0.3206389911385237}, {\"raked_1\": 3, \"raked_2\": 4, \"X1\": 3, \"X2\": 4, \"grad_y\": 0.5886765539632665}, {\"raked_1\": 1, \"raked_2\": 5, \"X1\": 3, \"X2\": 4, \"grad_y\": 0.07427225897097671}, {\"raked_1\": 2, \"raked_2\": 5, \"X1\": 3, \"X2\": 4, \"grad_y\": 0.08302267036885481}, {\"raked_1\": 3, \"raked_2\": 5, \"X1\": 3, \"X2\": 4, \"grad_y\": -0.15729492933983152}]}}, {\"mode\": \"vega-lite\"});\n",
       "</script>"
      ],
      "text/plain": [
       "alt.LayerChart(...)"
      ]
     },
     "execution_count": 21,
     "metadata": {},
     "output_type": "execute_result"
    }
   ],
   "source": [
    "index = np.argmax(np.abs(df_y.grad_y))\n",
    "index_var1 = df_y.iloc[index].X1\n",
    "index_var2 = df_y.iloc[index].X2\n",
    "df_y_loc = df_y.loc[(df_y.X1==index_var1)&(df_y.X2==index_var2)]\n",
    "max_scale = max(abs(df_y_loc['grad_y'].min()), abs(df_y_loc['grad_y'].max()))\n",
    "\n",
    "base = alt.Chart(df_y_loc).encode(\n",
    "    x=alt.X('raked_1:N', axis=alt.Axis(title='X1')),\n",
    "    y=alt.Y('raked_2:N', axis=alt.Axis(title='X2')),\n",
    ")\n",
    "\n",
    "heatmap = base.mark_rect().encode(\n",
    "    color=alt.Color('grad_y:Q',\n",
    "        scale=alt.Scale(scheme='redblue', domain=[-max_scale, max_scale]),\n",
    "        legend=alt.Legend(title=['Effect of', 'one obs.']))\n",
    ")\n",
    "\n",
    "text = base.mark_text(baseline='middle').encode(\n",
    "    alt.Text('grad_y:Q', format='.2f')\n",
    ")\n",
    "\n",
    "chart = alt.layer(heatmap, text\n",
    ").properties(\n",
    "    title='X1 = ' + str(int(index_var1)) + ' - X2 = ' + str(int(index_var2)),\n",
    "    width=120,\n",
    "    height=180\n",
    ").configure_title(\n",
    "    fontSize=12\n",
    ").configure_axis(\n",
    "    labelFontSize=12,\n",
    "    titleFontSize=12\n",
    ").configure_legend(\n",
    "    labelFontSize=10,\n",
    "    titleFontSize=10\n",
    ")\n",
    "chart"
   ]
  },
  {
   "cell_type": "code",
   "execution_count": 22,
   "id": "215ef5ee-1716-4ceb-b329-af0bbe58ba07",
   "metadata": {},
   "outputs": [
    {
     "data": {
      "text/html": [
       "\n",
       "<style>\n",
       "  #altair-viz-901ea0f4884642f3b24a5c4c7c88cacd.vega-embed {\n",
       "    width: 100%;\n",
       "    display: flex;\n",
       "  }\n",
       "\n",
       "  #altair-viz-901ea0f4884642f3b24a5c4c7c88cacd.vega-embed details,\n",
       "  #altair-viz-901ea0f4884642f3b24a5c4c7c88cacd.vega-embed details summary {\n",
       "    position: relative;\n",
       "  }\n",
       "</style>\n",
       "<div id=\"altair-viz-901ea0f4884642f3b24a5c4c7c88cacd\"></div>\n",
       "<script type=\"text/javascript\">\n",
       "  var VEGA_DEBUG = (typeof VEGA_DEBUG == \"undefined\") ? {} : VEGA_DEBUG;\n",
       "  (function(spec, embedOpt){\n",
       "    let outputDiv = document.currentScript.previousElementSibling;\n",
       "    if (outputDiv.id !== \"altair-viz-901ea0f4884642f3b24a5c4c7c88cacd\") {\n",
       "      outputDiv = document.getElementById(\"altair-viz-901ea0f4884642f3b24a5c4c7c88cacd\");\n",
       "    }\n",
       "    const paths = {\n",
       "      \"vega\": \"https://cdn.jsdelivr.net/npm/vega@5?noext\",\n",
       "      \"vega-lib\": \"https://cdn.jsdelivr.net/npm/vega-lib?noext\",\n",
       "      \"vega-lite\": \"https://cdn.jsdelivr.net/npm/vega-lite@5.17.0?noext\",\n",
       "      \"vega-embed\": \"https://cdn.jsdelivr.net/npm/vega-embed@6?noext\",\n",
       "    };\n",
       "\n",
       "    function maybeLoadScript(lib, version) {\n",
       "      var key = `${lib.replace(\"-\", \"\")}_version`;\n",
       "      return (VEGA_DEBUG[key] == version) ?\n",
       "        Promise.resolve(paths[lib]) :\n",
       "        new Promise(function(resolve, reject) {\n",
       "          var s = document.createElement('script');\n",
       "          document.getElementsByTagName(\"head\")[0].appendChild(s);\n",
       "          s.async = true;\n",
       "          s.onload = () => {\n",
       "            VEGA_DEBUG[key] = version;\n",
       "            return resolve(paths[lib]);\n",
       "          };\n",
       "          s.onerror = () => reject(`Error loading script: ${paths[lib]}`);\n",
       "          s.src = paths[lib];\n",
       "        });\n",
       "    }\n",
       "\n",
       "    function showError(err) {\n",
       "      outputDiv.innerHTML = `<div class=\"error\" style=\"color:red;\">${err}</div>`;\n",
       "      throw err;\n",
       "    }\n",
       "\n",
       "    function displayChart(vegaEmbed) {\n",
       "      vegaEmbed(outputDiv, spec, embedOpt)\n",
       "        .catch(err => showError(`Javascript Error: ${err.message}<br>This usually means there's a typo in your chart specification. See the javascript console for the full traceback.`));\n",
       "    }\n",
       "\n",
       "    if(typeof define === \"function\" && define.amd) {\n",
       "      requirejs.config({paths});\n",
       "      require([\"vega-embed\"], displayChart, err => showError(`Error loading script: ${err.message}`));\n",
       "    } else {\n",
       "      maybeLoadScript(\"vega\", \"5\")\n",
       "        .then(() => maybeLoadScript(\"vega-lite\", \"5.17.0\"))\n",
       "        .then(() => maybeLoadScript(\"vega-embed\", \"6\"))\n",
       "        .catch(showError)\n",
       "        .then(() => displayChart(vegaEmbed));\n",
       "    }\n",
       "  })({\"config\": {\"view\": {\"continuousWidth\": 300, \"continuousHeight\": 300}, \"axis\": {\"labelFontSize\": 12, \"titleFontSize\": 12}, \"legend\": {\"labelFontSize\": 10, \"titleFontSize\": 10}, \"title\": {\"fontSize\": 12}}, \"layer\": [{\"mark\": {\"type\": \"rect\"}, \"encoding\": {\"color\": {\"field\": \"grad_y\", \"legend\": {\"title\": [\"Effect of\", \"all obs.\"]}, \"scale\": {\"domain\": [-0.5886765539632665, 0.5886765539632665], \"scheme\": \"redblue\"}, \"type\": \"quantitative\"}, \"x\": {\"axis\": {\"title\": \"X1\"}, \"field\": \"X1\", \"type\": \"nominal\"}, \"y\": {\"axis\": {\"title\": \"X2\"}, \"field\": \"X2\", \"type\": \"nominal\"}}}, {\"mark\": {\"type\": \"text\", \"baseline\": \"middle\"}, \"encoding\": {\"text\": {\"field\": \"grad_y\", \"format\": \".2f\", \"type\": \"quantitative\"}, \"x\": {\"axis\": {\"title\": \"X1\"}, \"field\": \"X1\", \"type\": \"nominal\"}, \"y\": {\"axis\": {\"title\": \"X2\"}, \"field\": \"X2\", \"type\": \"nominal\"}}}], \"data\": {\"name\": \"data-bc9eb569f9610876849046db7bbca4bf\"}, \"height\": 180, \"title\": \"X1 = 3 - X2 = 4\", \"width\": 120, \"$schema\": \"https://vega.github.io/schema/vega-lite/v5.17.0.json\", \"datasets\": {\"data-bc9eb569f9610876849046db7bbca4bf\": [{\"raked_1\": 3, \"raked_2\": 4, \"X1\": 1, \"X2\": 1, \"grad_y\": 0.05534951405040663}, {\"raked_1\": 3, \"raked_2\": 4, \"X1\": 2, \"X2\": 1, \"grad_y\": 0.058885538023711194}, {\"raked_1\": 3, \"raked_2\": 4, \"X1\": 3, \"X2\": 1, \"grad_y\": -0.11210996835552572}, {\"raked_1\": 3, \"raked_2\": 4, \"X1\": 1, \"X2\": 2, \"grad_y\": 0.04419233402188321}, {\"raked_1\": 3, \"raked_2\": 4, \"X1\": 2, \"X2\": 2, \"grad_y\": 0.04749036872216784}, {\"raked_1\": 3, \"raked_2\": 4, \"X1\": 3, \"X2\": 2, \"grad_y\": -0.11674137290839862}, {\"raked_1\": 3, \"raked_2\": 4, \"X1\": 1, \"X2\": 3, \"grad_y\": 0.05933441979607916}, {\"raked_1\": 3, \"raked_2\": 4, \"X1\": 2, \"X2\": 3, \"grad_y\": 0.06286326260903556}, {\"raked_1\": 3, \"raked_2\": 4, \"X1\": 3, \"X2\": 3, \"grad_y\": -0.10258858328002106}, {\"raked_1\": 3, \"raked_2\": 4, \"X1\": 1, \"X2\": 4, \"grad_y\": -0.2439915157883309}, {\"raked_1\": 3, \"raked_2\": 4, \"X1\": 2, \"X2\": 4, \"grad_y\": -0.2447287665903564}, {\"raked_1\": 3, \"raked_2\": 4, \"X1\": 3, \"X2\": 4, \"grad_y\": 0.5886765539632665}, {\"raked_1\": 3, \"raked_2\": 4, \"X1\": 1, \"X2\": 5, \"grad_y\": 0.0532591322278558}, {\"raked_1\": 3, \"raked_2\": 4, \"X1\": 2, \"X2\": 5, \"grad_y\": 0.05674911025397488}, {\"raked_1\": 3, \"raked_2\": 4, \"X1\": 3, \"X2\": 5, \"grad_y\": -0.11278869654345823}]}}, {\"mode\": \"vega-lite\"});\n",
       "</script>"
      ],
      "text/plain": [
       "alt.LayerChart(...)"
      ]
     },
     "execution_count": 22,
     "metadata": {},
     "output_type": "execute_result"
    }
   ],
   "source": [
    "index = np.argmax(np.abs(df_y.grad_y))\n",
    "index_raked_1 = df_y.iloc[index].raked_1\n",
    "index_raked_2 = df_y.iloc[index].raked_2\n",
    "df_y_loc = df_y.loc[(df_y.raked_1==index_raked_1)&(df_y.raked_2==index_raked_2)]\n",
    "max_scale = max(abs(df_y_loc['grad_y'].min()), abs(df_y_loc['grad_y'].max()))\n",
    "\n",
    "base = alt.Chart(df_y_loc).encode(\n",
    "    x=alt.X('X1:N', axis=alt.Axis(title='X1')),\n",
    "    y=alt.Y('X2:N', axis=alt.Axis(title='X2')),\n",
    ")\n",
    "\n",
    "heatmap = base.mark_rect().encode(\n",
    "    color=alt.Color('grad_y:Q',\n",
    "        scale=alt.Scale(scheme='redblue', domain=[-max_scale, max_scale]),\n",
    "        legend=alt.Legend(title=['Effect of', 'all obs.']))\n",
    ")\n",
    "\n",
    "text = base.mark_text(baseline='middle').encode(\n",
    "    alt.Text('grad_y:Q', format='.2f')\n",
    ")\n",
    "\n",
    "chart = alt.layer(heatmap, text\n",
    ").properties(\n",
    "    title='X1 = ' + str(int(index_raked_1)) + ' - X2 = ' + str(int(index_raked_2)),\n",
    "    width=120,\n",
    "    height=180\n",
    ").configure_title(\n",
    "    fontSize=12\n",
    ").configure_axis(\n",
    "    labelFontSize=12,\n",
    "    titleFontSize=12\n",
    ").configure_legend(\n",
    "    labelFontSize=10,\n",
    "    titleFontSize=10\n",
    ")\n",
    "chart"
   ]
  },
  {
   "cell_type": "code",
   "execution_count": 23,
   "id": "89e1c1c7-c4c0-4dd2-9344-288e7e01f8d7",
   "metadata": {},
   "outputs": [],
   "source": [
    "delta_method = pd.DataFrame({'X1': x1, \\\n",
    "                             'X2': x2, \\\n",
    "                             'delta_method': np.diag(covariance_mean)})\n",
    "all_draws = pd.DataFrame({'X1': x1, \\\n",
    "                          'X2': x2, \\\n",
    "                          'all_draws': np.diag(covariance_draws)})\n",
    "df_both = delta_method.merge(all_draws, how='inner', \\\n",
    "    left_on=['X1', 'X2'], \\\n",
    "    right_on=['X1', 'X2'])\n",
    "min_x = min(df_both['delta_method'].min(), df_both['all_draws'].min())\n",
    "max_x = max(df_both['delta_method'].max(), df_both['all_draws'].max())\n",
    "chart = alt.Chart(df_both).mark_point(size=60).encode(\n",
    "    x=alt.X('all_draws:Q', scale=alt.Scale(domain=[min_x, max_x], zero=False), axis=alt.Axis(title='Using all draws')),\n",
    "    y=alt.Y('delta_method:Q', scale=alt.Scale(domain=[min_x, max_x], zero=False), axis=alt.Axis(title='Using delta method')),\n",
    "    color=alt.Color('X1:N', legend=alt.Legend(title='X1')),\n",
    "    shape=alt.Shape('X2:N', legend=alt.Legend(title='X2'))\n",
    ").configure_axis(\n",
    "    labelFontSize=24,\n",
    "    titleFontSize=24\n",
    ")"
   ]
  },
  {
   "cell_type": "code",
   "execution_count": 24,
   "id": "f02f04fb-b595-42e4-9bfa-0d3f446be60e",
   "metadata": {},
   "outputs": [
    {
     "data": {
      "text/html": [
       "\n",
       "<style>\n",
       "  #altair-viz-de9012b7fb344b62adea0c4ed3a689c8.vega-embed {\n",
       "    width: 100%;\n",
       "    display: flex;\n",
       "  }\n",
       "\n",
       "  #altair-viz-de9012b7fb344b62adea0c4ed3a689c8.vega-embed details,\n",
       "  #altair-viz-de9012b7fb344b62adea0c4ed3a689c8.vega-embed details summary {\n",
       "    position: relative;\n",
       "  }\n",
       "</style>\n",
       "<div id=\"altair-viz-de9012b7fb344b62adea0c4ed3a689c8\"></div>\n",
       "<script type=\"text/javascript\">\n",
       "  var VEGA_DEBUG = (typeof VEGA_DEBUG == \"undefined\") ? {} : VEGA_DEBUG;\n",
       "  (function(spec, embedOpt){\n",
       "    let outputDiv = document.currentScript.previousElementSibling;\n",
       "    if (outputDiv.id !== \"altair-viz-de9012b7fb344b62adea0c4ed3a689c8\") {\n",
       "      outputDiv = document.getElementById(\"altair-viz-de9012b7fb344b62adea0c4ed3a689c8\");\n",
       "    }\n",
       "    const paths = {\n",
       "      \"vega\": \"https://cdn.jsdelivr.net/npm/vega@5?noext\",\n",
       "      \"vega-lib\": \"https://cdn.jsdelivr.net/npm/vega-lib?noext\",\n",
       "      \"vega-lite\": \"https://cdn.jsdelivr.net/npm/vega-lite@5.17.0?noext\",\n",
       "      \"vega-embed\": \"https://cdn.jsdelivr.net/npm/vega-embed@6?noext\",\n",
       "    };\n",
       "\n",
       "    function maybeLoadScript(lib, version) {\n",
       "      var key = `${lib.replace(\"-\", \"\")}_version`;\n",
       "      return (VEGA_DEBUG[key] == version) ?\n",
       "        Promise.resolve(paths[lib]) :\n",
       "        new Promise(function(resolve, reject) {\n",
       "          var s = document.createElement('script');\n",
       "          document.getElementsByTagName(\"head\")[0].appendChild(s);\n",
       "          s.async = true;\n",
       "          s.onload = () => {\n",
       "            VEGA_DEBUG[key] = version;\n",
       "            return resolve(paths[lib]);\n",
       "          };\n",
       "          s.onerror = () => reject(`Error loading script: ${paths[lib]}`);\n",
       "          s.src = paths[lib];\n",
       "        });\n",
       "    }\n",
       "\n",
       "    function showError(err) {\n",
       "      outputDiv.innerHTML = `<div class=\"error\" style=\"color:red;\">${err}</div>`;\n",
       "      throw err;\n",
       "    }\n",
       "\n",
       "    function displayChart(vegaEmbed) {\n",
       "      vegaEmbed(outputDiv, spec, embedOpt)\n",
       "        .catch(err => showError(`Javascript Error: ${err.message}<br>This usually means there's a typo in your chart specification. See the javascript console for the full traceback.`));\n",
       "    }\n",
       "\n",
       "    if(typeof define === \"function\" && define.amd) {\n",
       "      requirejs.config({paths});\n",
       "      require([\"vega-embed\"], displayChart, err => showError(`Error loading script: ${err.message}`));\n",
       "    } else {\n",
       "      maybeLoadScript(\"vega\", \"5\")\n",
       "        .then(() => maybeLoadScript(\"vega-lite\", \"5.17.0\"))\n",
       "        .then(() => maybeLoadScript(\"vega-embed\", \"6\"))\n",
       "        .catch(showError)\n",
       "        .then(() => displayChart(vegaEmbed));\n",
       "    }\n",
       "  })({\"config\": {\"view\": {\"continuousWidth\": 300, \"continuousHeight\": 300}, \"axis\": {\"labelFontSize\": 24, \"titleFontSize\": 24}}, \"data\": {\"name\": \"data-bb854da09f4ff59a8f9a4cf014249696\"}, \"mark\": {\"type\": \"point\", \"size\": 60}, \"encoding\": {\"color\": {\"field\": \"X1\", \"legend\": {\"title\": \"X1\"}, \"type\": \"nominal\"}, \"shape\": {\"field\": \"X2\", \"legend\": {\"title\": \"X2\"}, \"type\": \"nominal\"}, \"x\": {\"axis\": {\"title\": \"Using all draws\"}, \"field\": \"all_draws\", \"scale\": {\"domain\": [0.011578968199206596, 0.06532931703752383], \"zero\": false}, \"type\": \"quantitative\"}, \"y\": {\"axis\": {\"title\": \"Using delta method\"}, \"field\": \"delta_method\", \"scale\": {\"domain\": [0.011578968199206596, 0.06532931703752383], \"zero\": false}, \"type\": \"quantitative\"}}, \"$schema\": \"https://vega.github.io/schema/vega-lite/v5.17.0.json\", \"datasets\": {\"data-bb854da09f4ff59a8f9a4cf014249696\": [{\"X1\": 1, \"X2\": 1, \"delta_method\": 0.011578968199206596, \"all_draws\": 0.012858812236527722}, {\"X1\": 2, \"X2\": 1, \"delta_method\": 0.013392362829807916, \"all_draws\": 0.013880887974754121}, {\"X1\": 3, \"X2\": 1, \"delta_method\": 0.01632029118083841, \"all_draws\": 0.019321083690182577}, {\"X1\": 1, \"X2\": 2, \"delta_method\": 0.022013721157906216, \"all_draws\": 0.022052677513134906}, {\"X1\": 2, \"X2\": 2, \"delta_method\": 0.02107803415655628, \"all_draws\": 0.023599268237272354}, {\"X1\": 3, \"X2\": 2, \"delta_method\": 0.033550292929619266, \"all_draws\": 0.027292359433148585}, {\"X1\": 1, \"X2\": 3, \"delta_method\": 0.039524368661623135, \"all_draws\": 0.034669198171221036}, {\"X1\": 2, \"X2\": 3, \"delta_method\": 0.036045783935404675, \"all_draws\": 0.04109538534406252}, {\"X1\": 3, \"X2\": 3, \"delta_method\": 0.03327727233663584, \"all_draws\": 0.03971632208687205}, {\"X1\": 1, \"X2\": 4, \"delta_method\": 0.050521966634211594, \"all_draws\": 0.0532195366299763}, {\"X1\": 2, \"X2\": 4, \"delta_method\": 0.0441191798530139, \"all_draws\": 0.05407974667692866}, {\"X1\": 3, \"X2\": 4, \"delta_method\": 0.06414225585277324, \"all_draws\": 0.06001053334694162}, {\"X1\": 1, \"X2\": 5, \"delta_method\": 0.05611480970554515, \"all_draws\": 0.059983936798114736}, {\"X1\": 2, \"X2\": 5, \"delta_method\": 0.058116702772003696, \"all_draws\": 0.061925959806354104}, {\"X1\": 3, \"X2\": 5, \"delta_method\": 0.06272079837429867, \"all_draws\": 0.06532931703752383}]}}, {\"mode\": \"vega-lite\"});\n",
       "</script>"
      ],
      "text/plain": [
       "alt.Chart(...)"
      ]
     },
     "execution_count": 24,
     "metadata": {},
     "output_type": "execute_result"
    }
   ],
   "source": [
    "chart"
   ]
  },
  {
   "cell_type": "code",
   "execution_count": null,
   "id": "c8e24404-0abe-4628-933e-e099f3c28060",
   "metadata": {},
   "outputs": [],
   "source": []
  }
 ],
 "metadata": {
  "kernelspec": {
   "display_name": "Python 3 (ipykernel)",
   "language": "python",
   "name": "python3"
  },
  "language_info": {
   "codemirror_mode": {
    "name": "ipython",
    "version": 3
   },
   "file_extension": ".py",
   "mimetype": "text/x-python",
   "name": "python",
   "nbconvert_exporter": "python",
   "pygments_lexer": "ipython3",
   "version": "3.12.4"
  }
 },
 "nbformat": 4,
 "nbformat_minor": 5
}
